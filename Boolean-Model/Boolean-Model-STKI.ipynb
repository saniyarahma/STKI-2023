{
 "cells": [
  {
   "cell_type": "markdown",
   "id": "107564b0",
   "metadata": {},
   "source": [
    "# BOOLEAN MODEL"
   ]
  },
  {
   "cell_type": "markdown",
   "id": "469228e0",
   "metadata": {},
   "source": [
    "Downloading stopwards"
   ]
  },
  {
   "cell_type": "code",
   "execution_count": 2,
   "id": "35ec637b",
   "metadata": {},
   "outputs": [
    {
     "name": "stderr",
     "output_type": "stream",
     "text": [
      "[nltk_data] Downloading package stopwords to\n",
      "[nltk_data]     C:\\Users\\User\\AppData\\Roaming\\nltk_data...\n",
      "[nltk_data]   Unzipping corpora\\stopwords.zip.\n"
     ]
    },
    {
     "data": {
      "text/plain": [
       "True"
      ]
     },
     "execution_count": 2,
     "metadata": {},
     "output_type": "execute_result"
    }
   ],
   "source": [
    "import nltk\n",
    "nltk.download('stopwords')\n"
   ]
  },
  {
   "cell_type": "markdown",
   "id": "6f5be891",
   "metadata": {},
   "source": [
    "Import Library"
   ]
  },
  {
   "cell_type": "markdown",
   "id": "7e15a67d",
   "metadata": {},
   "source": [
    "import nltk\n",
    "from nltk.corpus import stopwords\n",
    "from nltk.stem import WordNetLemmatizer, PorterStemmer\n",
    "from nltk.tokenize import sent_tokenize , word_tokenize\n",
    "import glob\n",
    "import re\n",
    "import os\n",
    "import numpy as np\n",
    "import sys\n",
    "Stopwords = set(stopwords.words('english'))"
   ]
  },
  {
   "cell_type": "markdown",
   "id": "dd7b7226",
   "metadata": {},
   "source": [
    "Implementing helper functions"
   ]
  },
  {
   "cell_type": "code",
   "execution_count": 4,
   "id": "c6dec18e",
   "metadata": {},
   "outputs": [],
   "source": [
    "def finding_all_unique_words_and_freq(words):\n",
    "    words_unique = []\n",
    "    word_freq = {}\n",
    "    for word in words:\n",
    "        if word not in words_unique:\n",
    "            words_unique.append(word)\n",
    "    for word in words_unique:\n",
    "        word_freq[word] = words.count(word)\n",
    "    return word_freq\n",
    "def finding_freq_of_word_in_doc(word,words):\n",
    "    freq = words.count(word)\n",
    "        \n",
    "def remove_special_characters(text):\n",
    "    regex = re.compile('[^a-zA-Z0-9\\s]')\n",
    "    text_returned = re.sub(regex,'',text)\n",
    "    return text_returned"
   ]
  },
  {
   "cell_type": "markdown",
   "id": "5603663b",
   "metadata": {},
   "source": [
    "Finding the set of unique words from dataset"
   ]
  },
  {
   "cell_type": "code",
   "execution_count": 6,
   "id": "dca1a13a",
   "metadata": {},
   "outputs": [
    {
     "name": "stdout",
     "output_type": "stream",
     "text": [
      "data\\A DEAD BODY.txt\n",
      "data\\A HAPPY ENDING.txt\n",
      "data\\THE HORSE-STEALERS.txt\n",
      "data\\THE PETCHENYEG.txt\n",
      "data\\WARD NO. 6.txt\n"
     ]
    }
   ],
   "source": [
    "all_words = []\n",
    "dict_global = {}\n",
    "file_folder = 'data/*'\n",
    "idx = 1\n",
    "files_with_index = {}\n",
    "\n",
    "for file in glob.glob(file_folder):\n",
    "    print(file)\n",
    "    with open(file, \"r\", encoding=\"utf-8\") as file:  # Specify UTF-8 encoding\n",
    "        text = file.read()\n",
    "        text = remove_special_characters(text)\n",
    "        text = re.sub(r'\\d', '', text)  # Use raw string for regular expression\n",
    "        sentences = sent_tokenize(text)\n",
    "        words = word_tokenize(text)\n",
    "        words = [word for word in words if len(word) > 1]  # Use 'word' instead of 'words'\n",
    "        words = [word.lower() for word in words]\n",
    "        words = [word for word in words if word not in Stopwords]\n",
    "        dict_global.update(finding_all_unique_words_and_freq(words))\n",
    "        files_with_index[idx] = os.path.basename(file.name)\n",
    "        idx += 1\n",
    "\n",
    "unique_words_all = set(dict_global.keys())"
   ]
  },
  {
   "cell_type": "code",
   "execution_count": 7,
   "id": "82f6d6b5",
   "metadata": {},
   "outputs": [],
   "source": [
    "class Node:\n",
    "    def __init__(self ,docId, freq = None):\n",
    "        self.freq = freq\n",
    "        self.doc = docId\n",
    "        self.nextval = None\n",
    "    \n",
    "class SlinkedList:\n",
    "    def __init__(self ,head = None):\n",
    "        self.head = head"
   ]
  },
  {
   "cell_type": "markdown",
   "id": "77d1c602",
   "metadata": {},
   "source": [
    "Creating a linked list for individual words and storing all the nodes within the linked list"
   ]
  },
  {
   "cell_type": "code",
   "execution_count": 11,
   "id": "04f53f03",
   "metadata": {},
   "outputs": [],
   "source": [
    "linked_list_data = {}\n",
    "for word in unique_words_all:\n",
    "    linked_list_data[word] = SlinkedList()\n",
    "    linked_list_data[word].head = Node(1, None)  # Fix Node initialization\n",
    "\n",
    "idx = 1\n",
    "for file in glob.glob(file_folder):\n",
    "    with open(file, \"r\", encoding=\"utf-8\") as file:\n",
    "        text = file.read()\n",
    "        text = remove_special_characters(text)\n",
    "        text = re.sub(re.compile('\\d'),'',text)\n",
    "        sentences = sent_tokenize(text)\n",
    "        words = word_tokenize(text)\n",
    "        words = [word for word in words if len(word) > 1]  # Fix len(words) to len(word)\n",
    "        words = [word.lower() for word in words]\n",
    "        words = [word for word in words if word not in Stopwords]\n",
    "        word_freq_in_doc = finding_all_unique_words_and_freq(words)\n",
    "        for word in word_freq_in_doc.keys():\n",
    "            if word in unique_words_all:  # Check if word is in unique_words_all\n",
    "                linked_list = linked_list_data[word].head\n",
    "                while linked_list.nextval is not None:\n",
    "                    linked_list = linked_list.nextval\n",
    "                linked_list.nextval = Node(idx, word_freq_in_doc[word])\n",
    "        idx = idx + 1\n"
   ]
  },
  {
   "cell_type": "markdown",
   "id": "9932e96f",
   "metadata": {},
   "source": [
    "Handling queries and creating results"
   ]
  },
  {
   "cell_type": "code",
   "execution_count": 12,
   "id": "f99bbae3",
   "metadata": {},
   "outputs": [
    {
     "name": "stdout",
     "output_type": "stream",
     "text": [
      "Enter your query:dead\n",
      "[]\n",
      "dead\n",
      "[[1, 0, 1, 1, 1]]\n",
      "[]\n"
     ]
    }
   ],
   "source": [
    "query = input('Enter your query:')\n",
    "query = word_tokenize(query)\n",
    "connecting_words = []\n",
    "cnt = 1\n",
    "different_words = []\n",
    "bitwise_op = []\n",
    "for word in query:\n",
    "    if word.lower() != \"and\" and word.lower() != \"or\" and word.lower() != \"not\":\n",
    "        different_words.append(word.lower())\n",
    "    else:\n",
    "        connecting_words.append(word.lower())\n",
    "print(connecting_words)\n",
    "total_files = len(files_with_index)\n",
    "zeroes_and_ones = []\n",
    "zeroes_and_ones_of_all_words = []\n",
    "for word in (different_words):\n",
    "    if word.lower() in unique_words_all:\n",
    "        zeroes_and_ones = [0] * total_files\n",
    "        linkedlist = linked_list_data[word].head\n",
    "        print(word)\n",
    "        while linkedlist.nextval is not None:\n",
    "            zeroes_and_ones[linkedlist.nextval.doc - 1] = 1\n",
    "            linkedlist = linkedlist.nextval\n",
    "        zeroes_and_ones_of_all_words.append(zeroes_and_ones)\n",
    "    else:\n",
    "        print(word,\" not found\")\n",
    "        sys.exit()\n",
    "print(zeroes_and_ones_of_all_words)\n",
    "for word in connecting_words:\n",
    "    word_list1 = zeroes_and_ones_of_all_words[0]\n",
    "    word_list2 = zeroes_and_ones_of_all_words[1]\n",
    "    if word == \"and\":\n",
    "        bitwise_op = [w1 & w2 for (w1,w2) in zip(word_list1,word_list2)]\n",
    "        zeroes_and_ones_of_all_words.remove(word_list1)\n",
    "        zeroes_and_ones_of_all_words.remove(word_list2)\n",
    "        zeroes_and_ones_of_all_words.insert(0, bitwise_op);\n",
    "    elif word == \"or\":\n",
    "        bitwise_op = [w1 | w2 for (w1,w2) in zip(word_list1,word_list2)]\n",
    "        zeroes_and_ones_of_all_words.remove(word_list1)\n",
    "        zeroes_and_ones_of_all_words.remove(word_list2)\n",
    "        zeroes_and_ones_of_all_words.insert(0, bitwise_op);\n",
    "    elif word == \"not\":\n",
    "        bitwise_op = [not w1 for w1 in word_list2]\n",
    "        bitwise_op = [int(b == True) for b in bitwise_op]\n",
    "        zeroes_and_ones_of_all_words.remove(word_list2)\n",
    "        zeroes_and_ones_of_all_words.remove(word_list1)\n",
    "        bitwise_op = [w1 & w2 for (w1,w2) in zip(word_list1,bitwise_op)]\n",
    "zeroes_and_ones_of_all_words.insert(0, bitwise_op);\n",
    "        \n",
    "files = []    \n",
    "# print(zeroes_and_ones_of_all_words)\n",
    "lis = zeroes_and_ones_of_all_words[0]\n",
    "cnt = 1\n",
    "for index in lis:\n",
    "    if index == 1:\n",
    "        files.append(files_with_index[cnt])\n",
    "    cnt = cnt+1\n",
    "    \n",
    "print(files)"
   ]
  },
  {
   "cell_type": "code",
   "execution_count": null,
   "id": "b697b52c",
   "metadata": {},
   "outputs": [],
   "source": []
  }
 ],
 "metadata": {
  "kernelspec": {
   "display_name": "Python 3 (ipykernel)",
   "language": "python",
   "name": "python3"
  },
  "language_info": {
   "codemirror_mode": {
    "name": "ipython",
    "version": 3
   },
   "file_extension": ".py",
   "mimetype": "text/x-python",
   "name": "python",
   "nbconvert_exporter": "python",
   "pygments_lexer": "ipython3",
   "version": "3.10.9"
  }
 },
 "nbformat": 4,
 "nbformat_minor": 5
}
