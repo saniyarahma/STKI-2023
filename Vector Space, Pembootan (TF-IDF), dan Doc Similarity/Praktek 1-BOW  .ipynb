{
 "cells": [
  {
   "cell_type": "markdown",
   "id": "65a725af",
   "metadata": {},
   "source": [
    "# Praktikum BOW (1)"
   ]
  },
  {
   "cell_type": "code",
   "execution_count": 27,
   "id": "d6423d19",
   "metadata": {},
   "outputs": [],
   "source": [
    "import pandas as pd\n",
    "import numpy as np"
   ]
  },
  {
   "cell_type": "code",
   "execution_count": 28,
   "id": "a009ad30",
   "metadata": {},
   "outputs": [],
   "source": [
    "dataset = pd.read_csv('clean_dataset_film_stem.csv',sep=';')"
   ]
  },
  {
   "cell_type": "code",
   "execution_count": 29,
   "id": "dda5ee42",
   "metadata": {},
   "outputs": [
    {
     "data": {
      "text/plain": [
       "(200, 10)"
      ]
     },
     "execution_count": 29,
     "metadata": {},
     "output_type": "execute_result"
    }
   ],
   "source": [
    "dataset.shape"
   ]
  },
  {
   "cell_type": "code",
   "execution_count": 30,
   "id": "283d218b",
   "metadata": {},
   "outputs": [
    {
     "data": {
      "text/html": [
       "<div>\n",
       "<style scoped>\n",
       "    .dataframe tbody tr th:only-of-type {\n",
       "        vertical-align: middle;\n",
       "    }\n",
       "\n",
       "    .dataframe tbody tr th {\n",
       "        vertical-align: top;\n",
       "    }\n",
       "\n",
       "    .dataframe thead th {\n",
       "        text-align: right;\n",
       "    }\n",
       "</style>\n",
       "<table border=\"1\" class=\"dataframe\">\n",
       "  <thead>\n",
       "    <tr style=\"text-align: right;\">\n",
       "      <th></th>\n",
       "      <th>Unnamed: 0.1</th>\n",
       "      <th>Unnamed: 0</th>\n",
       "      <th>Sentiment</th>\n",
       "      <th>Text Tweet</th>\n",
       "      <th>step01</th>\n",
       "      <th>tokens</th>\n",
       "      <th>final_tokens</th>\n",
       "      <th>step02</th>\n",
       "      <th>finalText_str</th>\n",
       "      <th>ProcessedText</th>\n",
       "    </tr>\n",
       "  </thead>\n",
       "  <tbody>\n",
       "    <tr>\n",
       "      <th>0</th>\n",
       "      <td>0</td>\n",
       "      <td>0</td>\n",
       "      <td>negative</td>\n",
       "      <td>Jelek filmnya... apalagi si ernest gak mutu bg...</td>\n",
       "      <td>jelek filmnya apalagi si ernest gak mutu bgt a...</td>\n",
       "      <td>['jelek', 'filmnya', 'apalagi', 'si', 'ernest'...</td>\n",
       "      <td>['jelek', 'filmnya', 'apalagi', 'si', 'ernest'...</td>\n",
       "      <td>jelek filmnya apalagi si ernest gak mutu bgt a...</td>\n",
       "      <td>jelek filmnya apalagi si ernest gak mutu bgt a...</td>\n",
       "      <td>jelek film si ernest gak mutu bgt actingnya fi...</td>\n",
       "    </tr>\n",
       "    <tr>\n",
       "      <th>1</th>\n",
       "      <td>1</td>\n",
       "      <td>1</td>\n",
       "      <td>negative</td>\n",
       "      <td>Film king Arthur ini film paling jelek dari se...</td>\n",
       "      <td>film king arthur ini film paling jelek dari se...</td>\n",
       "      <td>['film', 'king', 'arthur', 'ini', 'film', 'pal...</td>\n",
       "      <td>['film', 'king', 'arthur', 'ini', 'film', 'pal...</td>\n",
       "      <td>film king arthur ini film paling jelek dari se...</td>\n",
       "      <td>film king arthur ini film paling jelek dari se...</td>\n",
       "      <td>film king arthur film paling jelek seluruh cer...</td>\n",
       "    </tr>\n",
       "    <tr>\n",
       "      <th>2</th>\n",
       "      <td>2</td>\n",
       "      <td>2</td>\n",
       "      <td>negative</td>\n",
       "      <td>@beexkuanlin Sepanjang film gwa berkata kasar ...</td>\n",
       "      <td>bee sepanjang film gwa berkata kasar terus pad...</td>\n",
       "      <td>['bee', 'sepanjang', 'film', 'gwa', 'berkata',...</td>\n",
       "      <td>['bee', 'sepanjang', 'film', 'gwa', 'berkata',...</td>\n",
       "      <td>bee sepanjang film gwa berkata kasar terus pad...</td>\n",
       "      <td>bee sepanjang film gwa berkata kasar terus pad...</td>\n",
       "      <td>bee panjang film gwa kata kasar terus bapak</td>\n",
       "    </tr>\n",
       "    <tr>\n",
       "      <th>3</th>\n",
       "      <td>3</td>\n",
       "      <td>3</td>\n",
       "      <td>negative</td>\n",
       "      <td>Ane ga suka fast and furious..menurutku kok je...</td>\n",
       "      <td>ane ga suka fast and furious menurutku kok jel...</td>\n",
       "      <td>['ane', 'ga', 'suka', 'fast', 'and', 'furious'...</td>\n",
       "      <td>['ane', 'ga', 'suka', 'fast', 'and', 'furious'...</td>\n",
       "      <td>ane ga suka fast and furious menurutku kok jel...</td>\n",
       "      <td>ane ga suka fast and furious menurutku kok jel...</td>\n",
       "      <td>ane ga suka fast and furious turut kok jelek t...</td>\n",
       "    </tr>\n",
       "    <tr>\n",
       "      <th>4</th>\n",
       "      <td>4</td>\n",
       "      <td>4</td>\n",
       "      <td>negative</td>\n",
       "      <td>@baekhyun36 kan gua ga tau film nya, lu bilang...</td>\n",
       "      <td>baekhyun kan gua ga tau film nya lu bilang per...</td>\n",
       "      <td>['baekhyun', 'kan', 'gua', 'ga', 'tau', 'film'...</td>\n",
       "      <td>['baekhyun', 'kan', 'gua', 'ga', 'tau', 'film'...</td>\n",
       "      <td>baekhyun kan gua ga tau film nya lu bilang per...</td>\n",
       "      <td>baekhyun kan gua ga tau film nya lu bilang per...</td>\n",
       "      <td>baekhyun kan gua ga tau film lu bilang perang ...</td>\n",
       "    </tr>\n",
       "    <tr>\n",
       "      <th>5</th>\n",
       "      <td>5</td>\n",
       "      <td>5</td>\n",
       "      <td>negative</td>\n",
       "      <td>tolong editingnya yg bagus ya. Saya sering kec...</td>\n",
       "      <td>tolong editingnya yg bagus ya saya sering kece...</td>\n",
       "      <td>['tolong', 'editingnya', 'yg', 'bagus', 'ya', ...</td>\n",
       "      <td>['tolong', 'editingnya', 'yg', 'bagus', 'ya', ...</td>\n",
       "      <td>tolong editingnya yg bagus ya saya sering kece...</td>\n",
       "      <td>tolong editingnya yg bagus ya saya sering kece...</td>\n",
       "      <td>editingnya bagus saya sering kecewa dgn film i...</td>\n",
       "    </tr>\n",
       "    <tr>\n",
       "      <th>6</th>\n",
       "      <td>6</td>\n",
       "      <td>6</td>\n",
       "      <td>negative</td>\n",
       "      <td>Kecewa dgn salah satu aktornya yg ternyata pen...</td>\n",
       "      <td>kecewa dgn salah satu aktornya yg ternyata pen...</td>\n",
       "      <td>['kecewa', 'dgn', 'salah', 'satu', 'aktornya',...</td>\n",
       "      <td>['kecewa', 'dgn', 'salah', 'satu', 'aktornya',...</td>\n",
       "      <td>kecewa dgn salah satu aktornya yg ternyata pen...</td>\n",
       "      <td>kecewa dgn salah satu aktornya yg ternyata pen...</td>\n",
       "      <td>kecewa dgn salah satu aktor nyata dukung nista...</td>\n",
       "    </tr>\n",
       "    <tr>\n",
       "      <th>7</th>\n",
       "      <td>7</td>\n",
       "      <td>7</td>\n",
       "      <td>negative</td>\n",
       "      <td>Kecewa parah sama film the guys. Dear @raditya...</td>\n",
       "      <td>kecewa parah sama film the guys dear radityadi...</td>\n",
       "      <td>['kecewa', 'parah', 'sama', 'film', 'the', 'gu...</td>\n",
       "      <td>['kecewa', 'parah', 'sama', 'film', 'the', 'gu...</td>\n",
       "      <td>kecewa parah sama film the guys dear radityadi...</td>\n",
       "      <td>kecewa parah sama film the guys dear radityadi...</td>\n",
       "      <td>kecewa parah sama film the guys dear radityadi...</td>\n",
       "    </tr>\n",
       "    <tr>\n",
       "      <th>8</th>\n",
       "      <td>8</td>\n",
       "      <td>8</td>\n",
       "      <td>negative</td>\n",
       "      <td>Banyak yg kecewa abis nonton film ini :(</td>\n",
       "      <td>banyak yg kecewa abis nonton film ini</td>\n",
       "      <td>['banyak', 'yg', 'kecewa', 'abis', 'nonton', '...</td>\n",
       "      <td>['banyak', 'yg', 'kecewa', 'abis', 'nonton', '...</td>\n",
       "      <td>banyak yg kecewa abis nonton film ini</td>\n",
       "      <td>banyak yg kecewa abis nonton film ini</td>\n",
       "      <td>banyak kecewa abis nonton film</td>\n",
       "    </tr>\n",
       "    <tr>\n",
       "      <th>9</th>\n",
       "      <td>9</td>\n",
       "      <td>9</td>\n",
       "      <td>negative</td>\n",
       "      <td>#TheMummy 2017 adalah film yang paling memgece...</td>\n",
       "      <td>adalah film yang paling memgecewakan saya se...</td>\n",
       "      <td>['adalah', 'film', 'yang', 'paling', 'memgecew...</td>\n",
       "      <td>['adalah', 'film', 'yang', 'paling', 'memgecew...</td>\n",
       "      <td>adalah film yang paling memgecewakan saya sela...</td>\n",
       "      <td>adalah film yang paling memgecewakan saya sela...</td>\n",
       "      <td>film paling memgecewakan lama hidup yah padaha...</td>\n",
       "    </tr>\n",
       "  </tbody>\n",
       "</table>\n",
       "</div>"
      ],
      "text/plain": [
       "   Unnamed: 0.1  Unnamed: 0 Sentiment  \\\n",
       "0             0           0  negative   \n",
       "1             1           1  negative   \n",
       "2             2           2  negative   \n",
       "3             3           3  negative   \n",
       "4             4           4  negative   \n",
       "5             5           5  negative   \n",
       "6             6           6  negative   \n",
       "7             7           7  negative   \n",
       "8             8           8  negative   \n",
       "9             9           9  negative   \n",
       "\n",
       "                                          Text Tweet  \\\n",
       "0  Jelek filmnya... apalagi si ernest gak mutu bg...   \n",
       "1  Film king Arthur ini film paling jelek dari se...   \n",
       "2  @beexkuanlin Sepanjang film gwa berkata kasar ...   \n",
       "3  Ane ga suka fast and furious..menurutku kok je...   \n",
       "4  @baekhyun36 kan gua ga tau film nya, lu bilang...   \n",
       "5  tolong editingnya yg bagus ya. Saya sering kec...   \n",
       "6  Kecewa dgn salah satu aktornya yg ternyata pen...   \n",
       "7  Kecewa parah sama film the guys. Dear @raditya...   \n",
       "8           Banyak yg kecewa abis nonton film ini :(   \n",
       "9  #TheMummy 2017 adalah film yang paling memgece...   \n",
       "\n",
       "                                              step01  \\\n",
       "0  jelek filmnya apalagi si ernest gak mutu bgt a...   \n",
       "1  film king arthur ini film paling jelek dari se...   \n",
       "2  bee sepanjang film gwa berkata kasar terus pad...   \n",
       "3  ane ga suka fast and furious menurutku kok jel...   \n",
       "4  baekhyun kan gua ga tau film nya lu bilang per...   \n",
       "5  tolong editingnya yg bagus ya saya sering kece...   \n",
       "6  kecewa dgn salah satu aktornya yg ternyata pen...   \n",
       "7  kecewa parah sama film the guys dear radityadi...   \n",
       "8              banyak yg kecewa abis nonton film ini   \n",
       "9    adalah film yang paling memgecewakan saya se...   \n",
       "\n",
       "                                              tokens  \\\n",
       "0  ['jelek', 'filmnya', 'apalagi', 'si', 'ernest'...   \n",
       "1  ['film', 'king', 'arthur', 'ini', 'film', 'pal...   \n",
       "2  ['bee', 'sepanjang', 'film', 'gwa', 'berkata',...   \n",
       "3  ['ane', 'ga', 'suka', 'fast', 'and', 'furious'...   \n",
       "4  ['baekhyun', 'kan', 'gua', 'ga', 'tau', 'film'...   \n",
       "5  ['tolong', 'editingnya', 'yg', 'bagus', 'ya', ...   \n",
       "6  ['kecewa', 'dgn', 'salah', 'satu', 'aktornya',...   \n",
       "7  ['kecewa', 'parah', 'sama', 'film', 'the', 'gu...   \n",
       "8  ['banyak', 'yg', 'kecewa', 'abis', 'nonton', '...   \n",
       "9  ['adalah', 'film', 'yang', 'paling', 'memgecew...   \n",
       "\n",
       "                                        final_tokens  \\\n",
       "0  ['jelek', 'filmnya', 'apalagi', 'si', 'ernest'...   \n",
       "1  ['film', 'king', 'arthur', 'ini', 'film', 'pal...   \n",
       "2  ['bee', 'sepanjang', 'film', 'gwa', 'berkata',...   \n",
       "3  ['ane', 'ga', 'suka', 'fast', 'and', 'furious'...   \n",
       "4  ['baekhyun', 'kan', 'gua', 'ga', 'tau', 'film'...   \n",
       "5  ['tolong', 'editingnya', 'yg', 'bagus', 'ya', ...   \n",
       "6  ['kecewa', 'dgn', 'salah', 'satu', 'aktornya',...   \n",
       "7  ['kecewa', 'parah', 'sama', 'film', 'the', 'gu...   \n",
       "8  ['banyak', 'yg', 'kecewa', 'abis', 'nonton', '...   \n",
       "9  ['adalah', 'film', 'yang', 'paling', 'memgecew...   \n",
       "\n",
       "                                              step02  \\\n",
       "0  jelek filmnya apalagi si ernest gak mutu bgt a...   \n",
       "1  film king arthur ini film paling jelek dari se...   \n",
       "2  bee sepanjang film gwa berkata kasar terus pad...   \n",
       "3  ane ga suka fast and furious menurutku kok jel...   \n",
       "4  baekhyun kan gua ga tau film nya lu bilang per...   \n",
       "5  tolong editingnya yg bagus ya saya sering kece...   \n",
       "6  kecewa dgn salah satu aktornya yg ternyata pen...   \n",
       "7  kecewa parah sama film the guys dear radityadi...   \n",
       "8              banyak yg kecewa abis nonton film ini   \n",
       "9  adalah film yang paling memgecewakan saya sela...   \n",
       "\n",
       "                                       finalText_str  \\\n",
       "0  jelek filmnya apalagi si ernest gak mutu bgt a...   \n",
       "1  film king arthur ini film paling jelek dari se...   \n",
       "2  bee sepanjang film gwa berkata kasar terus pad...   \n",
       "3  ane ga suka fast and furious menurutku kok jel...   \n",
       "4  baekhyun kan gua ga tau film nya lu bilang per...   \n",
       "5  tolong editingnya yg bagus ya saya sering kece...   \n",
       "6  kecewa dgn salah satu aktornya yg ternyata pen...   \n",
       "7  kecewa parah sama film the guys dear radityadi...   \n",
       "8              banyak yg kecewa abis nonton film ini   \n",
       "9  adalah film yang paling memgecewakan saya sela...   \n",
       "\n",
       "                                       ProcessedText  \n",
       "0  jelek film si ernest gak mutu bgt actingnya fi...  \n",
       "1  film king arthur film paling jelek seluruh cer...  \n",
       "2        bee panjang film gwa kata kasar terus bapak  \n",
       "3  ane ga suka fast and furious turut kok jelek t...  \n",
       "4  baekhyun kan gua ga tau film lu bilang perang ...  \n",
       "5  editingnya bagus saya sering kecewa dgn film i...  \n",
       "6  kecewa dgn salah satu aktor nyata dukung nista...  \n",
       "7  kecewa parah sama film the guys dear radityadi...  \n",
       "8                     banyak kecewa abis nonton film  \n",
       "9  film paling memgecewakan lama hidup yah padaha...  "
      ]
     },
     "execution_count": 30,
     "metadata": {},
     "output_type": "execute_result"
    }
   ],
   "source": [
    "dataset.head(10)"
   ]
  },
  {
   "cell_type": "code",
   "execution_count": 32,
   "id": "1ed57e5b",
   "metadata": {},
   "outputs": [],
   "source": [
    "map = {'negative':0,'positive':1}\n",
    "dataset.replace({'Sentiment' : map},inplace = True)"
   ]
  },
  {
   "cell_type": "code",
   "execution_count": 37,
   "id": "c9381dc5",
   "metadata": {},
   "outputs": [
    {
     "data": {
      "text/html": [
       "<div>\n",
       "<style scoped>\n",
       "    .dataframe tbody tr th:only-of-type {\n",
       "        vertical-align: middle;\n",
       "    }\n",
       "\n",
       "    .dataframe tbody tr th {\n",
       "        vertical-align: top;\n",
       "    }\n",
       "\n",
       "    .dataframe thead th {\n",
       "        text-align: right;\n",
       "    }\n",
       "</style>\n",
       "<table border=\"1\" class=\"dataframe\">\n",
       "  <thead>\n",
       "    <tr style=\"text-align: right;\">\n",
       "      <th></th>\n",
       "      <th>Unnamed: 0.1</th>\n",
       "      <th>Unnamed: 0</th>\n",
       "      <th>Sentiment</th>\n",
       "      <th>Text Tweet</th>\n",
       "      <th>step01</th>\n",
       "      <th>tokens</th>\n",
       "      <th>final_tokens</th>\n",
       "      <th>step02</th>\n",
       "      <th>finalText_str</th>\n",
       "      <th>ProcessedText</th>\n",
       "    </tr>\n",
       "  </thead>\n",
       "  <tbody>\n",
       "    <tr>\n",
       "      <th>0</th>\n",
       "      <td>0</td>\n",
       "      <td>0</td>\n",
       "      <td>0</td>\n",
       "      <td>Jelek filmnya... apalagi si ernest gak mutu bg...</td>\n",
       "      <td>jelek filmnya apalagi si ernest gak mutu bgt a...</td>\n",
       "      <td>['jelek', 'filmnya', 'apalagi', 'si', 'ernest'...</td>\n",
       "      <td>['jelek', 'filmnya', 'apalagi', 'si', 'ernest'...</td>\n",
       "      <td>jelek filmnya apalagi si ernest gak mutu bgt a...</td>\n",
       "      <td>jelek filmnya apalagi si ernest gak mutu bgt a...</td>\n",
       "      <td>jelek film si ernest gak mutu bgt actingnya fi...</td>\n",
       "    </tr>\n",
       "    <tr>\n",
       "      <th>1</th>\n",
       "      <td>1</td>\n",
       "      <td>1</td>\n",
       "      <td>0</td>\n",
       "      <td>Film king Arthur ini film paling jelek dari se...</td>\n",
       "      <td>film king arthur ini film paling jelek dari se...</td>\n",
       "      <td>['film', 'king', 'arthur', 'ini', 'film', 'pal...</td>\n",
       "      <td>['film', 'king', 'arthur', 'ini', 'film', 'pal...</td>\n",
       "      <td>film king arthur ini film paling jelek dari se...</td>\n",
       "      <td>film king arthur ini film paling jelek dari se...</td>\n",
       "      <td>film king arthur film paling jelek seluruh cer...</td>\n",
       "    </tr>\n",
       "    <tr>\n",
       "      <th>2</th>\n",
       "      <td>2</td>\n",
       "      <td>2</td>\n",
       "      <td>0</td>\n",
       "      <td>@beexkuanlin Sepanjang film gwa berkata kasar ...</td>\n",
       "      <td>bee sepanjang film gwa berkata kasar terus pad...</td>\n",
       "      <td>['bee', 'sepanjang', 'film', 'gwa', 'berkata',...</td>\n",
       "      <td>['bee', 'sepanjang', 'film', 'gwa', 'berkata',...</td>\n",
       "      <td>bee sepanjang film gwa berkata kasar terus pad...</td>\n",
       "      <td>bee sepanjang film gwa berkata kasar terus pad...</td>\n",
       "      <td>bee panjang film gwa kata kasar terus bapak</td>\n",
       "    </tr>\n",
       "    <tr>\n",
       "      <th>3</th>\n",
       "      <td>3</td>\n",
       "      <td>3</td>\n",
       "      <td>0</td>\n",
       "      <td>Ane ga suka fast and furious..menurutku kok je...</td>\n",
       "      <td>ane ga suka fast and furious menurutku kok jel...</td>\n",
       "      <td>['ane', 'ga', 'suka', 'fast', 'and', 'furious'...</td>\n",
       "      <td>['ane', 'ga', 'suka', 'fast', 'and', 'furious'...</td>\n",
       "      <td>ane ga suka fast and furious menurutku kok jel...</td>\n",
       "      <td>ane ga suka fast and furious menurutku kok jel...</td>\n",
       "      <td>ane ga suka fast and furious turut kok jelek t...</td>\n",
       "    </tr>\n",
       "    <tr>\n",
       "      <th>4</th>\n",
       "      <td>4</td>\n",
       "      <td>4</td>\n",
       "      <td>0</td>\n",
       "      <td>@baekhyun36 kan gua ga tau film nya, lu bilang...</td>\n",
       "      <td>baekhyun kan gua ga tau film nya lu bilang per...</td>\n",
       "      <td>['baekhyun', 'kan', 'gua', 'ga', 'tau', 'film'...</td>\n",
       "      <td>['baekhyun', 'kan', 'gua', 'ga', 'tau', 'film'...</td>\n",
       "      <td>baekhyun kan gua ga tau film nya lu bilang per...</td>\n",
       "      <td>baekhyun kan gua ga tau film nya lu bilang per...</td>\n",
       "      <td>baekhyun kan gua ga tau film lu bilang perang ...</td>\n",
       "    </tr>\n",
       "    <tr>\n",
       "      <th>5</th>\n",
       "      <td>5</td>\n",
       "      <td>5</td>\n",
       "      <td>0</td>\n",
       "      <td>tolong editingnya yg bagus ya. Saya sering kec...</td>\n",
       "      <td>tolong editingnya yg bagus ya saya sering kece...</td>\n",
       "      <td>['tolong', 'editingnya', 'yg', 'bagus', 'ya', ...</td>\n",
       "      <td>['tolong', 'editingnya', 'yg', 'bagus', 'ya', ...</td>\n",
       "      <td>tolong editingnya yg bagus ya saya sering kece...</td>\n",
       "      <td>tolong editingnya yg bagus ya saya sering kece...</td>\n",
       "      <td>editingnya bagus saya sering kecewa dgn film i...</td>\n",
       "    </tr>\n",
       "    <tr>\n",
       "      <th>6</th>\n",
       "      <td>6</td>\n",
       "      <td>6</td>\n",
       "      <td>0</td>\n",
       "      <td>Kecewa dgn salah satu aktornya yg ternyata pen...</td>\n",
       "      <td>kecewa dgn salah satu aktornya yg ternyata pen...</td>\n",
       "      <td>['kecewa', 'dgn', 'salah', 'satu', 'aktornya',...</td>\n",
       "      <td>['kecewa', 'dgn', 'salah', 'satu', 'aktornya',...</td>\n",
       "      <td>kecewa dgn salah satu aktornya yg ternyata pen...</td>\n",
       "      <td>kecewa dgn salah satu aktornya yg ternyata pen...</td>\n",
       "      <td>kecewa dgn salah satu aktor nyata dukung nista...</td>\n",
       "    </tr>\n",
       "    <tr>\n",
       "      <th>7</th>\n",
       "      <td>7</td>\n",
       "      <td>7</td>\n",
       "      <td>0</td>\n",
       "      <td>Kecewa parah sama film the guys. Dear @raditya...</td>\n",
       "      <td>kecewa parah sama film the guys dear radityadi...</td>\n",
       "      <td>['kecewa', 'parah', 'sama', 'film', 'the', 'gu...</td>\n",
       "      <td>['kecewa', 'parah', 'sama', 'film', 'the', 'gu...</td>\n",
       "      <td>kecewa parah sama film the guys dear radityadi...</td>\n",
       "      <td>kecewa parah sama film the guys dear radityadi...</td>\n",
       "      <td>kecewa parah sama film the guys dear radityadi...</td>\n",
       "    </tr>\n",
       "    <tr>\n",
       "      <th>8</th>\n",
       "      <td>8</td>\n",
       "      <td>8</td>\n",
       "      <td>0</td>\n",
       "      <td>Banyak yg kecewa abis nonton film ini :(</td>\n",
       "      <td>banyak yg kecewa abis nonton film ini</td>\n",
       "      <td>['banyak', 'yg', 'kecewa', 'abis', 'nonton', '...</td>\n",
       "      <td>['banyak', 'yg', 'kecewa', 'abis', 'nonton', '...</td>\n",
       "      <td>banyak yg kecewa abis nonton film ini</td>\n",
       "      <td>banyak yg kecewa abis nonton film ini</td>\n",
       "      <td>banyak kecewa abis nonton film</td>\n",
       "    </tr>\n",
       "    <tr>\n",
       "      <th>9</th>\n",
       "      <td>9</td>\n",
       "      <td>9</td>\n",
       "      <td>0</td>\n",
       "      <td>#TheMummy 2017 adalah film yang paling memgece...</td>\n",
       "      <td>adalah film yang paling memgecewakan saya se...</td>\n",
       "      <td>['adalah', 'film', 'yang', 'paling', 'memgecew...</td>\n",
       "      <td>['adalah', 'film', 'yang', 'paling', 'memgecew...</td>\n",
       "      <td>adalah film yang paling memgecewakan saya sela...</td>\n",
       "      <td>adalah film yang paling memgecewakan saya sela...</td>\n",
       "      <td>film paling memgecewakan lama hidup yah padaha...</td>\n",
       "    </tr>\n",
       "  </tbody>\n",
       "</table>\n",
       "</div>"
      ],
      "text/plain": [
       "   Unnamed: 0.1  Unnamed: 0  Sentiment  \\\n",
       "0             0           0          0   \n",
       "1             1           1          0   \n",
       "2             2           2          0   \n",
       "3             3           3          0   \n",
       "4             4           4          0   \n",
       "5             5           5          0   \n",
       "6             6           6          0   \n",
       "7             7           7          0   \n",
       "8             8           8          0   \n",
       "9             9           9          0   \n",
       "\n",
       "                                          Text Tweet  \\\n",
       "0  Jelek filmnya... apalagi si ernest gak mutu bg...   \n",
       "1  Film king Arthur ini film paling jelek dari se...   \n",
       "2  @beexkuanlin Sepanjang film gwa berkata kasar ...   \n",
       "3  Ane ga suka fast and furious..menurutku kok je...   \n",
       "4  @baekhyun36 kan gua ga tau film nya, lu bilang...   \n",
       "5  tolong editingnya yg bagus ya. Saya sering kec...   \n",
       "6  Kecewa dgn salah satu aktornya yg ternyata pen...   \n",
       "7  Kecewa parah sama film the guys. Dear @raditya...   \n",
       "8           Banyak yg kecewa abis nonton film ini :(   \n",
       "9  #TheMummy 2017 adalah film yang paling memgece...   \n",
       "\n",
       "                                              step01  \\\n",
       "0  jelek filmnya apalagi si ernest gak mutu bgt a...   \n",
       "1  film king arthur ini film paling jelek dari se...   \n",
       "2  bee sepanjang film gwa berkata kasar terus pad...   \n",
       "3  ane ga suka fast and furious menurutku kok jel...   \n",
       "4  baekhyun kan gua ga tau film nya lu bilang per...   \n",
       "5  tolong editingnya yg bagus ya saya sering kece...   \n",
       "6  kecewa dgn salah satu aktornya yg ternyata pen...   \n",
       "7  kecewa parah sama film the guys dear radityadi...   \n",
       "8              banyak yg kecewa abis nonton film ini   \n",
       "9    adalah film yang paling memgecewakan saya se...   \n",
       "\n",
       "                                              tokens  \\\n",
       "0  ['jelek', 'filmnya', 'apalagi', 'si', 'ernest'...   \n",
       "1  ['film', 'king', 'arthur', 'ini', 'film', 'pal...   \n",
       "2  ['bee', 'sepanjang', 'film', 'gwa', 'berkata',...   \n",
       "3  ['ane', 'ga', 'suka', 'fast', 'and', 'furious'...   \n",
       "4  ['baekhyun', 'kan', 'gua', 'ga', 'tau', 'film'...   \n",
       "5  ['tolong', 'editingnya', 'yg', 'bagus', 'ya', ...   \n",
       "6  ['kecewa', 'dgn', 'salah', 'satu', 'aktornya',...   \n",
       "7  ['kecewa', 'parah', 'sama', 'film', 'the', 'gu...   \n",
       "8  ['banyak', 'yg', 'kecewa', 'abis', 'nonton', '...   \n",
       "9  ['adalah', 'film', 'yang', 'paling', 'memgecew...   \n",
       "\n",
       "                                        final_tokens  \\\n",
       "0  ['jelek', 'filmnya', 'apalagi', 'si', 'ernest'...   \n",
       "1  ['film', 'king', 'arthur', 'ini', 'film', 'pal...   \n",
       "2  ['bee', 'sepanjang', 'film', 'gwa', 'berkata',...   \n",
       "3  ['ane', 'ga', 'suka', 'fast', 'and', 'furious'...   \n",
       "4  ['baekhyun', 'kan', 'gua', 'ga', 'tau', 'film'...   \n",
       "5  ['tolong', 'editingnya', 'yg', 'bagus', 'ya', ...   \n",
       "6  ['kecewa', 'dgn', 'salah', 'satu', 'aktornya',...   \n",
       "7  ['kecewa', 'parah', 'sama', 'film', 'the', 'gu...   \n",
       "8  ['banyak', 'yg', 'kecewa', 'abis', 'nonton', '...   \n",
       "9  ['adalah', 'film', 'yang', 'paling', 'memgecew...   \n",
       "\n",
       "                                              step02  \\\n",
       "0  jelek filmnya apalagi si ernest gak mutu bgt a...   \n",
       "1  film king arthur ini film paling jelek dari se...   \n",
       "2  bee sepanjang film gwa berkata kasar terus pad...   \n",
       "3  ane ga suka fast and furious menurutku kok jel...   \n",
       "4  baekhyun kan gua ga tau film nya lu bilang per...   \n",
       "5  tolong editingnya yg bagus ya saya sering kece...   \n",
       "6  kecewa dgn salah satu aktornya yg ternyata pen...   \n",
       "7  kecewa parah sama film the guys dear radityadi...   \n",
       "8              banyak yg kecewa abis nonton film ini   \n",
       "9  adalah film yang paling memgecewakan saya sela...   \n",
       "\n",
       "                                       finalText_str  \\\n",
       "0  jelek filmnya apalagi si ernest gak mutu bgt a...   \n",
       "1  film king arthur ini film paling jelek dari se...   \n",
       "2  bee sepanjang film gwa berkata kasar terus pad...   \n",
       "3  ane ga suka fast and furious menurutku kok jel...   \n",
       "4  baekhyun kan gua ga tau film nya lu bilang per...   \n",
       "5  tolong editingnya yg bagus ya saya sering kece...   \n",
       "6  kecewa dgn salah satu aktornya yg ternyata pen...   \n",
       "7  kecewa parah sama film the guys dear radityadi...   \n",
       "8              banyak yg kecewa abis nonton film ini   \n",
       "9  adalah film yang paling memgecewakan saya sela...   \n",
       "\n",
       "                                       ProcessedText  \n",
       "0  jelek film si ernest gak mutu bgt actingnya fi...  \n",
       "1  film king arthur film paling jelek seluruh cer...  \n",
       "2        bee panjang film gwa kata kasar terus bapak  \n",
       "3  ane ga suka fast and furious turut kok jelek t...  \n",
       "4  baekhyun kan gua ga tau film lu bilang perang ...  \n",
       "5  editingnya bagus saya sering kecewa dgn film i...  \n",
       "6  kecewa dgn salah satu aktor nyata dukung nista...  \n",
       "7  kecewa parah sama film the guys dear radityadi...  \n",
       "8                     banyak kecewa abis nonton film  \n",
       "9  film paling memgecewakan lama hidup yah padaha...  "
      ]
     },
     "execution_count": 37,
     "metadata": {},
     "output_type": "execute_result"
    }
   ],
   "source": [
    "dataset.head(10)"
   ]
  },
  {
   "cell_type": "code",
   "execution_count": 38,
   "id": "0b538a0e",
   "metadata": {},
   "outputs": [],
   "source": [
    "dataset_feature = dataset['ProcessedText']"
   ]
  },
  {
   "cell_type": "code",
   "execution_count": 39,
   "id": "1ed2afef",
   "metadata": {},
   "outputs": [],
   "source": [
    "dataset_label = dataset['Sentiment']"
   ]
  },
  {
   "cell_type": "code",
   "execution_count": 40,
   "id": "3e8e6acc",
   "metadata": {},
   "outputs": [
    {
     "data": {
      "text/plain": [
       "0      jelek film si ernest gak mutu bgt actingnya fi...\n",
       "1      film king arthur film paling jelek seluruh cer...\n",
       "2            bee panjang film gwa kata kasar terus bapak\n",
       "3      ane ga suka fast and furious turut kok jelek t...\n",
       "4      baekhyun kan gua ga tau film lu bilang perang ...\n",
       "                             ...                        \n",
       "195    fargo adaptasi film cukup hasil season the bes...\n",
       "196    waw sangat keren flm horor dng jumlah tonton g...\n",
       "197    filmziarah film tenang hanyut salut mbah ponco...\n",
       "198    film amat tarik kisah cinta setia saji tidak b...\n",
       "199    nntn filmziarah film bagus kali menit tonton g...\n",
       "Name: ProcessedText, Length: 200, dtype: object"
      ]
     },
     "execution_count": 40,
     "metadata": {},
     "output_type": "execute_result"
    }
   ],
   "source": [
    "dataset_feature"
   ]
  },
  {
   "cell_type": "code",
   "execution_count": 41,
   "id": "ce6d5018",
   "metadata": {},
   "outputs": [
    {
     "data": {
      "text/plain": [
       "0      0\n",
       "1      0\n",
       "2      0\n",
       "3      0\n",
       "4      0\n",
       "      ..\n",
       "195    1\n",
       "196    1\n",
       "197    1\n",
       "198    1\n",
       "199    1\n",
       "Name: Sentiment, Length: 200, dtype: int64"
      ]
     },
     "execution_count": 41,
     "metadata": {},
     "output_type": "execute_result"
    }
   ],
   "source": [
    "dataset_label"
   ]
  },
  {
   "cell_type": "markdown",
   "id": "48c082f8",
   "metadata": {},
   "source": [
    "# cek distribusi label"
   ]
  },
  {
   "cell_type": "code",
   "execution_count": 42,
   "id": "8184b503",
   "metadata": {},
   "outputs": [],
   "source": [
    "import matplotlib.pyplot as plt\n",
    "import seaborn as sns\n",
    "%matplotlib inline"
   ]
  },
  {
   "cell_type": "code",
   "execution_count": 43,
   "id": "2e82bd13",
   "metadata": {},
   "outputs": [
    {
     "name": "stderr",
     "output_type": "stream",
     "text": [
      "C:\\Users\\User\\AppData\\Local\\Temp\\ipykernel_10060\\1470841120.py:3: UserWarning: \n",
      "\n",
      "`distplot` is a deprecated function and will be removed in seaborn v0.14.0.\n",
      "\n",
      "Please adapt your code to use either `displot` (a figure-level function with\n",
      "similar flexibility) or `histplot` (an axes-level function for histograms).\n",
      "\n",
      "For a guide to updating your code to use the new functions, please see\n",
      "https://gist.github.com/mwaskom/de44147ed2974457ad6372750bbe5751\n",
      "\n",
      "  sns.distplot(dataset_label, label=f'target, skew: {dataset_label.skew():.2f}')\n"
     ]
    },
    {
     "data": {
      "image/png": "[encoded data removed]",
      "text/plain": [
       "<Figure size 1200x800 with 1 Axes>"
      ]
     },
     "metadata": {},
     "output_type": "display_data"
    }
   ],
   "source": [
    "# Visualizing the target variable\n",
    "plt.figure(figsize=(12,8))\n",
    "sns.distplot(dataset_label, label=f'target, skew: {dataset_label.skew():.2f}')\n",
    "plt.legend(loc='best')\n",
    "plt.show()"
   ]
  },
  {
   "cell_type": "code",
   "execution_count": 44,
   "id": "f83ba62a",
   "metadata": {},
   "outputs": [
    {
     "data": {
      "text/plain": [
       "0    100\n",
       "1    100\n",
       "Name: Sentiment, dtype: int64"
      ]
     },
     "execution_count": 44,
     "metadata": {},
     "output_type": "execute_result"
    }
   ],
   "source": [
    "dataset_label.value_counts()"
   ]
  },
  {
   "cell_type": "markdown",
   "id": "6bda5005",
   "metadata": {},
   "source": [
    "# BOW"
   ]
  },
  {
   "cell_type": "code",
   "execution_count": 45,
   "id": "8f36e4cd",
   "metadata": {},
   "outputs": [],
   "source": [
    "from sklearn.feature_extraction.text import CountVectorizer"
   ]
  },
  {
   "cell_type": "code",
   "execution_count": 46,
   "id": "98c8216f",
   "metadata": {},
   "outputs": [],
   "source": [
    "vectorizer = CountVectorizer()"
   ]
  },
  {
   "cell_type": "code",
   "execution_count": 47,
   "id": "d0db50af",
   "metadata": {},
   "outputs": [],
   "source": [
    "X = vectorizer.fit_transform(dataset_feature)"
   ]
  },
  {
   "cell_type": "code",
   "execution_count": 50,
   "id": "be5bce2a",
   "metadata": {},
   "outputs": [
    {
     "name": "stdout",
     "output_type": "stream",
     "text": [
      "['abis' 'abiss' 'acclaim' 'actingnya' 'action' 'ada' 'adalah' 'adaptasi'\n",
      " 'adegan' 'adinia' 'aduh' 'aduk' 'after' 'agak' 'agam' 'agama' 'air' 'aj'\n",
      " 'aja' 'ajaa' 'ajak' 'ajar' 'akan' 'akhir' 'akhrnya' 'akting' 'aktor'\n",
      " 'aktris' 'aku' 'ale' 'alf' 'alien' 'alitalit' 'alur' 'ama' 'amat'\n",
      " 'amazing' 'ambigu' 'amira' 'anak' 'ancur' 'and' 'andibowooo' 'ane' 'aneh'\n",
      " 'angkat' 'anjak' 'anjlok' 'anya' 'apa' 'apalagi' 'apresiasi' 'arah'\n",
      " 'arthur' 'arti' 'artis' 'asa' 'asih' 'asik' 'askmenfess' 'asli' 'astagah'\n",
      " 'atas' 'aurat' 'awal' 'awisuryadi' 'baca' 'baekhyun' 'bagi' 'bagus'\n",
      " 'bagussss' 'bahagia' 'bahas' 'bahasa' 'baik' 'baja' 'bakal' 'balap'\n",
      " 'balik' 'banding' 'bandung' 'bang' 'bangat' 'banget' 'bangettt' 'bangga'\n",
      " 'bangsa' 'bangt' 'banyak' 'bapak' 'bareng' 'baru' 'barusan' 'batal'\n",
      " 'batas' 'bawa' 'bawah' 'bayang' 'bayar' 'be' 'bebas' 'beda' 'bee'\n",
      " 'begadang' 'begini' 'belah' 'belang' 'belum' 'benar' 'bener' 'bentar'\n",
      " 'berapa' 'berat' 'berbudget' 'berekspektasi' 'beri' 'best' 'besut'\n",
      " 'betapa' 'bewe' 'bg' 'bgni' 'bgt' 'bgtu' 'bgus' 'bhineka' 'biasa' 'bikin'\n",
      " 'bilang' 'bingittsss' 'bingung' 'biografi' 'bioskop' 'bisa' 'bit' 'bkin'\n",
      " 'bkn' 'black' 'blg' 'blm' 'bloopernya' 'bluray' 'bngt' 'bnr' 'bnyak'\n",
      " 'bodoh' 'bom' 'boring' 'bosan' 'bosen' 'bravo' 'britney' 'brulang' 'bs'\n",
      " 'btw' 'buah' 'buat' 'budaya' 'budget' 'budgetnya' 'buka' 'bukan' 'buku'\n",
      " 'bukuny' 'bulan' 'bulter' 'bumbu' 'bun' 'buried' 'bus' 'busuk' 'bw' 'byk'\n",
      " 'campur' 'catat' 'ce' 'cek' 'cema' 'cenayangfilm' 'cenderung' 'cepetan'\n",
      " 'cerita' 'ceritany' 'cewe' 'cinta' 'coba' 'cocok' 'coedoifusp'\n",
      " 'coeubwutbqj' 'coinal' 'com' 'comedy' 'conan' 'cotkeekevs' 'cotopkrzddz'\n",
      " 'covenant' 'cowok' 'creatif' 'credit' 'creepy' 'critanya' 'critical'\n",
      " 'cucu' 'cukup' 'cuma' 'cuman' 'cut' 'dada' 'dah' 'dan' 'danur'\n",
      " 'danurmovie' 'dapat' 'dapet' 'dari' 'datar' 'date' 'daur' 'dear' 'deh'\n",
      " 'depresi' 'derita' 'dewasa' 'dgn' 'di' 'dia' 'dian' 'didik' 'dihabisken'\n",
      " 'diharepin' 'dikit' 'dimension' 'dingertiin' 'diri' 'divergent' 'dkk'\n",
      " 'dlm' 'dng' 'doang' 'dominasi' 'download' 'dpt' 'dr' 'dramatis' 'drastis'\n",
      " 'dri' 'dua' 'duga' 'duh' 'duit' 'dukung' 'dulu' 'dungu' 'durasi'\n",
      " 'editingnya' 'ekspektasi' 'ekspektasinya' 'ekspetasi' 'eleven' 'embel'\n",
      " 'emg' 'emosi' 'emosional' 'enak' 'ending' 'endingnya' 'enggan' 'entah'\n",
      " 'epic' 'ernes' 'ernest' 'ernestprakasa' 'erti' 'ever' 'falsafah' 'fargo'\n",
      " 'fast' 'favorit' 'favorite' 'fb' 'feature' 'feel' 'film' 'filmya'\n",
      " 'filmziarah' 'flm' 'for' 'furious' 'ga' 'gadapet' 'gading' 'gagal' 'gak'\n",
      " 'gamau' 'gambar' 'gampang' 'gapernah' 'gara' 'garap' 'gausah' 'gede'\n",
      " 'gedung' 'gegara' 'gembira' 'generasi' 'gera' 'get' 'getoutmovie' 'gila'\n",
      " 'gimana' 'gin' 'gitu' 'gk' 'goal' 'gokil' 'gold' 'good' 'greatbos'\n",
      " 'greget' 'gua' 'gue' 'guru' 'guys' 'gw' 'gwa' 'habis' 'haha' 'hambar'\n",
      " 'hambarr' 'hancurin' 'hangout' 'hans' 'hansdavidian' 'hanungbramantyo'\n",
      " 'hanyut' 'hape' 'harap' 'harga' 'hari' 'harus' 'haruuuu' 'hasil' 'hehehe'\n",
      " 'hehehehe' 'hemmmm' 'hibur' 'hidung' 'hidup' 'homo' 'hoo' 'horor'\n",
      " 'horror' 'hrs' 'huehe' 'hufy' 'ikanatassa' 'ikut' 'image' 'imdb'\n",
      " 'indonesia' 'ingat' 'ini' 'insidious' 'inspirasi' 'inspiratifnya'\n",
      " 'instrospeksi' 'insyaallahsah' 'intern' 'inti' 'ironis' 'isi' 'island'\n",
      " 'itu' 'jadi' 'jadiin' 'jaga' 'jalan' 'jam' 'jaman' 'jarang' 'jawa'\n",
      " 'jelas' 'jelek' 'jelekk' 'jenius' 'jenuh' 'jgn' 'jijik' 'jijk' 'jika'\n",
      " 'jikalau' 'jiwa' 'job' 'jordan' 'jual' 'juang' 'judul' 'juga' 'jumlah'\n",
      " 'junjung' 'justru' 'ka' 'kadang' 'kagum' 'kak' 'kaku' 'kalau' 'kalaupun'\n",
      " 'kali' 'kalian' 'kalimat' 'kalo' 'kamar' 'kamu' 'kan' 'kandung'\n",
      " 'karakter' 'karena' 'karna' 'kartini' 'karya' 'kasar' 'kasi' 'kasih'\n",
      " 'kask' 'kata' 'kategori' 'kawin' 'kaya' 'kece' 'kecewa' 'kecewaa' 'kecil'\n",
      " 'kelar' 'kelas' 'kelinci' 'kelompok' 'keluar' 'keluarga' 'kemudian' 'ken'\n",
      " 'kenal' 'kenapa' 'kentel' 'kepala' 'kereen' 'keren' 'kerja' 'kern' 'kes'\n",
      " 'ketawa' 'ketimbang' 'kgn' 'khawatir' 'king' 'kirain' 'kisah' 'kita'\n",
      " 'kli' 'klo' 'klu' 'kmren' 'kmrn' 'knapa' 'kocak' 'koh' 'kok' 'komedi'\n",
      " 'komplit' 'kondisi' 'konflik' 'kong' 'korea' 'krn' 'krna' 'ksini' 'kta'\n",
      " 'kualitas' 'kuasa' 'kuat' 'kuno' 'kurang' 'kyk' 'lagiii' 'lain' 'laku'\n",
      " 'lalu' 'lama' 'langsung' 'lanjut' 'lap' 'lapor' 'laris' 'layak' 'layar'\n",
      " 'layardrama' 'lebih' 'ledak' 'legacypictures' 'lelah' 'lelaki' 'lemah'\n",
      " 'lgsg' 'lho' 'liat' 'lihat' 'lipat' 'lo' 'lokal' 'lol' 'lompat' 'long'\n",
      " 'lovely' 'lu' 'luar' 'luarbiasa' 'lucu' 'lumayan' 'lumyan' 'lupa'\n",
      " 'lybelidanur' 'lyoirpy' 'ma' 'macam' 'main' 'maju' 'makin' 'makna'\n",
      " 'malah' 'malam' 'malem' 'malesan' 'mall' 'mama' 'mampu' 'maret' 'marvel'\n",
      " 'mas' 'masa' 'masalah' 'masih' 'masuk' 'mata' 'mati' 'mau' 'maupun'\n",
      " 'mbah' 'mbuh' 'mcimall' 'me' 'mei' 'memang' 'memgecewakan' 'menang'\n",
      " 'mendeliver' 'mending' 'menit' 'mesir' 'meski' 'meszilbc' 'metqqdgglj'\n",
      " 'meu' 'mewek' 'mikir' 'minggu' 'minim' 'minta' 'miris' 'misteri' 'mkir'\n",
      " 'mmbiarkan' 'mnrt' 'mobil' 'moga' 'moment' 'moral' 'motivasi' 'moveon'\n",
      " 'movie' 'mrk' 'msh' 'mslh' 'mu' 'muat' 'muda' 'mudah' 'mulai' 'mummy'\n",
      " 'mungkin' 'murah' 'mutu' 'nah' 'nama' 'nang' 'narasi' 'naruto' 'nasional'\n",
      " 'negara' 'nemenin' 'nemu' 'nenek' 'neng' 'netizen' 'ngageting' 'ngajak'\n",
      " 'ngakak' 'ngandelin' 'ngapain' 'ngehek' 'ngerasa' 'ngerasain' 'ngertiin'\n",
      " 'ngga' 'nggak' 'ngiang' 'ngliatin' 'ni' 'niat' 'night' 'nightmare' 'nih'\n",
      " 'nihh' 'nikmat' 'nilai' 'nista' 'nntn' 'nnton' 'nobar' 'nol' 'nonton'\n",
      " 'nontonnya' 'norak' 'novel' 'ntar' 'ntn' 'nunggu' 'nungguin' 'nyaman'\n",
      " 'nyari' 'nyata' 'nyedot' 'nyesel' 'nysel' 'oaoo' 'obsessed' 'ogah' 'oke'\n",
      " 'openingnya' 'orang' 'oscar' 'out' 'padahal' 'pagi' 'paket' 'paling'\n",
      " 'pandang' 'pandji' 'panjang' 'pantas' 'papa' 'parah' 'pas' 'pasang'\n",
      " 'pasar' 'pasca' 'pasti' 'patut' 'pd' 'pdahl' 'pdhl' 'pecah' 'peele'\n",
      " 'peluk' 'pemamarannya' 'penasaran' 'pengaruh' 'penting' 'penuh' 'per'\n",
      " 'peran' 'perang' 'percaya' 'percuma' 'perdana' 'perempuan' 'pernah'\n",
      " 'pertama' 'pesan' 'petik' 'pgn' 'pikir' 'pilih' 'pirsa' 'pkoknya' 'plg'\n",
      " 'plot' 'poko' 'pokok' 'ponco' 'post' 'potong' 'power' 'premis' 'prilly'\n",
      " 'prillybie' 'produksi' 'produser' 'proses' 'puas' 'punya' 'putar' 'radit'\n",
      " 'raditya' 'radityadika' 'ragu' 'rangers' 'rasa' 'ratattote' 'ratingnya'\n",
      " 'rcti' 'recomended' 'recommended' 'rekomended' 'relevan' 'rem' 'resah'\n",
      " 'respect' 'retak' 'review' 'reza' 'ribet' 'rilis' 'ringan' 'riset'\n",
      " 'romance' 'romantis' 'rompisrepost' 'rp' 'rugi' 'rujuk' 'rumit' 'rusak'\n",
      " 'rusia' 'sabar' 'sahabat' 'saji' 'sakit' 'salah' 'salut' 'sama' 'samar'\n",
      " 'sampah' 'sampe' 'sana' 'sangat' 'sastro' 'satu' 'say' 'saya' 'sayang'\n",
      " 'sblm' 'sbnrnya' 'scene' 'screensaversid' 'season' 'sebenernya'\n",
      " 'sebnarnya' 'sebut' 'sederhana' 'sedih' 'sedikit' 'segala' 'sejak'\n",
      " 'sejarah' 'sekali' 'sekalipun' 'sekarang' 'seksi' 'selain' 'selalu'\n",
      " 'selamat' 'selera' 'selesai' 'selliyamanto' 'seluruh' 'sempat' 'sempet'\n",
      " 'semua' 'sen' 'senang' 'sendiri' 'sensor' 'seperti' 'seragam' 'serakah'\n",
      " 'seriesnya' 'sering' 'serius' 'seru' 'sesal' 'sesuai' 'sesungguhny'\n",
      " 'setan' 'setia' 'sex' 'si' 'sih' 'sila' 'simak' 'simple' 'singkat' 'sini'\n",
      " 'situ' 'skip' 'skrg' 'skull' 'slalu' 'slamat' 'sllu' 'sm' 'sma' 'smp'\n",
      " 'smpai' 'smpe' 'sndiri' 'soal' 'sok' 'sorayafilms' 'sorry' 'sosok'\n",
      " 'special' 'speechless' 'spektakuler' 'sperti' 'spicles' 'sri' 'stlh'\n",
      " 'sudah' 'sudut' 'suka' 'sukses' 'sumpah' 'sungguh' 'susah' 'sutradara'\n",
      " 'sy' 'syahadat' 'syukur' 'tadi' 'tahun' 'tak' 'takdir' 'takut' 'tambah'\n",
      " 'tampil' 'tangan' 'tanggal' 'tanya' 'tapi' 'tarik' 'tau' 'tayang' 'team'\n",
      " 'teaser' 'tebak' 'tegang' 'teh' 'telah' 'telat' 'tema' 'teman' 'temen'\n",
      " 'temu' 'tenang' 'tengah' 'terbang' 'terimakasi' 'terlalu' 'terllu'\n",
      " 'terus' 'tetap' 'tetep' 'thank' 'thanks' 'the' 'therealdisastr' 'this'\n",
      " 'thn' 'thur' 'tiap' 'tidak' 'tidur' 'tiga' 'tiket' 'tim' 'tinggal'\n",
      " 'tinggi' 'tingkat' 'tipe' 'titik' 'tjoy' 'tk' 'tll' 'tmen' 'tmn' 'tnx'\n",
      " 'to' 'today' 'toko' 'tokoh' 'tom' 'tonton' 'totalitas' 'tp' 'trailer'\n",
      " 'tread' 'trjadi' 'trlalu' 'trsa' 'trust' 'ttg' 'tu' 'tua' 'tugas' 'tuhan'\n",
      " 'tuju' 'tunggu' 'turun' 'turut' 'tz' 'ucweb' 'uda' 'udah' 'udh' 'uji'\n",
      " 'ulang' 'umur' 'unaazizah' 'unsur' 'ushezsl' 'utk' 'video' 'visual'\n",
      " 'vlog' 'wajib' 'waktu' 'warganet' 'watch' 'waw' 'weekend' 'weird' 'what'\n",
      " 'wib' 'wkwk' 'woman' 'wonder' 'worth' 'yah' 'yakin' 'yang' 'yanskii'\n",
      " 'yaoi' 'yg' 'you' 'youtu' 'youtube' 'yuk' 'ziarah']\n"
     ]
    }
   ],
   "source": [
    "print(vectorizer.get_feature_names_out())"
   ]
  },
  {
   "cell_type": "code",
   "execution_count": 51,
   "id": "c752b3ba",
   "metadata": {},
   "outputs": [
    {
     "name": "stdout",
     "output_type": "stream",
     "text": [
      "[[0 0 0 ... 0 0 0]\n",
      " [0 0 0 ... 0 0 0]\n",
      " [0 0 0 ... 0 0 0]\n",
      " ...\n",
      " [0 0 0 ... 0 0 0]\n",
      " [0 0 0 ... 0 0 0]\n",
      " [0 0 0 ... 0 0 0]]\n"
     ]
    }
   ],
   "source": [
    "print(X.toarray())"
   ]
  },
  {
   "cell_type": "code",
   "execution_count": 52,
   "id": "00deff4e",
   "metadata": {},
   "outputs": [],
   "source": [
    "vectorizer2 = CountVectorizer(analyzer='word', ngram_range=(2, 2))"
   ]
  },
  {
   "cell_type": "code",
   "execution_count": 53,
   "id": "5c83c452",
   "metadata": {},
   "outputs": [],
   "source": [
    "X2 = vectorizer2.fit_transform(dataset_feature)"
   ]
  },
  {
   "cell_type": "code",
   "execution_count": 54,
   "id": "b4876df4",
   "metadata": {},
   "outputs": [
    {
     "name": "stdout",
     "output_type": "stream",
     "text": [
      "['abis nonton' 'abis ntn' 'abis sedih' ... 'ziarah muat' 'ziarah salah'\n",
      " 'ziarah sangat']\n"
     ]
    }
   ],
   "source": [
    "print(vectorizer2.get_feature_names_out())"
   ]
  },
  {
   "cell_type": "code",
   "execution_count": 55,
   "id": "a72fe2a3",
   "metadata": {},
   "outputs": [
    {
     "name": "stdout",
     "output_type": "stream",
     "text": [
      "[[0 0 0 ... 0 0 0]\n",
      " [0 0 0 ... 0 0 0]\n",
      " [0 0 0 ... 0 0 0]\n",
      " ...\n",
      " [0 0 0 ... 0 0 0]\n",
      " [0 0 0 ... 0 0 0]\n",
      " [0 0 0 ... 0 0 0]]\n"
     ]
    }
   ],
   "source": [
    "print(X2.toarray())"
   ]
  },
  {
   "cell_type": "markdown",
   "id": "575828dd",
   "metadata": {},
   "source": [
    "# Simulasi Corpus"
   ]
  },
  {
   "cell_type": "code",
   "execution_count": 56,
   "id": "34219d9e",
   "metadata": {},
   "outputs": [],
   "source": [
    "corpus = [\n",
    "   'Here comes the first guest.',\n",
    "    'This book is the second edition.',\n",
    "    'And here is the third option.',\n",
    "    'Is this the first chapter?',\n",
    "]"
   ]
  },
  {
   "cell_type": "code",
   "execution_count": 57,
   "id": "00c682d5",
   "metadata": {},
   "outputs": [],
   "source": [
    "vectorizer = CountVectorizer()"
   ]
  },
  {
   "cell_type": "code",
   "execution_count": 58,
   "id": "f066c902",
   "metadata": {},
   "outputs": [],
   "source": [
    "Z = vectorizer.fit_transform(corpus)"
   ]
  },
  {
   "cell_type": "code",
   "execution_count": 59,
   "id": "62ad52d1",
   "metadata": {},
   "outputs": [
    {
     "data": {
      "text/plain": [
       "array(['and', 'book', 'chapter', 'comes', 'edition', 'first', 'guest',\n",
       "       'here', 'is', 'option', 'second', 'the', 'third', 'this'],\n",
       "      dtype=object)"
      ]
     },
     "execution_count": 59,
     "metadata": {},
     "output_type": "execute_result"
    }
   ],
   "source": [
    "vectorizer.get_feature_names_out()"
   ]
  },
  {
   "cell_type": "code",
   "execution_count": 60,
   "id": "130d34d2",
   "metadata": {},
   "outputs": [
    {
     "name": "stdout",
     "output_type": "stream",
     "text": [
      "[[0 0 0 1 0 1 1 1 0 0 0 1 0 0]\n",
      " [0 1 0 0 1 0 0 0 1 0 1 1 0 1]\n",
      " [1 0 0 0 0 0 0 1 1 1 0 1 1 0]\n",
      " [0 0 1 0 0 1 0 0 1 0 0 1 0 1]]\n"
     ]
    }
   ],
   "source": [
    "print(Z.toarray())"
   ]
  },
  {
   "cell_type": "code",
   "execution_count": 61,
   "id": "e410be01",
   "metadata": {},
   "outputs": [],
   "source": [
    "vectorizer2 = CountVectorizer(analyzer='word', ngram_range=(2, 2))"
   ]
  },
  {
   "cell_type": "code",
   "execution_count": 62,
   "id": "58d150c6",
   "metadata": {},
   "outputs": [],
   "source": [
    "Z2 = vectorizer2.fit_transform(corpus)"
   ]
  },
  {
   "cell_type": "code",
   "execution_count": 63,
   "id": "52d9a7f9",
   "metadata": {},
   "outputs": [
    {
     "data": {
      "text/plain": [
       "array(['and here', 'book is', 'comes the', 'first chapter', 'first guest',\n",
       "       'here comes', 'here is', 'is the', 'is this', 'second edition',\n",
       "       'the first', 'the second', 'the third', 'third option',\n",
       "       'this book', 'this the'], dtype=object)"
      ]
     },
     "execution_count": 63,
     "metadata": {},
     "output_type": "execute_result"
    }
   ],
   "source": [
    "vectorizer2.get_feature_names_out()"
   ]
  },
  {
   "cell_type": "code",
   "execution_count": 64,
   "id": "872a0c71",
   "metadata": {},
   "outputs": [
    {
     "name": "stdout",
     "output_type": "stream",
     "text": [
      "[[0 0 1 0 1 1 0 0 0 0 1 0 0 0 0 0]\n",
      " [0 1 0 0 0 0 0 1 0 1 0 1 0 0 1 0]\n",
      " [1 0 0 0 0 0 1 1 0 0 0 0 1 1 0 0]\n",
      " [0 0 0 1 0 0 0 0 1 0 1 0 0 0 0 1]]\n"
     ]
    }
   ],
   "source": [
    "print(Z2.toarray())"
   ]
  }
 ],
 "metadata": {
  "kernelspec": {
   "display_name": "Python 3 (ipykernel)",
   "language": "python",
   "name": "python3"
  },
  "language_info": {
   "codemirror_mode": {
    "name": "ipython",
    "version": 3
   },
   "file_extension": ".py",
   "mimetype": "text/x-python",
   "name": "python",
   "nbconvert_exporter": "python",
   "pygments_lexer": "ipython3",
   "version": "3.10.9"
  }
 },
 "nbformat": 4,
 "nbformat_minor": 5
}
