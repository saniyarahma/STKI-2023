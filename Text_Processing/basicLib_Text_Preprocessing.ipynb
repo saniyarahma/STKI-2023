{
 "cells": [
  {
   "cell_type": "markdown",
   "id": "c48a5c86",
   "metadata": {},
   "source": [
    "# Dasar Text-Preprocessing dengan Python"
   ]
  },
  {
   "cell_type": "markdown",
   "id": "2f7f4514",
   "metadata": {},
   "source": [
    "# Case Folding: Lowercase"
   ]
  },
  {
   "cell_type": "code",
   "execution_count": 2,
   "id": "2b0b7021",
   "metadata": {},
   "outputs": [
    {
     "name": "stdout",
     "output_type": "stream",
     "text": [
      "salah satu pendekatan untuk mengatasi masalah ini adalah dengan mencoba mengubah urutan impor modul anda.\n"
     ]
    }
   ],
   "source": [
    "kalimat = \"Salah satu pendekatan untuk mengatasi masalah ini adalah dengan Mencoba mengubah urutan Impor modul Anda.\"\n",
    "lower_case = kalimat.lower()\n",
    "print(lower_case)"
   ]
  },
  {
   "cell_type": "markdown",
   "id": "bc75fe90",
   "metadata": {},
   "source": [
    "# Case Folding: Removing Number"
   ]
  },
  {
   "cell_type": "code",
   "execution_count": 3,
   "id": "38ef1fca",
   "metadata": {},
   "outputs": [
    {
     "data": {
      "text/plain": [
       "'. Salah satu pendekatan untuk mengatasi masalah ini adalah dengan Mencoba mengubah urutan Impor modul Anda.'"
      ]
     },
     "execution_count": 3,
     "metadata": {},
     "output_type": "execute_result"
    }
   ],
   "source": [
    "import re \n",
    "kalimat = \"1. Salah satu pendekatan untuk mengatasi masalah ini adalah dengan Mencoba mengubah urutan Impor modul Anda.\"\n",
    "\n",
    "hasil = re.sub(r\"\\d+\", \"\", kalimat)\n",
    "hasil"
   ]
  },
  {
   "cell_type": "markdown",
   "id": "744bc85d",
   "metadata": {},
   "source": [
    "# Case Folding: Removing Punctuation"
   ]
  },
  {
   "cell_type": "code",
   "execution_count": 4,
   "id": "9cbd6fbb",
   "metadata": {},
   "outputs": [
    {
     "data": {
      "text/plain": [
       "'Apakah ini contoh kalimat Ya ini adalah contoh yang bagus'"
      ]
     },
     "execution_count": 4,
     "metadata": {},
     "output_type": "execute_result"
    }
   ],
   "source": [
    "import string\n",
    "\n",
    "kalimat = \"Apakah ini contoh kalimat? Ya, ini adalah contoh yang bagus!\"\n",
    "hasil = kalimat.translate(str.maketrans(\"\",\"\",string.punctuation))\n",
    "hasil"
   ]
  },
  {
   "cell_type": "markdown",
   "id": "62716067",
   "metadata": {},
   "source": [
    "# Case Folding: Removing Whitespace"
   ]
  },
  {
   "cell_type": "code",
   "execution_count": 5,
   "id": "8d11d878",
   "metadata": {},
   "outputs": [
    {
     "data": {
      "text/plain": [
       "'apakah saya bisa nonton treasure'"
      ]
     },
     "execution_count": 5,
     "metadata": {},
     "output_type": "execute_result"
    }
   ],
   "source": [
    "kalimat = \" \\t    apakah saya bisa nonton treasure \\t   \\n\"\n",
    "hasil = kalimat.strip()\n",
    "\n",
    "hasil"
   ]
  },
  {
   "cell_type": "markdown",
   "id": "727ccb41",
   "metadata": {},
   "source": [
    "# Separating Sentences with Split () Method"
   ]
  },
  {
   "cell_type": "code",
   "execution_count": 6,
   "id": "3fa3d86a",
   "metadata": {},
   "outputs": [
    {
     "data": {
      "text/plain": [
       "['Saya',\n",
       " 'suka',\n",
       " 'menulis',\n",
       " 'kalimat',\n",
       " 'seperti',\n",
       " 'ini:',\n",
       " 'dengan',\n",
       " 'variasi',\n",
       " 'tanda',\n",
       " 'baca!']"
      ]
     },
     "execution_count": 6,
     "metadata": {},
     "output_type": "execute_result"
    }
   ],
   "source": [
    "kalimat = \"Saya suka menulis kalimat seperti ini: dengan variasi tanda baca!\"\n",
    "pisah = kalimat.split()\n",
    "\n",
    "pisah"
   ]
  },
  {
   "cell_type": "markdown",
   "id": "6584d0d5",
   "metadata": {},
   "source": [
    "# Tokenizing: Word Tokenizing Using NLTK Module"
   ]
  },
  {
   "cell_type": "code",
   "execution_count": 7,
   "id": "f4038b63",
   "metadata": {},
   "outputs": [],
   "source": [
    "import nltk\n",
    "from nltk.tokenize import word_tokenize \n",
    "\n",
    "kalimat = \"Dapatkah Anda membuat kalimat dengan tanda tanya? Tentu saja\"\n",
    "\n",
    "tokens = nltk.tokenize.word_tokenize(kalimat)"
   ]
  },
  {
   "cell_type": "code",
   "execution_count": 8,
   "id": "0e7b74b1",
   "metadata": {},
   "outputs": [
    {
     "data": {
      "text/plain": [
       "['Dapatkah',\n",
       " 'Anda',\n",
       " 'membuat',\n",
       " 'kalimat',\n",
       " 'dengan',\n",
       " 'tanda',\n",
       " 'tanya',\n",
       " '?',\n",
       " 'Tentu',\n",
       " 'saja']"
      ]
     },
     "execution_count": 8,
     "metadata": {},
     "output_type": "execute_result"
    }
   ],
   "source": [
    "tokens"
   ]
  },
  {
   "cell_type": "markdown",
   "id": "55954734",
   "metadata": {},
   "source": [
    "# Tokenizing with Case Folding"
   ]
  },
  {
   "cell_type": "markdown",
   "id": "bef8cde7",
   "metadata": {},
   "source": [
    "# from nltk.tokenize import word_tokenize \n",
    " \n",
    "kalimat = \"Dapatkah Anda membuat kalimat dengan tanda tanya? Tentu saja\"\n",
    "kalimat = kalimat.translate(str.maketrans('','',string.punctuation)).lower()\n",
    "\n",
    "tokens = nltk.tokenize.word_tokenize(kalimat)\n",
    "\n",
    "tokens"
   ]
  },
  {
   "cell_type": "markdown",
   "id": "3dd98399",
   "metadata": {},
   "source": [
    "# Frequency Distribution"
   ]
  },
  {
   "cell_type": "code",
   "execution_count": 11,
   "id": "ffd2b2b7",
   "metadata": {},
   "outputs": [
    {
     "name": "stdout",
     "output_type": "stream",
     "text": [
      "[('tentu', 2), ('dapatkah', 1), ('anda', 1), ('membuat', 1), ('kalimat', 1), ('dengan', 1), ('tanda', 1), ('tanya', 1), ('saja', 1), ('benar', 1), ('bukan', 1)]\n"
     ]
    }
   ],
   "source": [
    "from nltk.tokenize import word_tokenize\n",
    "from nltk.probability import FreqDist\n",
    "\n",
    "kalimat = \"Dapatkah Anda membuat kalimat dengan tanda tanya? Tentu saja tentu benar bukan.\"\n",
    "kalimat = kalimat.translate(str.maketrans('','',string.punctuation)).lower()\n",
    "\n",
    "tokens = nltk.tokenize.word_tokenize(kalimat)\n",
    "kemunculan = nltk.FreqDist(tokens)\n",
    "\n",
    "print(kemunculan.most_common())"
   ]
  },
  {
   "cell_type": "markdown",
   "id": "226b7a96",
   "metadata": {},
   "source": [
    "# Frequency Distribution Visualization with Matplotlib"
   ]
  },
  {
   "cell_type": "code",
   "execution_count": 12,
   "id": "93b3aff8",
   "metadata": {},
   "outputs": [
    {
     "data": {
      "image/png": "[encoded data removed]",
      "text/plain": [
       "<Figure size 640x480 with 1 Axes>"
      ]
     },
     "metadata": {},
     "output_type": "display_data"
    }
   ],
   "source": [
    "import matplotlib.pyplot as plt\n",
    "\n",
    "kemunculan.plot(30, cumulative=False)\n",
    "\n",
    "plt.show()"
   ]
  },
  {
   "cell_type": "markdown",
   "id": "abf02f5e",
   "metadata": {},
   "source": [
    "# Tokenizing: Sentences Tokenizing Using NLTK Module"
   ]
  },
  {
   "cell_type": "code",
   "execution_count": 13,
   "id": "25876cd2",
   "metadata": {},
   "outputs": [
    {
     "name": "stdout",
     "output_type": "stream",
     "text": [
      "['Dapatkah Anda membuat kalimat dengan tanda tanya?', 'Tentu saja tentu benar bukan.', 'Mari kita tambahkan beberapa tanda baca yang lain']\n"
     ]
    }
   ],
   "source": [
    "from nltk.tokenize import sent_tokenize\n",
    "\n",
    "kalimat = \"Dapatkah Anda membuat kalimat dengan tanda tanya? Tentu saja tentu benar bukan. Mari kita tambahkan beberapa tanda baca yang lain\"\n",
    "\n",
    "tokens = nltk.tokenize.sent_tokenize(kalimat)\n",
    "\n",
    "print(tokens)"
   ]
  },
  {
   "cell_type": "markdown",
   "id": "d6585c59",
   "metadata": {},
   "source": [
    "# Filtering using Sastrawi: Stopword List"
   ]
  },
  {
   "cell_type": "code",
   "execution_count": 16,
   "id": "b4a8904c",
   "metadata": {},
   "outputs": [
    {
     "name": "stdout",
     "output_type": "stream",
     "text": [
      "['yang', 'untuk', 'pada', 'ke', 'para', 'namun', 'menurut', 'antara', 'dia', 'dua', 'ia', 'seperti', 'jika', 'jika', 'sehingga', 'kembali', 'dan', 'tidak', 'ini', 'karena', 'kepada', 'oleh', 'saat', 'harus', 'sementara', 'setelah', 'belum', 'kami', 'sekitar', 'bagi', 'serta', 'di', 'dari', 'telah', 'sebagai', 'masih', 'hal', 'ketika', 'adalah', 'itu', 'dalam', 'bisa', 'bahwa', 'atau', 'hanya', 'kita', 'dengan', 'akan', 'juga', 'ada', 'mereka', 'sudah', 'saya', 'terhadap', 'secara', 'agar', 'lain', 'anda', 'begitu', 'mengapa', 'kenapa', 'yaitu', 'yakni', 'daripada', 'itulah', 'lagi', 'maka', 'tentang', 'demi', 'dimana', 'kemana', 'pula', 'sambil', 'sebelum', 'sesudah', 'supaya', 'guna', 'kah', 'pun', 'sampai', 'sedangkan', 'selagi', 'sementara', 'tetapi', 'apakah', 'kecuali', 'sebab', 'selain', 'seolah', 'seraya', 'seterusnya', 'tanpa', 'agak', 'boleh', 'dapat', 'dsb', 'dst', 'dll', 'dahulu', 'dulunya', 'anu', 'demikian', 'tapi', 'ingin', 'juga', 'nggak', 'mari', 'nanti', 'melainkan', 'oh', 'ok', 'seharusnya', 'sebetulnya', 'setiap', 'setidaknya', 'sesuatu', 'pasti', 'saja', 'toh', 'ya', 'walau', 'tolong', 'tentu', 'amat', 'apalagi', 'bagaimanapun']\n"
     ]
    }
   ],
   "source": [
    "from Sastrawi.StopWordRemover.StopWordRemoverFactory import StopWordRemoverFactory\n",
    "\n",
    "factory = StopWordRemoverFactory()\n",
    "stopwords = factory.get_stop_words()\n",
    "print(stopwords)"
   ]
  },
  {
   "cell_type": "markdown",
   "id": "49824e35",
   "metadata": {},
   "source": [
    "# Filtering using Sastrawi"
   ]
  },
  {
   "cell_type": "code",
   "execution_count": 17,
   "id": "7411650e",
   "metadata": {},
   "outputs": [
    {
     "name": "stdout",
     "output_type": "stream",
     "text": [
      "['anime', 'sedang', 'trending', 'sekarang', 'one', 'piece', 'karna', 'ada', 'live', 'actionnya']\n"
     ]
    }
   ],
   "source": [
    "from Sastrawi.StopWordRemover.StopWordRemoverFactory import StopWordRemoverFactory\n",
    "from nltk.tokenize import word_tokenize \n",
    "\n",
    "factory = StopWordRemoverFactory()\n",
    "stopword = factory.create_stop_word_remover()\n",
    "\n",
    "kalimat = \"Anime yang sedang trending sekarang adalah one piece karna sudah ada live actionnya.\"\n",
    "kalimat = kalimat.translate(str.maketrans('','',string.punctuation)).lower()\n",
    "\n",
    "stop = stopword.remove(kalimat)\n",
    "tokens = nltk.tokenize.word_tokenize(stop)\n",
    "\n",
    "print(tokens)"
   ]
  },
  {
   "cell_type": "markdown",
   "id": "6e57fedb",
   "metadata": {},
   "source": [
    "# Add Custom Stopword"
   ]
  },
  {
   "cell_type": "code",
   "execution_count": 18,
   "id": "60a57761",
   "metadata": {},
   "outputs": [
    {
     "name": "stdout",
     "output_type": "stream",
     "text": [
      "['arsya', 'mengikuti', 'kuliah', 'tatap', 'muka', 'daring', 'arsya', 'lebih', 'suka', 'metode', 'tatap', 'muka']\n"
     ]
    }
   ],
   "source": [
    "from Sastrawi.StopWordRemover.StopWordRemoverFactory import StopWordRemoverFactory, StopWordRemover, ArrayDictionary\n",
    "from nltk.tokenize import word_tokenize \n",
    "    \n",
    "# ambil stopword bawaan\n",
    "stop_factory = StopWordRemoverFactory().get_stop_words()\n",
    "more_stopword = ['daring', 'online']\n",
    "\n",
    "kalimat = \"Arsya mengikuti kuliah tatap muka dan daring. Menurut Arsya dia lebih suka metode tatap muka.\"\n",
    "kalimat = kalimat.translate(str.maketrans('','',string.punctuation)).lower()\n",
    "\n",
    "# menggabungkan stopword\n",
    "data = stop_factory + more_stopword\n",
    "\n",
    "dictionary = ArrayDictionary(data)\n",
    "str = StopWordRemover(dictionary)\n",
    "tokens = nltk.tokenize.word_tokenize(str.remove(kalimat))\n",
    " \n",
    "print(tokens)"
   ]
  },
  {
   "cell_type": "markdown",
   "id": "41110435",
   "metadata": {},
   "source": [
    "# Stemming : Porter Stemming Algorithm using NLTK"
   ]
  },
  {
   "cell_type": "code",
   "execution_count": 20,
   "id": "7aa17b00",
   "metadata": {},
   "outputs": [
    {
     "name": "stdout",
     "output_type": "stream",
     "text": [
      "koding  :  kode\n",
      "coding  :  code\n",
      "kode  :  kode\n"
     ]
    }
   ],
   "source": [
    "from nltk.stem import PorterStemmer    \n",
    "ps = PorterStemmer() \n",
    "\n",
    "kata = [\"koding\", \"coding\", \"kode\"]\n",
    "\n",
    "for k in kata:\n",
    "    print(k, \" : \", ps.stem(k))"
   ]
  },
  {
   "cell_type": "markdown",
   "id": "bd98479c",
   "metadata": {},
   "source": [
    "# Stemming Bahasa Indonesia using Sastrawi"
   ]
  },
  {
   "cell_type": "code",
   "execution_count": 21,
   "id": "33bbdd05",
   "metadata": {},
   "outputs": [
    {
     "data": {
      "text/plain": [
       "'arsya ikut kuliah tatap muka dan daring turut arsya dia lebih suka metode tatap muka'"
      ]
     },
     "execution_count": 21,
     "metadata": {},
     "output_type": "execute_result"
    }
   ],
   "source": [
    "from Sastrawi.Stemmer.StemmerFactory import StemmerFactory\n",
    "factory = StemmerFactory()\n",
    "stemmer = factory.create_stemmer()\n",
    " \n",
    "kalimat = \"Arsya mengikuti kuliah tatap muka dan daring. Menurut Arsya dia lebih suka metode tatap muka.\"\n",
    "\n",
    "hasil = stemmer.stem(kalimat)\n",
    "\n",
    "hasil\n"
   ]
  },
  {
   "cell_type": "code",
   "execution_count": null,
   "id": "a41a35e8",
   "metadata": {},
   "outputs": [],
   "source": []
  }
 ],
 "metadata": {
  "kernelspec": {
   "display_name": "Python 3 (ipykernel)",
   "language": "python",
   "name": "python3"
  },
  "language_info": {
   "codemirror_mode": {
    "name": "ipython",
    "version": 3
   },
   "file_extension": ".py",
   "mimetype": "text/x-python",
   "name": "python",
   "nbconvert_exporter": "python",
   "pygments_lexer": "ipython3",
   "version": "3.10.9"
  }
 },
 "nbformat": 4,
 "nbformat_minor": 5
}
