{
 "cells": [
  {
   "cell_type": "markdown",
   "id": "7504d31c",
   "metadata": {},
   "source": [
    "# Klasifikasi Text Mining menggunakan Naive Bayes & KNN"
   ]
  },
  {
   "cell_type": "markdown",
   "id": "7433f888",
   "metadata": {},
   "source": [
    "## install library ekphrasis"
   ]
  },
  {
   "cell_type": "code",
   "execution_count": 1,
   "id": "e5e6ac32",
   "metadata": {},
   "outputs": [
    {
     "name": "stdout",
     "output_type": "stream",
     "text": [
      "Requirement already satisfied: ekphrasis in c:\\users\\user\\anaconda3\\lib\\site-packages (0.5.4)\n",
      "Requirement already satisfied: numpy in c:\\users\\user\\appdata\\roaming\\python\\python310\\site-packages (from ekphrasis) (1.24.3)\n",
      "Requirement already satisfied: tqdm in c:\\users\\user\\anaconda3\\lib\\site-packages (from ekphrasis) (4.64.1)\n",
      "Requirement already satisfied: ftfy in c:\\users\\user\\anaconda3\\lib\\site-packages (from ekphrasis) (6.1.1)\n",
      "Requirement already satisfied: termcolor in c:\\users\\user\\anaconda3\\lib\\site-packages (from ekphrasis) (2.3.0)\n",
      "Requirement already satisfied: nltk in c:\\users\\user\\anaconda3\\lib\\site-packages (from ekphrasis) (3.7)\n",
      "Requirement already satisfied: ujson in c:\\users\\user\\anaconda3\\lib\\site-packages (from ekphrasis) (5.4.0)\n",
      "Requirement already satisfied: colorama in c:\\users\\user\\anaconda3\\lib\\site-packages (from ekphrasis) (0.4.6)\n",
      "Requirement already satisfied: matplotlib in c:\\users\\user\\anaconda3\\lib\\site-packages (from ekphrasis) (3.7.0)\n",
      "Requirement already satisfied: wcwidth>=0.2.5 in c:\\users\\user\\anaconda3\\lib\\site-packages (from ftfy->ekphrasis) (0.2.5)\n",
      "Requirement already satisfied: packaging>=20.0 in c:\\users\\user\\anaconda3\\lib\\site-packages (from matplotlib->ekphrasis) (22.0)\n",
      "Requirement already satisfied: kiwisolver>=1.0.1 in c:\\users\\user\\anaconda3\\lib\\site-packages (from matplotlib->ekphrasis) (1.4.4)\n",
      "Requirement already satisfied: pyparsing>=2.3.1 in c:\\users\\user\\anaconda3\\lib\\site-packages (from matplotlib->ekphrasis) (3.0.9)\n",
      "Requirement already satisfied: cycler>=0.10 in c:\\users\\user\\anaconda3\\lib\\site-packages (from matplotlib->ekphrasis) (0.11.0)\n",
      "Requirement already satisfied: pillow>=6.2.0 in c:\\users\\user\\appdata\\roaming\\python\\python310\\site-packages (from matplotlib->ekphrasis) (9.5.0)\n",
      "Requirement already satisfied: python-dateutil>=2.7 in c:\\users\\user\\anaconda3\\lib\\site-packages (from matplotlib->ekphrasis) (2.8.2)\n",
      "Requirement already satisfied: fonttools>=4.22.0 in c:\\users\\user\\anaconda3\\lib\\site-packages (from matplotlib->ekphrasis) (4.25.0)\n",
      "Requirement already satisfied: contourpy>=1.0.1 in c:\\users\\user\\anaconda3\\lib\\site-packages (from matplotlib->ekphrasis) (1.0.5)\n",
      "Requirement already satisfied: click in c:\\users\\user\\anaconda3\\lib\\site-packages (from nltk->ekphrasis) (8.0.4)\n",
      "Requirement already satisfied: joblib in c:\\users\\user\\anaconda3\\lib\\site-packages (from nltk->ekphrasis) (1.1.1)\n",
      "Requirement already satisfied: regex>=2021.8.3 in c:\\users\\user\\anaconda3\\lib\\site-packages (from nltk->ekphrasis) (2022.7.9)\n",
      "Requirement already satisfied: six>=1.5 in c:\\users\\user\\anaconda3\\lib\\site-packages (from python-dateutil>=2.7->matplotlib->ekphrasis) (1.16.0)\n"
     ]
    }
   ],
   "source": [
    "!pip install ekphrasis"
   ]
  },
  {
   "cell_type": "code",
   "execution_count": 2,
   "id": "dd041497",
   "metadata": {},
   "outputs": [
    {
     "name": "stderr",
     "output_type": "stream",
     "text": [
      "C:\\Users\\User\\anaconda3\\lib\\site-packages\\ekphrasis\\classes\\tokenizer.py:225: FutureWarning: Possible nested set at position 2190\n",
      "  self.tok = re.compile(r\"({})\".format(\"|\".join(pipeline)))\n"
     ]
    },
    {
     "name": "stdout",
     "output_type": "stream",
     "text": [
      "Reading twitter - 1grams ...\n",
      "Reading twitter - 2grams ...\n"
     ]
    },
    {
     "name": "stderr",
     "output_type": "stream",
     "text": [
      "C:\\Users\\User\\anaconda3\\lib\\site-packages\\ekphrasis\\classes\\exmanager.py:14: FutureWarning: Possible nested set at position 42\n",
      "  regexes = {k.lower(): re.compile(self.expressions[k]) for k, v in\n"
     ]
    },
    {
     "name": "stdout",
     "output_type": "stream",
     "text": [
      "Reading twitter - 1grams ...\n"
     ]
    }
   ],
   "source": [
    "from ekphrasis.classes.preprocessor import TextPreProcessor\n",
    "from ekphrasis.classes.tokenizer import SocialTokenizer\n",
    "from ekphrasis.dicts.emoticons import emoticons\n",
    "\n",
    "text_processor = TextPreProcessor(\n",
    "    # terms that will be normalized\n",
    "    normalize=['email', 'percent', 'money', 'phone', 'user',\n",
    "        'time', 'date', 'number'],\n",
    "    # terms that will be annotated\n",
    "    #annotate={\"hashtag\", \"allcaps\", \"elongated\", \"repeated\",'emphasis', 'censored'},\n",
    "    annotate={\"hashtag\",\"allcaps\",\"elongated\",\"repeated\",'emphasis','censored'},\n",
    "    fix_html=True,  # fix HTML tokens\n",
    "    \n",
    "    # corpus from which the word statistics are going to be used \n",
    "    # for word segmentation \n",
    "    segmenter=\"twitter\", \n",
    "    \n",
    "    # corpus from which the word statistics are going to be used \n",
    "    # for spell correction\n",
    "    corrector=\"twitter\", \n",
    "    \n",
    "    unpack_hashtags=True,  # perform word segmentation on hashtags\n",
    "    unpack_contractions=True,  # Unpack contractions (can't -> can not)\n",
    "    spell_correct_elong=False,  # spell correction for elongated words\n",
    "    \n",
    "    # select a tokenizer. You can use SocialTokenizer, or pass your own\n",
    "    # the tokenizer, should take as input a string and return a list of tokens\n",
    "    tokenizer=SocialTokenizer(lowercase=True).tokenize,\n",
    "    \n",
    "    # list of dictionaries, for replacing tokens extracted from the text,\n",
    "    # with other expressions. You can pass more than one dictionaries.\n",
    "    dicts=[emoticons]\n",
    ")"
   ]
  },
  {
   "cell_type": "markdown",
   "id": "bc1d75ea",
   "metadata": {},
   "source": [
    "## load library"
   ]
  },
  {
   "cell_type": "code",
   "execution_count": 3,
   "id": "d22c2b97",
   "metadata": {},
   "outputs": [],
   "source": [
    "import re\n",
    "import string \n",
    "import pandas as pd\n",
    "from copy import deepcopy\n",
    "\n",
    "import matplotlib.pyplot as plt\n",
    "import seaborn as sns\n",
    "%matplotlib inline\n",
    "\n",
    "from sklearn.model_selection import train_test_split\n",
    "from sklearn.metrics import accuracy_score\n",
    "from sklearn.metrics import recall_score\n",
    "from sklearn.metrics import precision_score"
   ]
  },
  {
   "cell_type": "markdown",
   "id": "1737a3c0",
   "metadata": {},
   "source": [
    "## load dataset"
   ]
  },
  {
   "cell_type": "code",
   "execution_count": 4,
   "id": "789e1a3b",
   "metadata": {},
   "outputs": [],
   "source": [
    "df = pd.read_csv('dataset_tweet_sentiment_cellular_service_provider.csv')"
   ]
  },
  {
   "cell_type": "code",
   "execution_count": 5,
   "id": "de123fba",
   "metadata": {},
   "outputs": [
    {
     "data": {
      "text/html": [
       "<div>\n",
       "<style scoped>\n",
       "    .dataframe tbody tr th:only-of-type {\n",
       "        vertical-align: middle;\n",
       "    }\n",
       "\n",
       "    .dataframe tbody tr th {\n",
       "        vertical-align: top;\n",
       "    }\n",
       "\n",
       "    .dataframe thead th {\n",
       "        text-align: right;\n",
       "    }\n",
       "</style>\n",
       "<table border=\"1\" class=\"dataframe\">\n",
       "  <thead>\n",
       "    <tr style=\"text-align: right;\">\n",
       "      <th></th>\n",
       "      <th>Id</th>\n",
       "      <th>Sentiment</th>\n",
       "      <th>Text Tweet</th>\n",
       "    </tr>\n",
       "  </thead>\n",
       "  <tbody>\n",
       "    <tr>\n",
       "      <th>0</th>\n",
       "      <td>1</td>\n",
       "      <td>positive</td>\n",
       "      <td>&lt;USER_MENTION&gt; #BOIKOT_&lt;PROVIDER_NAME&gt; Gunakan...</td>\n",
       "    </tr>\n",
       "    <tr>\n",
       "      <th>1</th>\n",
       "      <td>2</td>\n",
       "      <td>positive</td>\n",
       "      <td>Saktinya balik lagi, alhamdulillah :v &lt;PROVIDE...</td>\n",
       "    </tr>\n",
       "    <tr>\n",
       "      <th>2</th>\n",
       "      <td>3</td>\n",
       "      <td>negative</td>\n",
       "      <td>Selamat pagi &lt;PROVIDER_NAME&gt;  bisa bantu kenap...</td>\n",
       "    </tr>\n",
       "    <tr>\n",
       "      <th>3</th>\n",
       "      <td>4</td>\n",
       "      <td>negative</td>\n",
       "      <td>Dear &lt;PROVIDER_NAME&gt; akhir2 ini jaringan data ...</td>\n",
       "    </tr>\n",
       "    <tr>\n",
       "      <th>4</th>\n",
       "      <td>5</td>\n",
       "      <td>negative</td>\n",
       "      <td>Selamat malam PENDUSTA &lt;PROVIDER_NAME&gt;</td>\n",
       "    </tr>\n",
       "  </tbody>\n",
       "</table>\n",
       "</div>"
      ],
      "text/plain": [
       "   Id Sentiment                                         Text Tweet\n",
       "0   1  positive  <USER_MENTION> #BOIKOT_<PROVIDER_NAME> Gunakan...\n",
       "1   2  positive  Saktinya balik lagi, alhamdulillah :v <PROVIDE...\n",
       "2   3  negative  Selamat pagi <PROVIDER_NAME>  bisa bantu kenap...\n",
       "3   4  negative  Dear <PROVIDER_NAME> akhir2 ini jaringan data ...\n",
       "4   5  negative            Selamat malam PENDUSTA <PROVIDER_NAME> "
      ]
     },
     "execution_count": 5,
     "metadata": {},
     "output_type": "execute_result"
    }
   ],
   "source": [
    "df.head()"
   ]
  },
  {
   "cell_type": "code",
   "execution_count": 6,
   "id": "4ea69082",
   "metadata": {},
   "outputs": [],
   "source": [
    "map = {'negative':0,'positive':1}\n",
    "df.replace({'Sentiment' : map},inplace = True)"
   ]
  },
  {
   "cell_type": "code",
   "execution_count": 7,
   "id": "1a6fc47e",
   "metadata": {},
   "outputs": [
    {
     "data": {
      "text/html": [
       "<div>\n",
       "<style scoped>\n",
       "    .dataframe tbody tr th:only-of-type {\n",
       "        vertical-align: middle;\n",
       "    }\n",
       "\n",
       "    .dataframe tbody tr th {\n",
       "        vertical-align: top;\n",
       "    }\n",
       "\n",
       "    .dataframe thead th {\n",
       "        text-align: right;\n",
       "    }\n",
       "</style>\n",
       "<table border=\"1\" class=\"dataframe\">\n",
       "  <thead>\n",
       "    <tr style=\"text-align: right;\">\n",
       "      <th></th>\n",
       "      <th>Id</th>\n",
       "      <th>Sentiment</th>\n",
       "      <th>Text Tweet</th>\n",
       "    </tr>\n",
       "  </thead>\n",
       "  <tbody>\n",
       "    <tr>\n",
       "      <th>0</th>\n",
       "      <td>1</td>\n",
       "      <td>1</td>\n",
       "      <td>&lt;USER_MENTION&gt; #BOIKOT_&lt;PROVIDER_NAME&gt; Gunakan...</td>\n",
       "    </tr>\n",
       "    <tr>\n",
       "      <th>1</th>\n",
       "      <td>2</td>\n",
       "      <td>1</td>\n",
       "      <td>Saktinya balik lagi, alhamdulillah :v &lt;PROVIDE...</td>\n",
       "    </tr>\n",
       "    <tr>\n",
       "      <th>2</th>\n",
       "      <td>3</td>\n",
       "      <td>0</td>\n",
       "      <td>Selamat pagi &lt;PROVIDER_NAME&gt;  bisa bantu kenap...</td>\n",
       "    </tr>\n",
       "    <tr>\n",
       "      <th>3</th>\n",
       "      <td>4</td>\n",
       "      <td>0</td>\n",
       "      <td>Dear &lt;PROVIDER_NAME&gt; akhir2 ini jaringan data ...</td>\n",
       "    </tr>\n",
       "    <tr>\n",
       "      <th>4</th>\n",
       "      <td>5</td>\n",
       "      <td>0</td>\n",
       "      <td>Selamat malam PENDUSTA &lt;PROVIDER_NAME&gt;</td>\n",
       "    </tr>\n",
       "  </tbody>\n",
       "</table>\n",
       "</div>"
      ],
      "text/plain": [
       "   Id  Sentiment                                         Text Tweet\n",
       "0   1          1  <USER_MENTION> #BOIKOT_<PROVIDER_NAME> Gunakan...\n",
       "1   2          1  Saktinya balik lagi, alhamdulillah :v <PROVIDE...\n",
       "2   3          0  Selamat pagi <PROVIDER_NAME>  bisa bantu kenap...\n",
       "3   4          0  Dear <PROVIDER_NAME> akhir2 ini jaringan data ...\n",
       "4   5          0            Selamat malam PENDUSTA <PROVIDER_NAME> "
      ]
     },
     "execution_count": 7,
     "metadata": {},
     "output_type": "execute_result"
    }
   ],
   "source": [
    "df.head()"
   ]
  },
  {
   "cell_type": "code",
   "execution_count": 8,
   "id": "c6f5a961",
   "metadata": {},
   "outputs": [],
   "source": [
    "df = df.drop(['Id'], axis=1)"
   ]
  },
  {
   "cell_type": "code",
   "execution_count": 9,
   "id": "a6376a73",
   "metadata": {},
   "outputs": [
    {
     "data": {
      "text/html": [
       "<div>\n",
       "<style scoped>\n",
       "    .dataframe tbody tr th:only-of-type {\n",
       "        vertical-align: middle;\n",
       "    }\n",
       "\n",
       "    .dataframe tbody tr th {\n",
       "        vertical-align: top;\n",
       "    }\n",
       "\n",
       "    .dataframe thead th {\n",
       "        text-align: right;\n",
       "    }\n",
       "</style>\n",
       "<table border=\"1\" class=\"dataframe\">\n",
       "  <thead>\n",
       "    <tr style=\"text-align: right;\">\n",
       "      <th></th>\n",
       "      <th>Sentiment</th>\n",
       "      <th>Text Tweet</th>\n",
       "    </tr>\n",
       "  </thead>\n",
       "  <tbody>\n",
       "    <tr>\n",
       "      <th>0</th>\n",
       "      <td>1</td>\n",
       "      <td>&lt;USER_MENTION&gt; #BOIKOT_&lt;PROVIDER_NAME&gt; Gunakan...</td>\n",
       "    </tr>\n",
       "    <tr>\n",
       "      <th>1</th>\n",
       "      <td>1</td>\n",
       "      <td>Saktinya balik lagi, alhamdulillah :v &lt;PROVIDE...</td>\n",
       "    </tr>\n",
       "    <tr>\n",
       "      <th>2</th>\n",
       "      <td>0</td>\n",
       "      <td>Selamat pagi &lt;PROVIDER_NAME&gt;  bisa bantu kenap...</td>\n",
       "    </tr>\n",
       "    <tr>\n",
       "      <th>3</th>\n",
       "      <td>0</td>\n",
       "      <td>Dear &lt;PROVIDER_NAME&gt; akhir2 ini jaringan data ...</td>\n",
       "    </tr>\n",
       "    <tr>\n",
       "      <th>4</th>\n",
       "      <td>0</td>\n",
       "      <td>Selamat malam PENDUSTA &lt;PROVIDER_NAME&gt;</td>\n",
       "    </tr>\n",
       "  </tbody>\n",
       "</table>\n",
       "</div>"
      ],
      "text/plain": [
       "   Sentiment                                         Text Tweet\n",
       "0          1  <USER_MENTION> #BOIKOT_<PROVIDER_NAME> Gunakan...\n",
       "1          1  Saktinya balik lagi, alhamdulillah :v <PROVIDE...\n",
       "2          0  Selamat pagi <PROVIDER_NAME>  bisa bantu kenap...\n",
       "3          0  Dear <PROVIDER_NAME> akhir2 ini jaringan data ...\n",
       "4          0            Selamat malam PENDUSTA <PROVIDER_NAME> "
      ]
     },
     "execution_count": 9,
     "metadata": {},
     "output_type": "execute_result"
    }
   ],
   "source": [
    "df.head()"
   ]
  },
  {
   "cell_type": "markdown",
   "id": "e1dec56b",
   "metadata": {},
   "source": [
    "## Preprocessing"
   ]
  },
  {
   "cell_type": "markdown",
   "id": "488980dc",
   "metadata": {},
   "source": [
    "### Setting fungsi"
   ]
  },
  {
   "cell_type": "code",
   "execution_count": 10,
   "id": "73dcd8a9",
   "metadata": {},
   "outputs": [],
   "source": [
    "def bersih_data(text):\n",
    "    return \" \".join(text_processor.pre_process_doc(text))\n",
    "\n",
    "def non_ascii(text):\n",
    "    return text.encode('ascii', 'replace').decode('ascii')\n",
    "\n",
    "def remove_space_alzami(text):\n",
    "    return \" \".join(text.split())\n",
    "\n",
    "def remove_emoji_alzami(text):\n",
    "    return ' '.join(re.sub(\"([x#][A-Za-z0-9]+)\",\" \", text).split())\n",
    "\n",
    "def remove_tab(text):\n",
    "    return text.replace('\\\\t',\" \").replace('\\\\n',\" \").replace('\\\\u',\" \").replace('\\\\',\"\")\n",
    "\n",
    "def remove_tab2(text):\n",
    "    return re.sub('\\s+',' ',text)\n",
    "\n",
    "def remove_rt(text):\n",
    "    return text.replace('RT',\" \")\n",
    "\n",
    "def remove_mention(text):\n",
    "    return ' '.join(re.sub(\"([@#][A-Za-z0-9]+)|(\\w+:\\/\\/\\S+)\",\" \", text).split())\n",
    "\n",
    "def remove_incomplete_url(text):\n",
    "    return text.replace(\"http://\", \" \").replace(\"https://\", \" \")\n",
    "\n",
    "def remove_single_char(text):\n",
    "    return re.sub(r\"\\b[a-zA-Z]\\b\", \"\", text)\n",
    "\n",
    "def change_stripe(text):\n",
    "    return text.replace('-',\" \")\n",
    "\n",
    "def lower(text):\n",
    "    return text.lower()\n",
    "\n",
    "def remove_punctuation(text):\n",
    "    remove = string.punctuation\n",
    "    remove = remove.replace(\"_\", \"\") # don't remove hyphens\n",
    "    pattern = r\"[{}]\".format(remove) # create the pattern\n",
    "    return re.sub(pattern, \"\", text) "
   ]
  },
  {
   "cell_type": "markdown",
   "id": "24ec5641",
   "metadata": {},
   "source": [
    "### Running Preprocessing "
   ]
  },
  {
   "cell_type": "code",
   "execution_count": 11,
   "id": "b96b5ed6",
   "metadata": {},
   "outputs": [],
   "source": [
    "final_string = []\n",
    "for text in df['Text Tweet'].values:\n",
    "    EachReviewText = \"\"\n",
    "    proc = bersih_data(text)\n",
    "    proc = remove_rt(proc) \n",
    "    proc = lower(proc)\n",
    "    proc = change_stripe(proc)\n",
    "    proc = remove_tab(proc)\n",
    "    proc = remove_tab2(proc)\n",
    "    proc = non_ascii(proc)\n",
    "    proc = remove_incomplete_url(proc)\n",
    "    proc = remove_single_char(proc)\n",
    "    proc = remove_punctuation(proc)\n",
    "    proc = remove_space_alzami(proc)\n",
    "    EachReviewText = proc\n",
    "    final_string.append(EachReviewText)"
   ]
  },
  {
   "cell_type": "code",
   "execution_count": 12,
   "id": "15f08bd1",
   "metadata": {},
   "outputs": [],
   "source": [
    "df[\"step01\"] = final_string"
   ]
  },
  {
   "cell_type": "code",
   "execution_count": 13,
   "id": "f7273467",
   "metadata": {},
   "outputs": [
    {
     "data": {
      "text/html": [
       "<div>\n",
       "<style scoped>\n",
       "    .dataframe tbody tr th:only-of-type {\n",
       "        vertical-align: middle;\n",
       "    }\n",
       "\n",
       "    .dataframe tbody tr th {\n",
       "        vertical-align: top;\n",
       "    }\n",
       "\n",
       "    .dataframe thead th {\n",
       "        text-align: right;\n",
       "    }\n",
       "</style>\n",
       "<table border=\"1\" class=\"dataframe\">\n",
       "  <thead>\n",
       "    <tr style=\"text-align: right;\">\n",
       "      <th></th>\n",
       "      <th>Sentiment</th>\n",
       "      <th>Text Tweet</th>\n",
       "      <th>step01</th>\n",
       "    </tr>\n",
       "  </thead>\n",
       "  <tbody>\n",
       "    <tr>\n",
       "      <th>0</th>\n",
       "      <td>1</td>\n",
       "      <td>&lt;USER_MENTION&gt; #BOIKOT_&lt;PROVIDER_NAME&gt; Gunakan...</td>\n",
       "      <td>user_mention hashtag boikot hashtag provider_n...</td>\n",
       "    </tr>\n",
       "  </tbody>\n",
       "</table>\n",
       "</div>"
      ],
      "text/plain": [
       "   Sentiment                                         Text Tweet  \\\n",
       "0          1  <USER_MENTION> #BOIKOT_<PROVIDER_NAME> Gunakan...   \n",
       "\n",
       "                                              step01  \n",
       "0  user_mention hashtag boikot hashtag provider_n...  "
      ]
     },
     "execution_count": 13,
     "metadata": {},
     "output_type": "execute_result"
    }
   ],
   "source": [
    "df.head(1)"
   ]
  },
  {
   "cell_type": "code",
   "execution_count": 14,
   "id": "483296e4",
   "metadata": {},
   "outputs": [
    {
     "name": "stdout",
     "output_type": "stream",
     "text": [
      "<class 'pandas.core.frame.DataFrame'>\n",
      "RangeIndex: 300 entries, 0 to 299\n",
      "Data columns (total 3 columns):\n",
      " #   Column      Non-Null Count  Dtype \n",
      "---  ------      --------------  ----- \n",
      " 0   Sentiment   300 non-null    int64 \n",
      " 1   Text Tweet  300 non-null    object\n",
      " 2   step01      300 non-null    object\n",
      "dtypes: int64(1), object(2)\n",
      "memory usage: 7.2+ KB\n"
     ]
    }
   ],
   "source": [
    "df.info()"
   ]
  },
  {
   "cell_type": "markdown",
   "id": "84245ca5",
   "metadata": {},
   "source": [
    "### hapus record yang kosong "
   ]
  },
  {
   "cell_type": "code",
   "execution_count": 15,
   "id": "9c5dcb82",
   "metadata": {},
   "outputs": [],
   "source": [
    "df_hapus = df[~df['step01'].str.contains(\" \")]"
   ]
  },
  {
   "cell_type": "code",
   "execution_count": 16,
   "id": "0fa1c866",
   "metadata": {},
   "outputs": [],
   "source": [
    "df_new = df[~df.isin(df_hapus)].dropna()"
   ]
  },
  {
   "cell_type": "code",
   "execution_count": 17,
   "id": "2f8107a3",
   "metadata": {},
   "outputs": [
    {
     "name": "stdout",
     "output_type": "stream",
     "text": [
      "<class 'pandas.core.frame.DataFrame'>\n",
      "RangeIndex: 300 entries, 0 to 299\n",
      "Data columns (total 3 columns):\n",
      " #   Column      Non-Null Count  Dtype \n",
      "---  ------      --------------  ----- \n",
      " 0   Sentiment   300 non-null    int64 \n",
      " 1   Text Tweet  300 non-null    object\n",
      " 2   step01      300 non-null    object\n",
      "dtypes: int64(1), object(2)\n",
      "memory usage: 7.2+ KB\n"
     ]
    }
   ],
   "source": [
    "df_new.info()"
   ]
  },
  {
   "cell_type": "markdown",
   "id": "49287810",
   "metadata": {},
   "source": [
    "### normalisasi kata slang"
   ]
  },
  {
   "cell_type": "code",
   "execution_count": 18,
   "id": "52086cf0",
   "metadata": {},
   "outputs": [
    {
     "name": "stderr",
     "output_type": "stream",
     "text": [
      "[nltk_data] Downloading package punkt to\n",
      "[nltk_data]     C:\\Users\\User\\AppData\\Roaming\\nltk_data...\n",
      "[nltk_data]   Package punkt is already up-to-date!\n"
     ]
    }
   ],
   "source": [
    "# token\n",
    "import nltk\n",
    "nltk.download('punkt')\n",
    "from nltk.tokenize import word_tokenize "
   ]
  },
  {
   "cell_type": "code",
   "execution_count": 19,
   "id": "e1c03fb9",
   "metadata": {},
   "outputs": [],
   "source": [
    "def word_tokenize_wrapper(text):\n",
    "  return word_tokenize(text)"
   ]
  },
  {
   "cell_type": "code",
   "execution_count": 20,
   "id": "d8a19454",
   "metadata": {},
   "outputs": [],
   "source": [
    "df_new['tokens'] = df['step01'].apply(word_tokenize_wrapper)"
   ]
  },
  {
   "cell_type": "code",
   "execution_count": 21,
   "id": "f03f7102",
   "metadata": {},
   "outputs": [
    {
     "data": {
      "text/html": [
       "<div>\n",
       "<style scoped>\n",
       "    .dataframe tbody tr th:only-of-type {\n",
       "        vertical-align: middle;\n",
       "    }\n",
       "\n",
       "    .dataframe tbody tr th {\n",
       "        vertical-align: top;\n",
       "    }\n",
       "\n",
       "    .dataframe thead th {\n",
       "        text-align: right;\n",
       "    }\n",
       "</style>\n",
       "<table border=\"1\" class=\"dataframe\">\n",
       "  <thead>\n",
       "    <tr style=\"text-align: right;\">\n",
       "      <th></th>\n",
       "      <th>Sentiment</th>\n",
       "      <th>Text Tweet</th>\n",
       "      <th>step01</th>\n",
       "      <th>tokens</th>\n",
       "    </tr>\n",
       "  </thead>\n",
       "  <tbody>\n",
       "    <tr>\n",
       "      <th>0</th>\n",
       "      <td>1</td>\n",
       "      <td>&lt;USER_MENTION&gt; #BOIKOT_&lt;PROVIDER_NAME&gt; Gunakan...</td>\n",
       "      <td>user_mention hashtag boikot hashtag provider_n...</td>\n",
       "      <td>[user_mention, hashtag, boikot, hashtag, provi...</td>\n",
       "    </tr>\n",
       "    <tr>\n",
       "      <th>1</th>\n",
       "      <td>1</td>\n",
       "      <td>Saktinya balik lagi, alhamdulillah :v &lt;PROVIDE...</td>\n",
       "      <td>saktinya balik lagi alhamdulillah provider_name</td>\n",
       "      <td>[saktinya, balik, lagi, alhamdulillah, provide...</td>\n",
       "    </tr>\n",
       "    <tr>\n",
       "      <th>2</th>\n",
       "      <td>0</td>\n",
       "      <td>Selamat pagi &lt;PROVIDER_NAME&gt;  bisa bantu kenap...</td>\n",
       "      <td>selamat pagi provider_name bisa bantu kenapa d...</td>\n",
       "      <td>[selamat, pagi, provider_name, bisa, bantu, ke...</td>\n",
       "    </tr>\n",
       "    <tr>\n",
       "      <th>3</th>\n",
       "      <td>0</td>\n",
       "      <td>Dear &lt;PROVIDER_NAME&gt; akhir2 ini jaringan data ...</td>\n",
       "      <td>dear provider_name akhir2 ini jaringan data le...</td>\n",
       "      <td>[dear, provider_name, akhir2, ini, jaringan, d...</td>\n",
       "    </tr>\n",
       "    <tr>\n",
       "      <th>4</th>\n",
       "      <td>0</td>\n",
       "      <td>Selamat malam PENDUSTA &lt;PROVIDER_NAME&gt;</td>\n",
       "      <td>selamat malam allcaps pendusta allcaps provide...</td>\n",
       "      <td>[selamat, malam, allcaps, pendusta, allcaps, p...</td>\n",
       "    </tr>\n",
       "    <tr>\n",
       "      <th>5</th>\n",
       "      <td>0</td>\n",
       "      <td>Untuk penembakan paket dari &lt;PRODUCT_NAME&gt; mas...</td>\n",
       "      <td>untuk penembakan paket dari product_name masih...</td>\n",
       "      <td>[untuk, penembakan, paket, dari, product_name,...</td>\n",
       "    </tr>\n",
       "    <tr>\n",
       "      <th>6</th>\n",
       "      <td>1</td>\n",
       "      <td>&lt;PROVIDER_NAME&gt;  aku pakai &lt;PROVIDER_NAME&gt;, pa...</td>\n",
       "      <td>provider_name aku pakai provider_name paket pr...</td>\n",
       "      <td>[provider_name, aku, pakai, provider_name, pak...</td>\n",
       "    </tr>\n",
       "    <tr>\n",
       "      <th>7</th>\n",
       "      <td>0</td>\n",
       "      <td>RT &lt;USER_MENTION&gt;: &lt;PROVIDER_NAME&gt; tak ada lag...</td>\n",
       "      <td>rt user_mention provider_name tak ada lagi dal...</td>\n",
       "      <td>[rt, user_mention, provider_name, tak, ada, la...</td>\n",
       "    </tr>\n",
       "    <tr>\n",
       "      <th>8</th>\n",
       "      <td>0</td>\n",
       "      <td>keluhan gak ditanggapi. bikin emosi aja. pulsa...</td>\n",
       "      <td>keluhan gak ditanggapi bikin emosi aja pulsaku...</td>\n",
       "      <td>[keluhan, gak, ditanggapi, bikin, emosi, aja, ...</td>\n",
       "    </tr>\n",
       "    <tr>\n",
       "      <th>9</th>\n",
       "      <td>0</td>\n",
       "      <td>#Bilboard iklan &lt;PROVIDER_NAME&gt; kok ada pesan ...</td>\n",
       "      <td>hashtag bilboard hashtag iklan provider_name k...</td>\n",
       "      <td>[hashtag, bilboard, hashtag, iklan, provider_n...</td>\n",
       "    </tr>\n",
       "  </tbody>\n",
       "</table>\n",
       "</div>"
      ],
      "text/plain": [
       "   Sentiment                                         Text Tweet  \\\n",
       "0          1  <USER_MENTION> #BOIKOT_<PROVIDER_NAME> Gunakan...   \n",
       "1          1  Saktinya balik lagi, alhamdulillah :v <PROVIDE...   \n",
       "2          0  Selamat pagi <PROVIDER_NAME>  bisa bantu kenap...   \n",
       "3          0  Dear <PROVIDER_NAME> akhir2 ini jaringan data ...   \n",
       "4          0            Selamat malam PENDUSTA <PROVIDER_NAME>    \n",
       "5          0  Untuk penembakan paket dari <PRODUCT_NAME> mas...   \n",
       "6          1  <PROVIDER_NAME>  aku pakai <PROVIDER_NAME>, pa...   \n",
       "7          0  RT <USER_MENTION>: <PROVIDER_NAME> tak ada lag...   \n",
       "8          0  keluhan gak ditanggapi. bikin emosi aja. pulsa...   \n",
       "9          0  #Bilboard iklan <PROVIDER_NAME> kok ada pesan ...   \n",
       "\n",
       "                                              step01  \\\n",
       "0  user_mention hashtag boikot hashtag provider_n...   \n",
       "1    saktinya balik lagi alhamdulillah provider_name   \n",
       "2  selamat pagi provider_name bisa bantu kenapa d...   \n",
       "3  dear provider_name akhir2 ini jaringan data le...   \n",
       "4  selamat malam allcaps pendusta allcaps provide...   \n",
       "5  untuk penembakan paket dari product_name masih...   \n",
       "6  provider_name aku pakai provider_name paket pr...   \n",
       "7  rt user_mention provider_name tak ada lagi dal...   \n",
       "8  keluhan gak ditanggapi bikin emosi aja pulsaku...   \n",
       "9  hashtag bilboard hashtag iklan provider_name k...   \n",
       "\n",
       "                                              tokens  \n",
       "0  [user_mention, hashtag, boikot, hashtag, provi...  \n",
       "1  [saktinya, balik, lagi, alhamdulillah, provide...  \n",
       "2  [selamat, pagi, provider_name, bisa, bantu, ke...  \n",
       "3  [dear, provider_name, akhir2, ini, jaringan, d...  \n",
       "4  [selamat, malam, allcaps, pendusta, allcaps, p...  \n",
       "5  [untuk, penembakan, paket, dari, product_name,...  \n",
       "6  [provider_name, aku, pakai, provider_name, pak...  \n",
       "7  [rt, user_mention, provider_name, tak, ada, la...  \n",
       "8  [keluhan, gak, ditanggapi, bikin, emosi, aja, ...  \n",
       "9  [hashtag, bilboard, hashtag, iklan, provider_n...  "
      ]
     },
     "execution_count": 21,
     "metadata": {},
     "output_type": "execute_result"
    }
   ],
   "source": [
    "df_new.head(10)"
   ]
  },
  {
   "cell_type": "code",
   "execution_count": 22,
   "id": "0c9c159e",
   "metadata": {},
   "outputs": [],
   "source": [
    "normalized_word = pd.read_excel(\"kamus perbaikan kata.xlsx\")\n",
    "\n",
    "normalized_word_dict = {}\n",
    "\n",
    "for index, row in normalized_word.iterrows():\n",
    "    if row[0] not in normalized_word_dict:\n",
    "        normalized_word_dict[row[0]] = row[1] \n",
    "\n",
    "def normalized_term(document):\n",
    "    return [normalized_word_dict[term] if term in normalized_word_dict else term for term in document]\n",
    "\n",
    "df_new['tokens_perbaikan'] = df_new['tokens'].apply(normalized_term)"
   ]
  },
  {
   "cell_type": "code",
   "execution_count": 23,
   "id": "b4cf3322",
   "metadata": {},
   "outputs": [
    {
     "data": {
      "text/html": [
       "<div>\n",
       "<style scoped>\n",
       "    .dataframe tbody tr th:only-of-type {\n",
       "        vertical-align: middle;\n",
       "    }\n",
       "\n",
       "    .dataframe tbody tr th {\n",
       "        vertical-align: top;\n",
       "    }\n",
       "\n",
       "    .dataframe thead th {\n",
       "        text-align: right;\n",
       "    }\n",
       "</style>\n",
       "<table border=\"1\" class=\"dataframe\">\n",
       "  <thead>\n",
       "    <tr style=\"text-align: right;\">\n",
       "      <th></th>\n",
       "      <th>Sentiment</th>\n",
       "      <th>Text Tweet</th>\n",
       "      <th>step01</th>\n",
       "      <th>tokens</th>\n",
       "      <th>tokens_perbaikan</th>\n",
       "    </tr>\n",
       "  </thead>\n",
       "  <tbody>\n",
       "    <tr>\n",
       "      <th>0</th>\n",
       "      <td>1</td>\n",
       "      <td>&lt;USER_MENTION&gt; #BOIKOT_&lt;PROVIDER_NAME&gt; Gunakan...</td>\n",
       "      <td>user_mention hashtag boikot hashtag provider_n...</td>\n",
       "      <td>[user_mention, hashtag, boikot, hashtag, provi...</td>\n",
       "      <td>[user_mention, hashtag, boikot, hashtag, provi...</td>\n",
       "    </tr>\n",
       "    <tr>\n",
       "      <th>1</th>\n",
       "      <td>1</td>\n",
       "      <td>Saktinya balik lagi, alhamdulillah :v &lt;PROVIDE...</td>\n",
       "      <td>saktinya balik lagi alhamdulillah provider_name</td>\n",
       "      <td>[saktinya, balik, lagi, alhamdulillah, provide...</td>\n",
       "      <td>[saktinya, balik, lagi, syukur, provider_name]</td>\n",
       "    </tr>\n",
       "    <tr>\n",
       "      <th>2</th>\n",
       "      <td>0</td>\n",
       "      <td>Selamat pagi &lt;PROVIDER_NAME&gt;  bisa bantu kenap...</td>\n",
       "      <td>selamat pagi provider_name bisa bantu kenapa d...</td>\n",
       "      <td>[selamat, pagi, provider_name, bisa, bantu, ke...</td>\n",
       "      <td>[selamat, pagi, provider_name, bisa, bantu, ke...</td>\n",
       "    </tr>\n",
       "    <tr>\n",
       "      <th>3</th>\n",
       "      <td>0</td>\n",
       "      <td>Dear &lt;PROVIDER_NAME&gt; akhir2 ini jaringan data ...</td>\n",
       "      <td>dear provider_name akhir2 ini jaringan data le...</td>\n",
       "      <td>[dear, provider_name, akhir2, ini, jaringan, d...</td>\n",
       "      <td>[dear, provider_name, akhir2, ini, jaringan, d...</td>\n",
       "    </tr>\n",
       "    <tr>\n",
       "      <th>4</th>\n",
       "      <td>0</td>\n",
       "      <td>Selamat malam PENDUSTA &lt;PROVIDER_NAME&gt;</td>\n",
       "      <td>selamat malam allcaps pendusta allcaps provide...</td>\n",
       "      <td>[selamat, malam, allcaps, pendusta, allcaps, p...</td>\n",
       "      <td>[selamat, malam, allcaps, pendusta, allcaps, p...</td>\n",
       "    </tr>\n",
       "  </tbody>\n",
       "</table>\n",
       "</div>"
      ],
      "text/plain": [
       "   Sentiment                                         Text Tweet  \\\n",
       "0          1  <USER_MENTION> #BOIKOT_<PROVIDER_NAME> Gunakan...   \n",
       "1          1  Saktinya balik lagi, alhamdulillah :v <PROVIDE...   \n",
       "2          0  Selamat pagi <PROVIDER_NAME>  bisa bantu kenap...   \n",
       "3          0  Dear <PROVIDER_NAME> akhir2 ini jaringan data ...   \n",
       "4          0            Selamat malam PENDUSTA <PROVIDER_NAME>    \n",
       "\n",
       "                                              step01  \\\n",
       "0  user_mention hashtag boikot hashtag provider_n...   \n",
       "1    saktinya balik lagi alhamdulillah provider_name   \n",
       "2  selamat pagi provider_name bisa bantu kenapa d...   \n",
       "3  dear provider_name akhir2 ini jaringan data le...   \n",
       "4  selamat malam allcaps pendusta allcaps provide...   \n",
       "\n",
       "                                              tokens  \\\n",
       "0  [user_mention, hashtag, boikot, hashtag, provi...   \n",
       "1  [saktinya, balik, lagi, alhamdulillah, provide...   \n",
       "2  [selamat, pagi, provider_name, bisa, bantu, ke...   \n",
       "3  [dear, provider_name, akhir2, ini, jaringan, d...   \n",
       "4  [selamat, malam, allcaps, pendusta, allcaps, p...   \n",
       "\n",
       "                                    tokens_perbaikan  \n",
       "0  [user_mention, hashtag, boikot, hashtag, provi...  \n",
       "1     [saktinya, balik, lagi, syukur, provider_name]  \n",
       "2  [selamat, pagi, provider_name, bisa, bantu, ke...  \n",
       "3  [dear, provider_name, akhir2, ini, jaringan, d...  \n",
       "4  [selamat, malam, allcaps, pendusta, allcaps, p...  "
      ]
     },
     "execution_count": 23,
     "metadata": {},
     "output_type": "execute_result"
    }
   ],
   "source": [
    "df_new.head()"
   ]
  },
  {
   "cell_type": "code",
   "execution_count": 24,
   "id": "85c71a6c",
   "metadata": {},
   "outputs": [
    {
     "data": {
      "text/plain": [
       "['user_mention',\n",
       " 'hashtag',\n",
       " 'boikot',\n",
       " 'hashtag',\n",
       " 'provider_name',\n",
       " 'gunakan',\n",
       " 'produk',\n",
       " 'bangsa',\n",
       " 'sendiri',\n",
       " 'provider_name']"
      ]
     },
     "execution_count": 24,
     "metadata": {},
     "output_type": "execute_result"
    }
   ],
   "source": [
    "df_new.iloc[0].tokens"
   ]
  },
  {
   "cell_type": "code",
   "execution_count": 25,
   "id": "6ebeb7db",
   "metadata": {},
   "outputs": [
    {
     "data": {
      "text/plain": [
       "['user_mention',\n",
       " 'hashtag',\n",
       " 'boikot',\n",
       " 'hashtag',\n",
       " 'provider_name',\n",
       " 'gunakan',\n",
       " 'produk',\n",
       " 'bangsa',\n",
       " 'sendiri',\n",
       " 'provider_name']"
      ]
     },
     "execution_count": 25,
     "metadata": {},
     "output_type": "execute_result"
    }
   ],
   "source": [
    "df_new.iloc[0].tokens_perbaikan"
   ]
  },
  {
   "cell_type": "markdown",
   "id": "d72f1efb",
   "metadata": {},
   "source": [
    "## Stopword - Menggunakan Modul NLTK"
   ]
  },
  {
   "cell_type": "code",
   "execution_count": 26,
   "id": "5181ab88",
   "metadata": {},
   "outputs": [
    {
     "name": "stderr",
     "output_type": "stream",
     "text": [
      "[nltk_data] Downloading package stopwords to\n",
      "[nltk_data]     C:\\Users\\User\\AppData\\Roaming\\nltk_data...\n",
      "[nltk_data]   Package stopwords is already up-to-date!\n"
     ]
    },
    {
     "data": {
      "text/plain": [
       "True"
      ]
     },
     "execution_count": 26,
     "metadata": {},
     "output_type": "execute_result"
    }
   ],
   "source": [
    "from nltk.corpus import stopwords\n",
    "nltk.download(\"stopwords\")"
   ]
  },
  {
   "cell_type": "code",
   "execution_count": 27,
   "id": "9ed11261",
   "metadata": {},
   "outputs": [
    {
     "data": {
      "text/html": [
       "<div>\n",
       "<style scoped>\n",
       "    .dataframe tbody tr th:only-of-type {\n",
       "        vertical-align: middle;\n",
       "    }\n",
       "\n",
       "    .dataframe tbody tr th {\n",
       "        vertical-align: top;\n",
       "    }\n",
       "\n",
       "    .dataframe thead th {\n",
       "        text-align: right;\n",
       "    }\n",
       "</style>\n",
       "<table border=\"1\" class=\"dataframe\">\n",
       "  <thead>\n",
       "    <tr style=\"text-align: right;\">\n",
       "      <th></th>\n",
       "      <th>Sentiment</th>\n",
       "      <th>Text Tweet</th>\n",
       "      <th>step01</th>\n",
       "      <th>tokens</th>\n",
       "      <th>tokens_perbaikan</th>\n",
       "      <th>Stop_removal</th>\n",
       "    </tr>\n",
       "  </thead>\n",
       "  <tbody>\n",
       "    <tr>\n",
       "      <th>0</th>\n",
       "      <td>1</td>\n",
       "      <td>&lt;USER_MENTION&gt; #BOIKOT_&lt;PROVIDER_NAME&gt; Gunakan...</td>\n",
       "      <td>user_mention hashtag boikot hashtag provider_n...</td>\n",
       "      <td>[user_mention, hashtag, boikot, hashtag, provi...</td>\n",
       "      <td>[user_mention, hashtag, boikot, hashtag, provi...</td>\n",
       "      <td>[user_mention, hashtag, boikot, hashtag, provi...</td>\n",
       "    </tr>\n",
       "    <tr>\n",
       "      <th>1</th>\n",
       "      <td>1</td>\n",
       "      <td>Saktinya balik lagi, alhamdulillah :v &lt;PROVIDE...</td>\n",
       "      <td>saktinya balik lagi alhamdulillah provider_name</td>\n",
       "      <td>[saktinya, balik, lagi, alhamdulillah, provide...</td>\n",
       "      <td>[saktinya, balik, lagi, syukur, provider_name]</td>\n",
       "      <td>[saktinya, syukur, provider_name]</td>\n",
       "    </tr>\n",
       "    <tr>\n",
       "      <th>2</th>\n",
       "      <td>0</td>\n",
       "      <td>Selamat pagi &lt;PROVIDER_NAME&gt;  bisa bantu kenap...</td>\n",
       "      <td>selamat pagi provider_name bisa bantu kenapa d...</td>\n",
       "      <td>[selamat, pagi, provider_name, bisa, bantu, ke...</td>\n",
       "      <td>[selamat, pagi, provider_name, bisa, bantu, ke...</td>\n",
       "      <td>[selamat, pagi, provider_name, bantu, kamar, s...</td>\n",
       "    </tr>\n",
       "    <tr>\n",
       "      <th>3</th>\n",
       "      <td>0</td>\n",
       "      <td>Dear &lt;PROVIDER_NAME&gt; akhir2 ini jaringan data ...</td>\n",
       "      <td>dear provider_name akhir2 ini jaringan data le...</td>\n",
       "      <td>[dear, provider_name, akhir2, ini, jaringan, d...</td>\n",
       "      <td>[dear, provider_name, akhir2, ini, jaringan, d...</td>\n",
       "      <td>[dear, provider_name, akhir2, jaringan, data, ...</td>\n",
       "    </tr>\n",
       "    <tr>\n",
       "      <th>4</th>\n",
       "      <td>0</td>\n",
       "      <td>Selamat malam PENDUSTA &lt;PROVIDER_NAME&gt;</td>\n",
       "      <td>selamat malam allcaps pendusta allcaps provide...</td>\n",
       "      <td>[selamat, malam, allcaps, pendusta, allcaps, p...</td>\n",
       "      <td>[selamat, malam, allcaps, pendusta, allcaps, p...</td>\n",
       "      <td>[selamat, malam, allcaps, pendusta, allcaps, p...</td>\n",
       "    </tr>\n",
       "    <tr>\n",
       "      <th>...</th>\n",
       "      <td>...</td>\n",
       "      <td>...</td>\n",
       "      <td>...</td>\n",
       "      <td>...</td>\n",
       "      <td>...</td>\n",
       "      <td>...</td>\n",
       "    </tr>\n",
       "    <tr>\n",
       "      <th>295</th>\n",
       "      <td>1</td>\n",
       "      <td>Pantesan lancar ya, sinyal &lt;PROVIDER_NAME&gt; yan...</td>\n",
       "      <td>pantesan lancar ya sinyal provider_name yang 4...</td>\n",
       "      <td>[pantesan, lancar, ya, sinyal, provider_name, ...</td>\n",
       "      <td>[pantesan, lancar, iya, sinyal, provider_name,...</td>\n",
       "      <td>[pantesan, lancar, iya, sinyal, provider_name,...</td>\n",
       "    </tr>\n",
       "    <tr>\n",
       "      <th>296</th>\n",
       "      <td>1</td>\n",
       "      <td>Alhamdulillah lancar pakai &lt;PROVIDER_NAME&gt;</td>\n",
       "      <td>alhamdulillah lancar pakai provider_name</td>\n",
       "      <td>[alhamdulillah, lancar, pakai, provider_name]</td>\n",
       "      <td>[syukur, lancar, pakai, provider_name]</td>\n",
       "      <td>[syukur, lancar, pakai, provider_name]</td>\n",
       "    </tr>\n",
       "    <tr>\n",
       "      <th>297</th>\n",
       "      <td>1</td>\n",
       "      <td>Untung pakai internet &lt;PROVIDER_NAME&gt;, lancar,...</td>\n",
       "      <td>untung pakai internet provider_name lancar jad...</td>\n",
       "      <td>[untung, pakai, internet, provider_name, lanca...</td>\n",
       "      <td>[untung, pakai, internet, provider_name, lanca...</td>\n",
       "      <td>[untung, pakai, internet, provider_name, lanca...</td>\n",
       "    </tr>\n",
       "    <tr>\n",
       "      <th>298</th>\n",
       "      <td>1</td>\n",
       "      <td>di tempat ramai seperti di lokasi wisata, &lt;PRO...</td>\n",
       "      <td>di tempat ramai seperti di lokasi wisata provi...</td>\n",
       "      <td>[di, tempat, ramai, seperti, di, lokasi, wisat...</td>\n",
       "      <td>[di, tempat, ramai, seperti, di, lokasi, wisat...</td>\n",
       "      <td>[ramai, lokasi, wisata, provider_name, jaya]</td>\n",
       "    </tr>\n",
       "    <tr>\n",
       "      <th>299</th>\n",
       "      <td>0</td>\n",
       "      <td>Sinyal &lt;PROVIDER_NAME&gt; amsyong d stadion gajayana</td>\n",
       "      <td>sinyal provider_name amsyong stadion gajayana</td>\n",
       "      <td>[sinyal, provider_name, amsyong, stadion, gaja...</td>\n",
       "      <td>[sinyal, provider_name, amsyong, stadion, gaja...</td>\n",
       "      <td>[sinyal, provider_name, amsyong, stadion, gaja...</td>\n",
       "    </tr>\n",
       "  </tbody>\n",
       "</table>\n",
       "<p>300 rows × 6 columns</p>\n",
       "</div>"
      ],
      "text/plain": [
       "     Sentiment                                         Text Tweet  \\\n",
       "0            1  <USER_MENTION> #BOIKOT_<PROVIDER_NAME> Gunakan...   \n",
       "1            1  Saktinya balik lagi, alhamdulillah :v <PROVIDE...   \n",
       "2            0  Selamat pagi <PROVIDER_NAME>  bisa bantu kenap...   \n",
       "3            0  Dear <PROVIDER_NAME> akhir2 ini jaringan data ...   \n",
       "4            0            Selamat malam PENDUSTA <PROVIDER_NAME>    \n",
       "..         ...                                                ...   \n",
       "295          1  Pantesan lancar ya, sinyal <PROVIDER_NAME> yan...   \n",
       "296          1         Alhamdulillah lancar pakai <PROVIDER_NAME>   \n",
       "297          1  Untung pakai internet <PROVIDER_NAME>, lancar,...   \n",
       "298          1  di tempat ramai seperti di lokasi wisata, <PRO...   \n",
       "299          0  Sinyal <PROVIDER_NAME> amsyong d stadion gajayana   \n",
       "\n",
       "                                                step01  \\\n",
       "0    user_mention hashtag boikot hashtag provider_n...   \n",
       "1      saktinya balik lagi alhamdulillah provider_name   \n",
       "2    selamat pagi provider_name bisa bantu kenapa d...   \n",
       "3    dear provider_name akhir2 ini jaringan data le...   \n",
       "4    selamat malam allcaps pendusta allcaps provide...   \n",
       "..                                                 ...   \n",
       "295  pantesan lancar ya sinyal provider_name yang 4...   \n",
       "296           alhamdulillah lancar pakai provider_name   \n",
       "297  untung pakai internet provider_name lancar jad...   \n",
       "298  di tempat ramai seperti di lokasi wisata provi...   \n",
       "299      sinyal provider_name amsyong stadion gajayana   \n",
       "\n",
       "                                                tokens  \\\n",
       "0    [user_mention, hashtag, boikot, hashtag, provi...   \n",
       "1    [saktinya, balik, lagi, alhamdulillah, provide...   \n",
       "2    [selamat, pagi, provider_name, bisa, bantu, ke...   \n",
       "3    [dear, provider_name, akhir2, ini, jaringan, d...   \n",
       "4    [selamat, malam, allcaps, pendusta, allcaps, p...   \n",
       "..                                                 ...   \n",
       "295  [pantesan, lancar, ya, sinyal, provider_name, ...   \n",
       "296      [alhamdulillah, lancar, pakai, provider_name]   \n",
       "297  [untung, pakai, internet, provider_name, lanca...   \n",
       "298  [di, tempat, ramai, seperti, di, lokasi, wisat...   \n",
       "299  [sinyal, provider_name, amsyong, stadion, gaja...   \n",
       "\n",
       "                                      tokens_perbaikan  \\\n",
       "0    [user_mention, hashtag, boikot, hashtag, provi...   \n",
       "1       [saktinya, balik, lagi, syukur, provider_name]   \n",
       "2    [selamat, pagi, provider_name, bisa, bantu, ke...   \n",
       "3    [dear, provider_name, akhir2, ini, jaringan, d...   \n",
       "4    [selamat, malam, allcaps, pendusta, allcaps, p...   \n",
       "..                                                 ...   \n",
       "295  [pantesan, lancar, iya, sinyal, provider_name,...   \n",
       "296             [syukur, lancar, pakai, provider_name]   \n",
       "297  [untung, pakai, internet, provider_name, lanca...   \n",
       "298  [di, tempat, ramai, seperti, di, lokasi, wisat...   \n",
       "299  [sinyal, provider_name, amsyong, stadion, gaja...   \n",
       "\n",
       "                                          Stop_removal  \n",
       "0    [user_mention, hashtag, boikot, hashtag, provi...  \n",
       "1                    [saktinya, syukur, provider_name]  \n",
       "2    [selamat, pagi, provider_name, bantu, kamar, s...  \n",
       "3    [dear, provider_name, akhir2, jaringan, data, ...  \n",
       "4    [selamat, malam, allcaps, pendusta, allcaps, p...  \n",
       "..                                                 ...  \n",
       "295  [pantesan, lancar, iya, sinyal, provider_name,...  \n",
       "296             [syukur, lancar, pakai, provider_name]  \n",
       "297  [untung, pakai, internet, provider_name, lanca...  \n",
       "298       [ramai, lokasi, wisata, provider_name, jaya]  \n",
       "299  [sinyal, provider_name, amsyong, stadion, gaja...  \n",
       "\n",
       "[300 rows x 6 columns]"
      ]
     },
     "execution_count": 27,
     "metadata": {},
     "output_type": "execute_result"
    }
   ],
   "source": [
    "stopword = nltk.corpus.stopwords.words('indonesian')\n",
    "\n",
    "def remove_stopwords(text):\n",
    "  text = [word for word in text if word not in stopword]\n",
    "  return text\n",
    "\n",
    "df_new['Stop_removal'] = df_new['tokens_perbaikan'].apply(lambda x: remove_stopwords(x))\n",
    "df_new"
   ]
  },
  {
   "cell_type": "code",
   "execution_count": 28,
   "id": "654e60fe",
   "metadata": {},
   "outputs": [
    {
     "data": {
      "text/plain": [
       "['user_mention',\n",
       " 'hashtag',\n",
       " 'boikot',\n",
       " 'hashtag',\n",
       " 'provider_name',\n",
       " 'gunakan',\n",
       " 'produk',\n",
       " 'bangsa',\n",
       " 'sendiri',\n",
       " 'provider_name']"
      ]
     },
     "execution_count": 28,
     "metadata": {},
     "output_type": "execute_result"
    }
   ],
   "source": [
    "df_new.iloc[0].tokens_perbaikan"
   ]
  },
  {
   "cell_type": "code",
   "execution_count": 29,
   "id": "ad4123a2",
   "metadata": {},
   "outputs": [
    {
     "data": {
      "text/plain": [
       "['user_mention',\n",
       " 'hashtag',\n",
       " 'boikot',\n",
       " 'hashtag',\n",
       " 'provider_name',\n",
       " 'produk',\n",
       " 'bangsa',\n",
       " 'provider_name']"
      ]
     },
     "execution_count": 29,
     "metadata": {},
     "output_type": "execute_result"
    }
   ],
   "source": [
    "df_new.iloc[0].Stop_removal"
   ]
  },
  {
   "cell_type": "code",
   "execution_count": 30,
   "id": "0f39eb37",
   "metadata": {},
   "outputs": [],
   "source": [
    "i=0\n",
    "final_string_tokens = []\n",
    "for text in df_new['Stop_removal'].values:\n",
    "    EachReviewText = \"\"\n",
    "    EachReviewText = ' '.join(text)\n",
    "    final_string_tokens.append(EachReviewText)"
   ]
  },
  {
   "cell_type": "code",
   "execution_count": 31,
   "id": "85786136",
   "metadata": {},
   "outputs": [],
   "source": [
    "df_new[\"step02\"] = final_string_tokens"
   ]
  },
  {
   "cell_type": "code",
   "execution_count": 32,
   "id": "9adfb466",
   "metadata": {},
   "outputs": [
    {
     "data": {
      "text/html": [
       "<div>\n",
       "<style scoped>\n",
       "    .dataframe tbody tr th:only-of-type {\n",
       "        vertical-align: middle;\n",
       "    }\n",
       "\n",
       "    .dataframe tbody tr th {\n",
       "        vertical-align: top;\n",
       "    }\n",
       "\n",
       "    .dataframe thead th {\n",
       "        text-align: right;\n",
       "    }\n",
       "</style>\n",
       "<table border=\"1\" class=\"dataframe\">\n",
       "  <thead>\n",
       "    <tr style=\"text-align: right;\">\n",
       "      <th></th>\n",
       "      <th>Sentiment</th>\n",
       "      <th>Text Tweet</th>\n",
       "      <th>step01</th>\n",
       "      <th>tokens</th>\n",
       "      <th>tokens_perbaikan</th>\n",
       "      <th>Stop_removal</th>\n",
       "      <th>step02</th>\n",
       "    </tr>\n",
       "  </thead>\n",
       "  <tbody>\n",
       "    <tr>\n",
       "      <th>0</th>\n",
       "      <td>1</td>\n",
       "      <td>&lt;USER_MENTION&gt; #BOIKOT_&lt;PROVIDER_NAME&gt; Gunakan...</td>\n",
       "      <td>user_mention hashtag boikot hashtag provider_n...</td>\n",
       "      <td>[user_mention, hashtag, boikot, hashtag, provi...</td>\n",
       "      <td>[user_mention, hashtag, boikot, hashtag, provi...</td>\n",
       "      <td>[user_mention, hashtag, boikot, hashtag, provi...</td>\n",
       "      <td>user_mention hashtag boikot hashtag provider_n...</td>\n",
       "    </tr>\n",
       "    <tr>\n",
       "      <th>1</th>\n",
       "      <td>1</td>\n",
       "      <td>Saktinya balik lagi, alhamdulillah :v &lt;PROVIDE...</td>\n",
       "      <td>saktinya balik lagi alhamdulillah provider_name</td>\n",
       "      <td>[saktinya, balik, lagi, alhamdulillah, provide...</td>\n",
       "      <td>[saktinya, balik, lagi, syukur, provider_name]</td>\n",
       "      <td>[saktinya, syukur, provider_name]</td>\n",
       "      <td>saktinya syukur provider_name</td>\n",
       "    </tr>\n",
       "    <tr>\n",
       "      <th>2</th>\n",
       "      <td>0</td>\n",
       "      <td>Selamat pagi &lt;PROVIDER_NAME&gt;  bisa bantu kenap...</td>\n",
       "      <td>selamat pagi provider_name bisa bantu kenapa d...</td>\n",
       "      <td>[selamat, pagi, provider_name, bisa, bantu, ke...</td>\n",
       "      <td>[selamat, pagi, provider_name, bisa, bantu, ke...</td>\n",
       "      <td>[selamat, pagi, provider_name, bantu, kamar, s...</td>\n",
       "      <td>selamat pagi provider_name bantu kamar sinyal ...</td>\n",
       "    </tr>\n",
       "    <tr>\n",
       "      <th>3</th>\n",
       "      <td>0</td>\n",
       "      <td>Dear &lt;PROVIDER_NAME&gt; akhir2 ini jaringan data ...</td>\n",
       "      <td>dear provider_name akhir2 ini jaringan data le...</td>\n",
       "      <td>[dear, provider_name, akhir2, ini, jaringan, d...</td>\n",
       "      <td>[dear, provider_name, akhir2, ini, jaringan, d...</td>\n",
       "      <td>[dear, provider_name, akhir2, jaringan, data, ...</td>\n",
       "      <td>dear provider_name akhir2 jaringan data lemot ...</td>\n",
       "    </tr>\n",
       "    <tr>\n",
       "      <th>4</th>\n",
       "      <td>0</td>\n",
       "      <td>Selamat malam PENDUSTA &lt;PROVIDER_NAME&gt;</td>\n",
       "      <td>selamat malam allcaps pendusta allcaps provide...</td>\n",
       "      <td>[selamat, malam, allcaps, pendusta, allcaps, p...</td>\n",
       "      <td>[selamat, malam, allcaps, pendusta, allcaps, p...</td>\n",
       "      <td>[selamat, malam, allcaps, pendusta, allcaps, p...</td>\n",
       "      <td>selamat malam allcaps pendusta allcaps provide...</td>\n",
       "    </tr>\n",
       "  </tbody>\n",
       "</table>\n",
       "</div>"
      ],
      "text/plain": [
       "   Sentiment                                         Text Tweet  \\\n",
       "0          1  <USER_MENTION> #BOIKOT_<PROVIDER_NAME> Gunakan...   \n",
       "1          1  Saktinya balik lagi, alhamdulillah :v <PROVIDE...   \n",
       "2          0  Selamat pagi <PROVIDER_NAME>  bisa bantu kenap...   \n",
       "3          0  Dear <PROVIDER_NAME> akhir2 ini jaringan data ...   \n",
       "4          0            Selamat malam PENDUSTA <PROVIDER_NAME>    \n",
       "\n",
       "                                              step01  \\\n",
       "0  user_mention hashtag boikot hashtag provider_n...   \n",
       "1    saktinya balik lagi alhamdulillah provider_name   \n",
       "2  selamat pagi provider_name bisa bantu kenapa d...   \n",
       "3  dear provider_name akhir2 ini jaringan data le...   \n",
       "4  selamat malam allcaps pendusta allcaps provide...   \n",
       "\n",
       "                                              tokens  \\\n",
       "0  [user_mention, hashtag, boikot, hashtag, provi...   \n",
       "1  [saktinya, balik, lagi, alhamdulillah, provide...   \n",
       "2  [selamat, pagi, provider_name, bisa, bantu, ke...   \n",
       "3  [dear, provider_name, akhir2, ini, jaringan, d...   \n",
       "4  [selamat, malam, allcaps, pendusta, allcaps, p...   \n",
       "\n",
       "                                    tokens_perbaikan  \\\n",
       "0  [user_mention, hashtag, boikot, hashtag, provi...   \n",
       "1     [saktinya, balik, lagi, syukur, provider_name]   \n",
       "2  [selamat, pagi, provider_name, bisa, bantu, ke...   \n",
       "3  [dear, provider_name, akhir2, ini, jaringan, d...   \n",
       "4  [selamat, malam, allcaps, pendusta, allcaps, p...   \n",
       "\n",
       "                                        Stop_removal  \\\n",
       "0  [user_mention, hashtag, boikot, hashtag, provi...   \n",
       "1                  [saktinya, syukur, provider_name]   \n",
       "2  [selamat, pagi, provider_name, bantu, kamar, s...   \n",
       "3  [dear, provider_name, akhir2, jaringan, data, ...   \n",
       "4  [selamat, malam, allcaps, pendusta, allcaps, p...   \n",
       "\n",
       "                                              step02  \n",
       "0  user_mention hashtag boikot hashtag provider_n...  \n",
       "1                      saktinya syukur provider_name  \n",
       "2  selamat pagi provider_name bantu kamar sinyal ...  \n",
       "3  dear provider_name akhir2 jaringan data lemot ...  \n",
       "4  selamat malam allcaps pendusta allcaps provide...  "
      ]
     },
     "execution_count": 32,
     "metadata": {},
     "output_type": "execute_result"
    }
   ],
   "source": [
    "df_new.head()"
   ]
  },
  {
   "cell_type": "markdown",
   "id": "ffffd143",
   "metadata": {},
   "source": [
    "## Stemming - Menggunakan Sastrawi"
   ]
  },
  {
   "cell_type": "code",
   "execution_count": 33,
   "id": "3af9bf82",
   "metadata": {},
   "outputs": [
    {
     "name": "stdout",
     "output_type": "stream",
     "text": [
      "Requirement already satisfied: sastrawi in c:\\users\\user\\anaconda3\\lib\\site-packages (1.0.1)\n"
     ]
    }
   ],
   "source": [
    "!pip install sastrawi"
   ]
  },
  {
   "cell_type": "code",
   "execution_count": 34,
   "id": "e61f6952",
   "metadata": {},
   "outputs": [],
   "source": [
    "from Sastrawi.Stemmer.StemmerFactory import StemmerFactory\n",
    "factory = StemmerFactory()\n",
    "stemmer = factory.create_stemmer()"
   ]
  },
  {
   "cell_type": "code",
   "execution_count": 35,
   "id": "6e4382b6",
   "metadata": {},
   "outputs": [],
   "source": [
    "final_string = []\n",
    "s = \"\"\n",
    "for sentence in df_new[\"step02\"].values:\n",
    "    filteredSentence = []\n",
    "    EachReviewText = \"\"\n",
    "    s = (stemmer.stem(sentence))\n",
    "    filteredSentence.append(s)\n",
    "    \n",
    "    EachReviewText = ' '.join(filteredSentence)\n",
    "    final_string.append(EachReviewText)"
   ]
  },
  {
   "cell_type": "code",
   "execution_count": 36,
   "id": "984918af",
   "metadata": {},
   "outputs": [],
   "source": [
    "df_new[\"ProcessedText\"] = final_string"
   ]
  },
  {
   "cell_type": "code",
   "execution_count": 37,
   "id": "99af75cd",
   "metadata": {},
   "outputs": [
    {
     "data": {
      "text/html": [
       "<div>\n",
       "<style scoped>\n",
       "    .dataframe tbody tr th:only-of-type {\n",
       "        vertical-align: middle;\n",
       "    }\n",
       "\n",
       "    .dataframe tbody tr th {\n",
       "        vertical-align: top;\n",
       "    }\n",
       "\n",
       "    .dataframe thead th {\n",
       "        text-align: right;\n",
       "    }\n",
       "</style>\n",
       "<table border=\"1\" class=\"dataframe\">\n",
       "  <thead>\n",
       "    <tr style=\"text-align: right;\">\n",
       "      <th></th>\n",
       "      <th>Sentiment</th>\n",
       "      <th>Text Tweet</th>\n",
       "      <th>step01</th>\n",
       "      <th>tokens</th>\n",
       "      <th>tokens_perbaikan</th>\n",
       "      <th>Stop_removal</th>\n",
       "      <th>step02</th>\n",
       "      <th>ProcessedText</th>\n",
       "    </tr>\n",
       "  </thead>\n",
       "  <tbody>\n",
       "    <tr>\n",
       "      <th>0</th>\n",
       "      <td>1</td>\n",
       "      <td>&lt;USER_MENTION&gt; #BOIKOT_&lt;PROVIDER_NAME&gt; Gunakan...</td>\n",
       "      <td>user_mention hashtag boikot hashtag provider_n...</td>\n",
       "      <td>[user_mention, hashtag, boikot, hashtag, provi...</td>\n",
       "      <td>[user_mention, hashtag, boikot, hashtag, provi...</td>\n",
       "      <td>[user_mention, hashtag, boikot, hashtag, provi...</td>\n",
       "      <td>user_mention hashtag boikot hashtag provider_n...</td>\n",
       "      <td>user mention hashtag boikot hashtag provider n...</td>\n",
       "    </tr>\n",
       "    <tr>\n",
       "      <th>1</th>\n",
       "      <td>1</td>\n",
       "      <td>Saktinya balik lagi, alhamdulillah :v &lt;PROVIDE...</td>\n",
       "      <td>saktinya balik lagi alhamdulillah provider_name</td>\n",
       "      <td>[saktinya, balik, lagi, alhamdulillah, provide...</td>\n",
       "      <td>[saktinya, balik, lagi, syukur, provider_name]</td>\n",
       "      <td>[saktinya, syukur, provider_name]</td>\n",
       "      <td>saktinya syukur provider_name</td>\n",
       "      <td>sakti syukur provider name</td>\n",
       "    </tr>\n",
       "    <tr>\n",
       "      <th>2</th>\n",
       "      <td>0</td>\n",
       "      <td>Selamat pagi &lt;PROVIDER_NAME&gt;  bisa bantu kenap...</td>\n",
       "      <td>selamat pagi provider_name bisa bantu kenapa d...</td>\n",
       "      <td>[selamat, pagi, provider_name, bisa, bantu, ke...</td>\n",
       "      <td>[selamat, pagi, provider_name, bisa, bantu, ke...</td>\n",
       "      <td>[selamat, pagi, provider_name, bantu, kamar, s...</td>\n",
       "      <td>selamat pagi provider_name bantu kamar sinyal ...</td>\n",
       "      <td>selamat pagi provider name bantu kamar sinyal ...</td>\n",
       "    </tr>\n",
       "    <tr>\n",
       "      <th>3</th>\n",
       "      <td>0</td>\n",
       "      <td>Dear &lt;PROVIDER_NAME&gt; akhir2 ini jaringan data ...</td>\n",
       "      <td>dear provider_name akhir2 ini jaringan data le...</td>\n",
       "      <td>[dear, provider_name, akhir2, ini, jaringan, d...</td>\n",
       "      <td>[dear, provider_name, akhir2, ini, jaringan, d...</td>\n",
       "      <td>[dear, provider_name, akhir2, jaringan, data, ...</td>\n",
       "      <td>dear provider_name akhir2 jaringan data lemot ...</td>\n",
       "      <td>dear provider name akhir2 jaring data lot bang...</td>\n",
       "    </tr>\n",
       "    <tr>\n",
       "      <th>4</th>\n",
       "      <td>0</td>\n",
       "      <td>Selamat malam PENDUSTA &lt;PROVIDER_NAME&gt;</td>\n",
       "      <td>selamat malam allcaps pendusta allcaps provide...</td>\n",
       "      <td>[selamat, malam, allcaps, pendusta, allcaps, p...</td>\n",
       "      <td>[selamat, malam, allcaps, pendusta, allcaps, p...</td>\n",
       "      <td>[selamat, malam, allcaps, pendusta, allcaps, p...</td>\n",
       "      <td>selamat malam allcaps pendusta allcaps provide...</td>\n",
       "      <td>selamat malam allcaps dusta allcaps provider name</td>\n",
       "    </tr>\n",
       "    <tr>\n",
       "      <th>5</th>\n",
       "      <td>0</td>\n",
       "      <td>Untuk penembakan paket dari &lt;PRODUCT_NAME&gt; mas...</td>\n",
       "      <td>untuk penembakan paket dari product_name masih...</td>\n",
       "      <td>[untuk, penembakan, paket, dari, product_name,...</td>\n",
       "      <td>[untuk, penembakan, paket, dari, product_name,...</td>\n",
       "      <td>[penembakan, paket, product_name, gangguan, iy...</td>\n",
       "      <td>penembakan paket product_name gangguan iya pro...</td>\n",
       "      <td>tembak paket product name ganggu iya provider ...</td>\n",
       "    </tr>\n",
       "    <tr>\n",
       "      <th>6</th>\n",
       "      <td>1</td>\n",
       "      <td>&lt;PROVIDER_NAME&gt;  aku pakai &lt;PROVIDER_NAME&gt;, pa...</td>\n",
       "      <td>provider_name aku pakai provider_name paket pr...</td>\n",
       "      <td>[provider_name, aku, pakai, provider_name, pak...</td>\n",
       "      <td>[provider_name, aku, pakai, provider_name, pak...</td>\n",
       "      <td>[provider_name, pakai, provider_name, paket, p...</td>\n",
       "      <td>provider_name pakai provider_name paket produc...</td>\n",
       "      <td>provider name pakai provider name paket produc...</td>\n",
       "    </tr>\n",
       "    <tr>\n",
       "      <th>7</th>\n",
       "      <td>0</td>\n",
       "      <td>RT &lt;USER_MENTION&gt;: &lt;PROVIDER_NAME&gt; tak ada lag...</td>\n",
       "      <td>rt user_mention provider_name tak ada lagi dal...</td>\n",
       "      <td>[rt, user_mention, provider_name, tak, ada, la...</td>\n",
       "      <td>[rt, user_mention, provider_name, tak, ada, la...</td>\n",
       "      <td>[rt, user_mention, provider_name, kamus, perha...</td>\n",
       "      <td>rt user_mention provider_name kamus perhapean ...</td>\n",
       "      <td>rt user mention provider name kamus perhapean ...</td>\n",
       "    </tr>\n",
       "    <tr>\n",
       "      <th>8</th>\n",
       "      <td>0</td>\n",
       "      <td>keluhan gak ditanggapi. bikin emosi aja. pulsa...</td>\n",
       "      <td>keluhan gak ditanggapi bikin emosi aja pulsaku...</td>\n",
       "      <td>[keluhan, gak, ditanggapi, bikin, emosi, aja, ...</td>\n",
       "      <td>[keluhan, tidak, ditanggapi, membuat, emosi, s...</td>\n",
       "      <td>[keluhan, ditanggapi, emosi, pulsaku, dicuri, ...</td>\n",
       "      <td>keluhan ditanggapi emosi pulsaku dicuri soak d...</td>\n",
       "      <td>keluh tanggap emosi pulsa curi soak deh pulsa ...</td>\n",
       "    </tr>\n",
       "    <tr>\n",
       "      <th>9</th>\n",
       "      <td>0</td>\n",
       "      <td>#Bilboard iklan &lt;PROVIDER_NAME&gt; kok ada pesan ...</td>\n",
       "      <td>hashtag bilboard hashtag iklan provider_name k...</td>\n",
       "      <td>[hashtag, bilboard, hashtag, iklan, provider_n...</td>\n",
       "      <td>[hashtag, bilboard, hashtag, iklan, provider_n...</td>\n",
       "      <td>[hashtag, bilboard, hashtag, iklan, provider_n...</td>\n",
       "      <td>hashtag bilboard hashtag iklan provider_name p...</td>\n",
       "      <td>hashtag bilboard hashtag iklan provider name p...</td>\n",
       "    </tr>\n",
       "  </tbody>\n",
       "</table>\n",
       "</div>"
      ],
      "text/plain": [
       "   Sentiment                                         Text Tweet  \\\n",
       "0          1  <USER_MENTION> #BOIKOT_<PROVIDER_NAME> Gunakan...   \n",
       "1          1  Saktinya balik lagi, alhamdulillah :v <PROVIDE...   \n",
       "2          0  Selamat pagi <PROVIDER_NAME>  bisa bantu kenap...   \n",
       "3          0  Dear <PROVIDER_NAME> akhir2 ini jaringan data ...   \n",
       "4          0            Selamat malam PENDUSTA <PROVIDER_NAME>    \n",
       "5          0  Untuk penembakan paket dari <PRODUCT_NAME> mas...   \n",
       "6          1  <PROVIDER_NAME>  aku pakai <PROVIDER_NAME>, pa...   \n",
       "7          0  RT <USER_MENTION>: <PROVIDER_NAME> tak ada lag...   \n",
       "8          0  keluhan gak ditanggapi. bikin emosi aja. pulsa...   \n",
       "9          0  #Bilboard iklan <PROVIDER_NAME> kok ada pesan ...   \n",
       "\n",
       "                                              step01  \\\n",
       "0  user_mention hashtag boikot hashtag provider_n...   \n",
       "1    saktinya balik lagi alhamdulillah provider_name   \n",
       "2  selamat pagi provider_name bisa bantu kenapa d...   \n",
       "3  dear provider_name akhir2 ini jaringan data le...   \n",
       "4  selamat malam allcaps pendusta allcaps provide...   \n",
       "5  untuk penembakan paket dari product_name masih...   \n",
       "6  provider_name aku pakai provider_name paket pr...   \n",
       "7  rt user_mention provider_name tak ada lagi dal...   \n",
       "8  keluhan gak ditanggapi bikin emosi aja pulsaku...   \n",
       "9  hashtag bilboard hashtag iklan provider_name k...   \n",
       "\n",
       "                                              tokens  \\\n",
       "0  [user_mention, hashtag, boikot, hashtag, provi...   \n",
       "1  [saktinya, balik, lagi, alhamdulillah, provide...   \n",
       "2  [selamat, pagi, provider_name, bisa, bantu, ke...   \n",
       "3  [dear, provider_name, akhir2, ini, jaringan, d...   \n",
       "4  [selamat, malam, allcaps, pendusta, allcaps, p...   \n",
       "5  [untuk, penembakan, paket, dari, product_name,...   \n",
       "6  [provider_name, aku, pakai, provider_name, pak...   \n",
       "7  [rt, user_mention, provider_name, tak, ada, la...   \n",
       "8  [keluhan, gak, ditanggapi, bikin, emosi, aja, ...   \n",
       "9  [hashtag, bilboard, hashtag, iklan, provider_n...   \n",
       "\n",
       "                                    tokens_perbaikan  \\\n",
       "0  [user_mention, hashtag, boikot, hashtag, provi...   \n",
       "1     [saktinya, balik, lagi, syukur, provider_name]   \n",
       "2  [selamat, pagi, provider_name, bisa, bantu, ke...   \n",
       "3  [dear, provider_name, akhir2, ini, jaringan, d...   \n",
       "4  [selamat, malam, allcaps, pendusta, allcaps, p...   \n",
       "5  [untuk, penembakan, paket, dari, product_name,...   \n",
       "6  [provider_name, aku, pakai, provider_name, pak...   \n",
       "7  [rt, user_mention, provider_name, tak, ada, la...   \n",
       "8  [keluhan, tidak, ditanggapi, membuat, emosi, s...   \n",
       "9  [hashtag, bilboard, hashtag, iklan, provider_n...   \n",
       "\n",
       "                                        Stop_removal  \\\n",
       "0  [user_mention, hashtag, boikot, hashtag, provi...   \n",
       "1                  [saktinya, syukur, provider_name]   \n",
       "2  [selamat, pagi, provider_name, bantu, kamar, s...   \n",
       "3  [dear, provider_name, akhir2, jaringan, data, ...   \n",
       "4  [selamat, malam, allcaps, pendusta, allcaps, p...   \n",
       "5  [penembakan, paket, product_name, gangguan, iy...   \n",
       "6  [provider_name, pakai, provider_name, paket, p...   \n",
       "7  [rt, user_mention, provider_name, kamus, perha...   \n",
       "8  [keluhan, ditanggapi, emosi, pulsaku, dicuri, ...   \n",
       "9  [hashtag, bilboard, hashtag, iklan, provider_n...   \n",
       "\n",
       "                                              step02  \\\n",
       "0  user_mention hashtag boikot hashtag provider_n...   \n",
       "1                      saktinya syukur provider_name   \n",
       "2  selamat pagi provider_name bantu kamar sinyal ...   \n",
       "3  dear provider_name akhir2 jaringan data lemot ...   \n",
       "4  selamat malam allcaps pendusta allcaps provide...   \n",
       "5  penembakan paket product_name gangguan iya pro...   \n",
       "6  provider_name pakai provider_name paket produc...   \n",
       "7  rt user_mention provider_name kamus perhapean ...   \n",
       "8  keluhan ditanggapi emosi pulsaku dicuri soak d...   \n",
       "9  hashtag bilboard hashtag iklan provider_name p...   \n",
       "\n",
       "                                       ProcessedText  \n",
       "0  user mention hashtag boikot hashtag provider n...  \n",
       "1                         sakti syukur provider name  \n",
       "2  selamat pagi provider name bantu kamar sinyal ...  \n",
       "3  dear provider name akhir2 jaring data lot bang...  \n",
       "4  selamat malam allcaps dusta allcaps provider name  \n",
       "5  tembak paket product name ganggu iya provider ...  \n",
       "6  provider name pakai provider name paket produc...  \n",
       "7  rt user mention provider name kamus perhapean ...  \n",
       "8  keluh tanggap emosi pulsa curi soak deh pulsa ...  \n",
       "9  hashtag bilboard hashtag iklan provider name p...  "
      ]
     },
     "execution_count": 37,
     "metadata": {},
     "output_type": "execute_result"
    }
   ],
   "source": [
    "df_new.head(10)"
   ]
  },
  {
   "cell_type": "markdown",
   "id": "0f829f67",
   "metadata": {},
   "source": [
    "### simpan hasil preprocessing"
   ]
  },
  {
   "cell_type": "code",
   "execution_count": 38,
   "id": "878ebd83",
   "metadata": {},
   "outputs": [],
   "source": [
    "df_new.to_csv('clean_dataset_part02.csv',sep=\";\")"
   ]
  },
  {
   "cell_type": "markdown",
   "id": "adf75082",
   "metadata": {},
   "source": [
    "## Penataan Data"
   ]
  },
  {
   "cell_type": "markdown",
   "id": "9a5efa4c",
   "metadata": {},
   "source": [
    "### pembagian fitur dan label"
   ]
  },
  {
   "cell_type": "code",
   "execution_count": 39,
   "id": "4b3ff2a1",
   "metadata": {},
   "outputs": [],
   "source": [
    "import pandas as pd\n",
    "import numpy as np"
   ]
  },
  {
   "cell_type": "code",
   "execution_count": 40,
   "id": "19d00592",
   "metadata": {},
   "outputs": [],
   "source": [
    "dataset = pd.read_csv('clean_dataset_part02.csv',sep=\";\")"
   ]
  },
  {
   "cell_type": "code",
   "execution_count": 41,
   "id": "2256da0d",
   "metadata": {},
   "outputs": [
    {
     "name": "stdout",
     "output_type": "stream",
     "text": [
      "<class 'pandas.core.frame.DataFrame'>\n",
      "RangeIndex: 300 entries, 0 to 299\n",
      "Data columns (total 9 columns):\n",
      " #   Column            Non-Null Count  Dtype \n",
      "---  ------            --------------  ----- \n",
      " 0   Unnamed: 0        300 non-null    int64 \n",
      " 1   Sentiment         300 non-null    int64 \n",
      " 2   Text Tweet        300 non-null    object\n",
      " 3   step01            300 non-null    object\n",
      " 4   tokens            300 non-null    object\n",
      " 5   tokens_perbaikan  300 non-null    object\n",
      " 6   Stop_removal      300 non-null    object\n",
      " 7   step02            300 non-null    object\n",
      " 8   ProcessedText     300 non-null    object\n",
      "dtypes: int64(2), object(7)\n",
      "memory usage: 21.2+ KB\n"
     ]
    }
   ],
   "source": [
    "dataset.info()"
   ]
  },
  {
   "cell_type": "code",
   "execution_count": 42,
   "id": "f1302bcd",
   "metadata": {},
   "outputs": [],
   "source": [
    "dataset_feature = dataset['ProcessedText'].astype(str)"
   ]
  },
  {
   "cell_type": "code",
   "execution_count": 43,
   "id": "313f7f62",
   "metadata": {},
   "outputs": [
    {
     "data": {
      "text/plain": [
       "0    user mention hashtag boikot hashtag provider n...\n",
       "1                           sakti syukur provider name\n",
       "2    selamat pagi provider name bantu kamar sinyal ...\n",
       "3    dear provider name akhir2 jaring data lot bang...\n",
       "4    selamat malam allcaps dusta allcaps provider name\n",
       "5    tembak paket product name ganggu iya provider ...\n",
       "6    provider name pakai provider name paket produc...\n",
       "7    rt user mention provider name kamus perhapean ...\n",
       "8    keluh tanggap emosi pulsa curi soak deh pulsa ...\n",
       "9    hashtag bilboard hashtag iklan provider name p...\n",
       "Name: ProcessedText, dtype: object"
      ]
     },
     "execution_count": 43,
     "metadata": {},
     "output_type": "execute_result"
    }
   ],
   "source": [
    "dataset_feature.head(10)"
   ]
  },
  {
   "cell_type": "code",
   "execution_count": 44,
   "id": "15ecfdfc",
   "metadata": {},
   "outputs": [],
   "source": [
    "dataset_label = dataset['Sentiment']"
   ]
  },
  {
   "cell_type": "code",
   "execution_count": 45,
   "id": "cda564e1",
   "metadata": {},
   "outputs": [
    {
     "data": {
      "text/plain": [
       "0    1\n",
       "1    1\n",
       "2    0\n",
       "3    0\n",
       "4    0\n",
       "5    0\n",
       "6    1\n",
       "7    0\n",
       "8    0\n",
       "9    0\n",
       "Name: Sentiment, dtype: int64"
      ]
     },
     "execution_count": 45,
     "metadata": {},
     "output_type": "execute_result"
    }
   ],
   "source": [
    "dataset_label.head(10)"
   ]
  },
  {
   "cell_type": "markdown",
   "id": "d0586099",
   "metadata": {},
   "source": [
    "### distribusi label"
   ]
  },
  {
   "cell_type": "code",
   "execution_count": 46,
   "id": "5ac5daff",
   "metadata": {},
   "outputs": [],
   "source": [
    "import matplotlib.pyplot as plt\n",
    "import seaborn as sns\n",
    "%matplotlib inline"
   ]
  },
  {
   "cell_type": "code",
   "execution_count": 47,
   "id": "13696754",
   "metadata": {},
   "outputs": [
    {
     "name": "stderr",
     "output_type": "stream",
     "text": [
      "C:\\Users\\User\\AppData\\Local\\Temp\\ipykernel_11488\\1470841120.py:3: UserWarning: \n",
      "\n",
      "`distplot` is a deprecated function and will be removed in seaborn v0.14.0.\n",
      "\n",
      "Please adapt your code to use either `displot` (a figure-level function with\n",
      "similar flexibility) or `histplot` (an axes-level function for histograms).\n",
      "\n",
      "For a guide to updating your code to use the new functions, please see\n",
      "https://gist.github.com/mwaskom/de44147ed2974457ad6372750bbe5751\n",
      "\n",
      "  sns.distplot(dataset_label, label=f'target, skew: {dataset_label.skew():.2f}')\n"
     ]
    },
    {
     "data": {
      "image/png": "[encoded data removed]",
      "text/plain": [
       "<Figure size 1200x800 with 1 Axes>"
      ]
     },
     "metadata": {},
     "output_type": "display_data"
    }
   ],
   "source": [
    "# Visualizing the target variable\n",
    "plt.figure(figsize=(12,8))\n",
    "sns.distplot(dataset_label, label=f'target, skew: {dataset_label.skew():.2f}')\n",
    "plt.legend(loc='best')\n",
    "plt.show()"
   ]
  },
  {
   "cell_type": "code",
   "execution_count": 48,
   "id": "3c22cd80",
   "metadata": {},
   "outputs": [
    {
     "data": {
      "text/plain": [
       "0    161\n",
       "1    139\n",
       "Name: Sentiment, dtype: int64"
      ]
     },
     "execution_count": 48,
     "metadata": {},
     "output_type": "execute_result"
    }
   ],
   "source": [
    "dataset_label.value_counts()"
   ]
  },
  {
   "cell_type": "markdown",
   "id": "25b9e734",
   "metadata": {},
   "source": [
    "## Ekstraksi Fitur dan Machine Learning"
   ]
  },
  {
   "cell_type": "code",
   "execution_count": 49,
   "id": "7db2e26b",
   "metadata": {},
   "outputs": [],
   "source": [
    "from sklearn.model_selection import GridSearchCV\n",
    "from sklearn.metrics import accuracy_score\n",
    "from sklearn.metrics import recall_score\n",
    "from sklearn.metrics import f1_score\n",
    "from sklearn.metrics import precision_score\n",
    "from sklearn.model_selection import train_test_split"
   ]
  },
  {
   "cell_type": "code",
   "execution_count": 50,
   "id": "ec3ab5b9",
   "metadata": {},
   "outputs": [],
   "source": [
    "train_x, test_x, train_label, test_label = train_test_split(dataset_feature, dataset_label, test_size = 0.3, random_state=42)"
   ]
  },
  {
   "cell_type": "code",
   "execution_count": 51,
   "id": "68d266ee",
   "metadata": {},
   "outputs": [
    {
     "data": {
      "text/plain": [
       "203            sinyal 4 provider name dipalembang lancar\n",
       "266    provider name hooq manfaat beli kuota tonton y...\n",
       "152    ayo penuh viralkan keras hashtag boikot hashta...\n",
       "9      hashtag bilboard hashtag iklan provider name p...\n",
       "233                                    provider name ayo\n",
       "                             ...                        \n",
       "114    provider name terimakasih provider name menang...\n",
       "118    bonus kuota 2 gb number menit nelpon operator ...\n",
       "72     hashtag boikot hashtag provider name bentuk te...\n",
       "15     hashtag internet le let hashtag provider name ...\n",
       "10     provider name rasa repeated puasa subuh2 sahur...\n",
       "Name: ProcessedText, Length: 90, dtype: object"
      ]
     },
     "execution_count": 51,
     "metadata": {},
     "output_type": "execute_result"
    }
   ],
   "source": [
    "test_x"
   ]
  },
  {
   "cell_type": "markdown",
   "id": "61a224be",
   "metadata": {},
   "source": [
    "## load TF-IDF"
   ]
  },
  {
   "cell_type": "code",
   "execution_count": 52,
   "id": "c989bc34",
   "metadata": {},
   "outputs": [],
   "source": [
    "from sklearn.feature_extraction.text import TfidfVectorizer\n",
    "Tfidf_Vectorizer = TfidfVectorizer()"
   ]
  },
  {
   "cell_type": "markdown",
   "id": "f4780052",
   "metadata": {},
   "source": [
    "## Naive Bayes"
   ]
  },
  {
   "cell_type": "code",
   "execution_count": 53,
   "id": "e067eea2",
   "metadata": {},
   "outputs": [],
   "source": [
    "from sklearn.naive_bayes import MultinomialNB"
   ]
  },
  {
   "cell_type": "code",
   "execution_count": 54,
   "id": "a91767d9",
   "metadata": {},
   "outputs": [],
   "source": [
    "from sklearn.pipeline import Pipeline\n",
    "classifier_nb = Pipeline([\n",
    "    ('tfidf', TfidfVectorizer()),\n",
    "    ('model', MultinomialNB()),\n",
    "])"
   ]
  },
  {
   "cell_type": "code",
   "execution_count": 55,
   "id": "b4f176fd",
   "metadata": {},
   "outputs": [],
   "source": [
    "parameters_nb = {\n",
    "    'tfidf__ngram_range': [(1, 1), (1, 2), (1, 3), (1, 4)],\n",
    "    'model__alpha': (0.0001, 0.001, 0.1, 1, 10, 100)\n",
    "}"
   ]
  },
  {
   "cell_type": "code",
   "execution_count": 56,
   "id": "08f1c229",
   "metadata": {},
   "outputs": [],
   "source": [
    "classifier_nb = GridSearchCV(classifier_nb, parameters_nb, cv = 3, n_jobs=-1)"
   ]
  },
  {
   "cell_type": "code",
   "execution_count": 57,
   "id": "d224465d",
   "metadata": {},
   "outputs": [
    {
     "data": {
      "text/html": [
       "<style>#sk-container-id-1 {color: black;}#sk-container-id-1 pre{padding: 0;}#sk-container-id-1 div.sk-toggleable {background-color: white;}#sk-container-id-1 label.sk-toggleable__label {cursor: pointer;display: block;width: 100%;margin-bottom: 0;padding: 0.3em;box-sizing: border-box;text-align: center;}#sk-container-id-1 label.sk-toggleable__label-arrow:before {content: \"▸\";float: left;margin-right: 0.25em;color: #696969;}#sk-container-id-1 label.sk-toggleable__label-arrow:hover:before {color: black;}#sk-container-id-1 div.sk-estimator:hover label.sk-toggleable__label-arrow:before {color: black;}#sk-container-id-1 div.sk-toggleable__content {max-height: 0;max-width: 0;overflow: hidden;text-align: left;background-color: #f0f8ff;}#sk-container-id-1 div.sk-toggleable__content pre {margin: 0.2em;color: black;border-radius: 0.25em;background-color: #f0f8ff;}#sk-container-id-1 input.sk-toggleable__control:checked~div.sk-toggleable__content {max-height: 200px;max-width: 100%;overflow: auto;}#sk-container-id-1 input.sk-toggleable__control:checked~label.sk-toggleable__label-arrow:before {content: \"▾\";}#sk-container-id-1 div.sk-estimator input.sk-toggleable__control:checked~label.sk-toggleable__label {background-color: #d4ebff;}#sk-container-id-1 div.sk-label input.sk-toggleable__control:checked~label.sk-toggleable__label {background-color: #d4ebff;}#sk-container-id-1 input.sk-hidden--visually {border: 0;clip: rect(1px 1px 1px 1px);clip: rect(1px, 1px, 1px, 1px);height: 1px;margin: -1px;overflow: hidden;padding: 0;position: absolute;width: 1px;}#sk-container-id-1 div.sk-estimator {font-family: monospace;background-color: #f0f8ff;border: 1px dotted black;border-radius: 0.25em;box-sizing: border-box;margin-bottom: 0.5em;}#sk-container-id-1 div.sk-estimator:hover {background-color: #d4ebff;}#sk-container-id-1 div.sk-parallel-item::after {content: \"\";width: 100%;border-bottom: 1px solid gray;flex-grow: 1;}#sk-container-id-1 div.sk-label:hover label.sk-toggleable__label {background-color: #d4ebff;}#sk-container-id-1 div.sk-serial::before {content: \"\";position: absolute;border-left: 1px solid gray;box-sizing: border-box;top: 0;bottom: 0;left: 50%;z-index: 0;}#sk-container-id-1 div.sk-serial {display: flex;flex-direction: column;align-items: center;background-color: white;padding-right: 0.2em;padding-left: 0.2em;position: relative;}#sk-container-id-1 div.sk-item {position: relative;z-index: 1;}#sk-container-id-1 div.sk-parallel {display: flex;align-items: stretch;justify-content: center;background-color: white;position: relative;}#sk-container-id-1 div.sk-item::before, #sk-container-id-1 div.sk-parallel-item::before {content: \"\";position: absolute;border-left: 1px solid gray;box-sizing: border-box;top: 0;bottom: 0;left: 50%;z-index: -1;}#sk-container-id-1 div.sk-parallel-item {display: flex;flex-direction: column;z-index: 1;position: relative;background-color: white;}#sk-container-id-1 div.sk-parallel-item:first-child::after {align-self: flex-end;width: 50%;}#sk-container-id-1 div.sk-parallel-item:last-child::after {align-self: flex-start;width: 50%;}#sk-container-id-1 div.sk-parallel-item:only-child::after {width: 0;}#sk-container-id-1 div.sk-dashed-wrapped {border: 1px dashed gray;margin: 0 0.4em 0.5em 0.4em;box-sizing: border-box;padding-bottom: 0.4em;background-color: white;}#sk-container-id-1 div.sk-label label {font-family: monospace;font-weight: bold;display: inline-block;line-height: 1.2em;}#sk-container-id-1 div.sk-label-container {text-align: center;}#sk-container-id-1 div.sk-container {/* jupyter's `normalize.less` sets `[hidden] { display: none; }` but bootstrap.min.css set `[hidden] { display: none !important; }` so we also need the `!important` here to be able to override the default hidden behavior on the sphinx rendered scikit-learn.org. See: https://github.com/scikit-learn/scikit-learn/issues/21755 */display: inline-block !important;position: relative;}#sk-container-id-1 div.sk-text-repr-fallback {display: none;}</style><div id=\"sk-container-id-1\" class=\"sk-top-container\"><div class=\"sk-text-repr-fallback\"><pre>GridSearchCV(cv=3,\n",
       "             estimator=Pipeline(steps=[(&#x27;tfidf&#x27;, TfidfVectorizer()),\n",
       "                                       (&#x27;model&#x27;, MultinomialNB())]),\n",
       "             n_jobs=-1,\n",
       "             param_grid={&#x27;model__alpha&#x27;: (0.0001, 0.001, 0.1, 1, 10, 100),\n",
       "                         &#x27;tfidf__ngram_range&#x27;: [(1, 1), (1, 2), (1, 3),\n",
       "                                                (1, 4)]})</pre><b>In a Jupyter environment, please rerun this cell to show the HTML representation or trust the notebook. <br />On GitHub, the HTML representation is unable to render, please try loading this page with nbviewer.org.</b></div><div class=\"sk-container\" hidden><div class=\"sk-item sk-dashed-wrapped\"><div class=\"sk-label-container\"><div class=\"sk-label sk-toggleable\"><input class=\"sk-toggleable__control sk-hidden--visually\" id=\"sk-estimator-id-1\" type=\"checkbox\" ><label for=\"sk-estimator-id-1\" class=\"sk-toggleable__label sk-toggleable__label-arrow\">GridSearchCV</label><div class=\"sk-toggleable__content\"><pre>GridSearchCV(cv=3,\n",
       "             estimator=Pipeline(steps=[(&#x27;tfidf&#x27;, TfidfVectorizer()),\n",
       "                                       (&#x27;model&#x27;, MultinomialNB())]),\n",
       "             n_jobs=-1,\n",
       "             param_grid={&#x27;model__alpha&#x27;: (0.0001, 0.001, 0.1, 1, 10, 100),\n",
       "                         &#x27;tfidf__ngram_range&#x27;: [(1, 1), (1, 2), (1, 3),\n",
       "                                                (1, 4)]})</pre></div></div></div><div class=\"sk-parallel\"><div class=\"sk-parallel-item\"><div class=\"sk-item\"><div class=\"sk-label-container\"><div class=\"sk-label sk-toggleable\"><input class=\"sk-toggleable__control sk-hidden--visually\" id=\"sk-estimator-id-2\" type=\"checkbox\" ><label for=\"sk-estimator-id-2\" class=\"sk-toggleable__label sk-toggleable__label-arrow\">estimator: Pipeline</label><div class=\"sk-toggleable__content\"><pre>Pipeline(steps=[(&#x27;tfidf&#x27;, TfidfVectorizer()), (&#x27;model&#x27;, MultinomialNB())])</pre></div></div></div><div class=\"sk-serial\"><div class=\"sk-item\"><div class=\"sk-serial\"><div class=\"sk-item\"><div class=\"sk-estimator sk-toggleable\"><input class=\"sk-toggleable__control sk-hidden--visually\" id=\"sk-estimator-id-3\" type=\"checkbox\" ><label for=\"sk-estimator-id-3\" class=\"sk-toggleable__label sk-toggleable__label-arrow\">TfidfVectorizer</label><div class=\"sk-toggleable__content\"><pre>TfidfVectorizer()</pre></div></div></div><div class=\"sk-item\"><div class=\"sk-estimator sk-toggleable\"><input class=\"sk-toggleable__control sk-hidden--visually\" id=\"sk-estimator-id-4\" type=\"checkbox\" ><label for=\"sk-estimator-id-4\" class=\"sk-toggleable__label sk-toggleable__label-arrow\">MultinomialNB</label><div class=\"sk-toggleable__content\"><pre>MultinomialNB()</pre></div></div></div></div></div></div></div></div></div></div></div></div>"
      ],
      "text/plain": [
       "GridSearchCV(cv=3,\n",
       "             estimator=Pipeline(steps=[('tfidf', TfidfVectorizer()),\n",
       "                                       ('model', MultinomialNB())]),\n",
       "             n_jobs=-1,\n",
       "             param_grid={'model__alpha': (0.0001, 0.001, 0.1, 1, 10, 100),\n",
       "                         'tfidf__ngram_range': [(1, 1), (1, 2), (1, 3),\n",
       "                                                (1, 4)]})"
      ]
     },
     "execution_count": 57,
     "metadata": {},
     "output_type": "execute_result"
    }
   ],
   "source": [
    "classifier_nb.fit(train_x, train_label.ravel())"
   ]
  },
  {
   "cell_type": "code",
   "execution_count": 58,
   "id": "ea2a8e36",
   "metadata": {},
   "outputs": [
    {
     "name": "stdout",
     "output_type": "stream",
     "text": [
      "Accuracy Training set:  0.9761904761904762\n",
      "Accuracy Test set:  0.8444444444444444\n"
     ]
    }
   ],
   "source": [
    "y_pred_nb_train = classifier_nb.predict(train_x)\n",
    "accuracy_nb_train = accuracy_score(train_label, y_pred_nb_train)\n",
    "print(\"Accuracy Training set: \", accuracy_nb_train)\n",
    "\n",
    "y_pred_nb_test = classifier_nb.predict(test_x)\n",
    "accuracy_nb_test = accuracy_score(test_label, y_pred_nb_test)\n",
    "print(\"Accuracy Test set: \", accuracy_nb_test)"
   ]
  },
  {
   "cell_type": "code",
   "execution_count": 59,
   "id": "cdcdb80f",
   "metadata": {},
   "outputs": [
    {
     "name": "stdout",
     "output_type": "stream",
     "text": [
      "Recall Training set:  0.9761904761904762\n",
      "Recall Test set:  0.8444444444444444\n"
     ]
    }
   ],
   "source": [
    "recall_nb_train = recall_score(train_label, y_pred_nb_train, average='weighted')\n",
    "print(\"Recall Training set: \", recall_nb_train)\n",
    "\n",
    "recall_nb_test = recall_score(test_label, y_pred_nb_test, average='weighted')\n",
    "print(\"Recall Test set: \", recall_nb_test)"
   ]
  },
  {
   "cell_type": "code",
   "execution_count": 60,
   "id": "dc531198",
   "metadata": {},
   "outputs": [
    {
     "name": "stdout",
     "output_type": "stream",
     "text": [
      "Precision Training set:  0.976218714837454\n",
      "Precision Test set:  0.8459856082497592\n"
     ]
    }
   ],
   "source": [
    "precision_nb_train = precision_score(train_label, y_pred_nb_train, average='weighted')\n",
    "print(\"Precision Training set: \", precision_nb_train)\n",
    "\n",
    "precision_nb_test = precision_score(test_label, y_pred_nb_test, average='weighted')\n",
    "print(\"Precision Test set: \", precision_nb_test)"
   ]
  },
  {
   "cell_type": "code",
   "execution_count": 61,
   "id": "ce69cc48",
   "metadata": {},
   "outputs": [
    {
     "name": "stdout",
     "output_type": "stream",
     "text": [
      "F1 Training set:  0.9761823361823362\n",
      "F1 Test set:  0.8435059493883024\n"
     ]
    }
   ],
   "source": [
    "f1_nb_train = f1_score(train_label, y_pred_nb_train, average='weighted')\n",
    "print(\"F1 Training set: \", f1_nb_train)\n",
    "\n",
    "f1_nb_test = f1_score(test_label, y_pred_nb_test, average='weighted')\n",
    "print(\"F1 Test set: \", f1_nb_test)"
   ]
  },
  {
   "cell_type": "code",
   "execution_count": 62,
   "id": "bfd698ce",
   "metadata": {},
   "outputs": [
    {
     "data": {
      "image/png": "[encoded data removed]",
      "text/plain": [
       "<Figure size 640x480 with 2 Axes>"
      ]
     },
     "metadata": {},
     "output_type": "display_data"
    }
   ],
   "source": [
    "from sklearn.metrics import confusion_matrix\n",
    "sns.heatmap(confusion_matrix(test_label, y_pred_nb_test), annot=True, cmap = 'viridis', fmt='.0f')\n",
    "plt.xlabel(\"Predicted values\", fontdict = {'size':14}, labelpad = 10)\n",
    "plt.ylabel(\"Actual values\"   , fontdict = {'size':14}, labelpad = 10)\n",
    "plt.title (\"Confusion Matrix\", fontdict = {'size':18}, pad = 20)\n",
    "plt.show()"
   ]
  },
  {
   "cell_type": "code",
   "execution_count": 63,
   "id": "18a5bd6e",
   "metadata": {},
   "outputs": [
    {
     "data": {
      "text/html": [
       "<style>#sk-container-id-2 {color: black;}#sk-container-id-2 pre{padding: 0;}#sk-container-id-2 div.sk-toggleable {background-color: white;}#sk-container-id-2 label.sk-toggleable__label {cursor: pointer;display: block;width: 100%;margin-bottom: 0;padding: 0.3em;box-sizing: border-box;text-align: center;}#sk-container-id-2 label.sk-toggleable__label-arrow:before {content: \"▸\";float: left;margin-right: 0.25em;color: #696969;}#sk-container-id-2 label.sk-toggleable__label-arrow:hover:before {color: black;}#sk-container-id-2 div.sk-estimator:hover label.sk-toggleable__label-arrow:before {color: black;}#sk-container-id-2 div.sk-toggleable__content {max-height: 0;max-width: 0;overflow: hidden;text-align: left;background-color: #f0f8ff;}#sk-container-id-2 div.sk-toggleable__content pre {margin: 0.2em;color: black;border-radius: 0.25em;background-color: #f0f8ff;}#sk-container-id-2 input.sk-toggleable__control:checked~div.sk-toggleable__content {max-height: 200px;max-width: 100%;overflow: auto;}#sk-container-id-2 input.sk-toggleable__control:checked~label.sk-toggleable__label-arrow:before {content: \"▾\";}#sk-container-id-2 div.sk-estimator input.sk-toggleable__control:checked~label.sk-toggleable__label {background-color: #d4ebff;}#sk-container-id-2 div.sk-label input.sk-toggleable__control:checked~label.sk-toggleable__label {background-color: #d4ebff;}#sk-container-id-2 input.sk-hidden--visually {border: 0;clip: rect(1px 1px 1px 1px);clip: rect(1px, 1px, 1px, 1px);height: 1px;margin: -1px;overflow: hidden;padding: 0;position: absolute;width: 1px;}#sk-container-id-2 div.sk-estimator {font-family: monospace;background-color: #f0f8ff;border: 1px dotted black;border-radius: 0.25em;box-sizing: border-box;margin-bottom: 0.5em;}#sk-container-id-2 div.sk-estimator:hover {background-color: #d4ebff;}#sk-container-id-2 div.sk-parallel-item::after {content: \"\";width: 100%;border-bottom: 1px solid gray;flex-grow: 1;}#sk-container-id-2 div.sk-label:hover label.sk-toggleable__label {background-color: #d4ebff;}#sk-container-id-2 div.sk-serial::before {content: \"\";position: absolute;border-left: 1px solid gray;box-sizing: border-box;top: 0;bottom: 0;left: 50%;z-index: 0;}#sk-container-id-2 div.sk-serial {display: flex;flex-direction: column;align-items: center;background-color: white;padding-right: 0.2em;padding-left: 0.2em;position: relative;}#sk-container-id-2 div.sk-item {position: relative;z-index: 1;}#sk-container-id-2 div.sk-parallel {display: flex;align-items: stretch;justify-content: center;background-color: white;position: relative;}#sk-container-id-2 div.sk-item::before, #sk-container-id-2 div.sk-parallel-item::before {content: \"\";position: absolute;border-left: 1px solid gray;box-sizing: border-box;top: 0;bottom: 0;left: 50%;z-index: -1;}#sk-container-id-2 div.sk-parallel-item {display: flex;flex-direction: column;z-index: 1;position: relative;background-color: white;}#sk-container-id-2 div.sk-parallel-item:first-child::after {align-self: flex-end;width: 50%;}#sk-container-id-2 div.sk-parallel-item:last-child::after {align-self: flex-start;width: 50%;}#sk-container-id-2 div.sk-parallel-item:only-child::after {width: 0;}#sk-container-id-2 div.sk-dashed-wrapped {border: 1px dashed gray;margin: 0 0.4em 0.5em 0.4em;box-sizing: border-box;padding-bottom: 0.4em;background-color: white;}#sk-container-id-2 div.sk-label label {font-family: monospace;font-weight: bold;display: inline-block;line-height: 1.2em;}#sk-container-id-2 div.sk-label-container {text-align: center;}#sk-container-id-2 div.sk-container {/* jupyter's `normalize.less` sets `[hidden] { display: none; }` but bootstrap.min.css set `[hidden] { display: none !important; }` so we also need the `!important` here to be able to override the default hidden behavior on the sphinx rendered scikit-learn.org. See: https://github.com/scikit-learn/scikit-learn/issues/21755 */display: inline-block !important;position: relative;}#sk-container-id-2 div.sk-text-repr-fallback {display: none;}</style><div id=\"sk-container-id-2\" class=\"sk-top-container\"><div class=\"sk-text-repr-fallback\"><pre>Pipeline(steps=[(&#x27;tfidf&#x27;, TfidfVectorizer()),\n",
       "                (&#x27;model&#x27;, MultinomialNB(alpha=0.1))])</pre><b>In a Jupyter environment, please rerun this cell to show the HTML representation or trust the notebook. <br />On GitHub, the HTML representation is unable to render, please try loading this page with nbviewer.org.</b></div><div class=\"sk-container\" hidden><div class=\"sk-item sk-dashed-wrapped\"><div class=\"sk-label-container\"><div class=\"sk-label sk-toggleable\"><input class=\"sk-toggleable__control sk-hidden--visually\" id=\"sk-estimator-id-5\" type=\"checkbox\" ><label for=\"sk-estimator-id-5\" class=\"sk-toggleable__label sk-toggleable__label-arrow\">Pipeline</label><div class=\"sk-toggleable__content\"><pre>Pipeline(steps=[(&#x27;tfidf&#x27;, TfidfVectorizer()),\n",
       "                (&#x27;model&#x27;, MultinomialNB(alpha=0.1))])</pre></div></div></div><div class=\"sk-serial\"><div class=\"sk-item\"><div class=\"sk-estimator sk-toggleable\"><input class=\"sk-toggleable__control sk-hidden--visually\" id=\"sk-estimator-id-6\" type=\"checkbox\" ><label for=\"sk-estimator-id-6\" class=\"sk-toggleable__label sk-toggleable__label-arrow\">TfidfVectorizer</label><div class=\"sk-toggleable__content\"><pre>TfidfVectorizer()</pre></div></div></div><div class=\"sk-item\"><div class=\"sk-estimator sk-toggleable\"><input class=\"sk-toggleable__control sk-hidden--visually\" id=\"sk-estimator-id-7\" type=\"checkbox\" ><label for=\"sk-estimator-id-7\" class=\"sk-toggleable__label sk-toggleable__label-arrow\">MultinomialNB</label><div class=\"sk-toggleable__content\"><pre>MultinomialNB(alpha=0.1)</pre></div></div></div></div></div></div></div>"
      ],
      "text/plain": [
       "Pipeline(steps=[('tfidf', TfidfVectorizer()),\n",
       "                ('model', MultinomialNB(alpha=0.1))])"
      ]
     },
     "execution_count": 63,
     "metadata": {},
     "output_type": "execute_result"
    }
   ],
   "source": [
    "classifier_nb.best_estimator_"
   ]
  },
  {
   "cell_type": "code",
   "execution_count": 64,
   "id": "956c865b",
   "metadata": {},
   "outputs": [
    {
     "name": "stdout",
     "output_type": "stream",
     "text": [
      "model__alpha: 0.1\n",
      "tfidf__ngram_range: (1, 1)\n"
     ]
    }
   ],
   "source": [
    "for param_name in sorted(parameters_nb.keys()):\n",
    "    print(\"%s: %r\" % (param_name, classifier_nb.best_params_[param_name]))"
   ]
  },
  {
   "cell_type": "markdown",
   "id": "2e2090a9",
   "metadata": {},
   "source": [
    "## KNN"
   ]
  },
  {
   "cell_type": "code",
   "execution_count": 65,
   "id": "82edd5e6",
   "metadata": {},
   "outputs": [],
   "source": [
    "from sklearn.neighbors import KNeighborsClassifier"
   ]
  },
  {
   "cell_type": "code",
   "execution_count": 66,
   "id": "301a9bb7",
   "metadata": {},
   "outputs": [
    {
     "data": {
      "text/plain": [
       "dtype('O')"
      ]
     },
     "execution_count": 66,
     "metadata": {},
     "output_type": "execute_result"
    }
   ],
   "source": [
    "train_x.dtype"
   ]
  },
  {
   "cell_type": "code",
   "execution_count": 67,
   "id": "4e3006e9",
   "metadata": {},
   "outputs": [],
   "source": [
    "from sklearn.preprocessing import LabelEncoder\n",
    "\n",
    "label_encoder = LabelEncoder()\n",
    "train_x_encoded = label_encoder.fit_transform(train_x)"
   ]
  },
  {
   "cell_type": "code",
   "execution_count": 68,
   "id": "b43ae2c5",
   "metadata": {},
   "outputs": [],
   "source": [
    "test_x_encoded = label_encoder.fit_transform(test_x)"
   ]
  },
  {
   "cell_type": "code",
   "execution_count": 69,
   "id": "2c0c826f",
   "metadata": {},
   "outputs": [
    {
     "data": {
      "text/plain": [
       "dtype('int32')"
      ]
     },
     "execution_count": 69,
     "metadata": {},
     "output_type": "execute_result"
    }
   ],
   "source": [
    "train_x_encoded.dtype"
   ]
  },
  {
   "cell_type": "code",
   "execution_count": 70,
   "id": "3881f871",
   "metadata": {},
   "outputs": [],
   "source": [
    "train_x_encoded = train_x_encoded.reshape(-1, 1)\n",
    "# train_label = train_label.reshape(-1, 1)"
   ]
  },
  {
   "cell_type": "code",
   "execution_count": 71,
   "id": "2a992dfa",
   "metadata": {},
   "outputs": [],
   "source": [
    "test_x_encoded = test_x_encoded.reshape(-1, 1)"
   ]
  },
  {
   "cell_type": "code",
   "execution_count": 72,
   "id": "9ac815d1",
   "metadata": {},
   "outputs": [
    {
     "data": {
      "text/html": [
       "<style>#sk-container-id-3 {color: black;}#sk-container-id-3 pre{padding: 0;}#sk-container-id-3 div.sk-toggleable {background-color: white;}#sk-container-id-3 label.sk-toggleable__label {cursor: pointer;display: block;width: 100%;margin-bottom: 0;padding: 0.3em;box-sizing: border-box;text-align: center;}#sk-container-id-3 label.sk-toggleable__label-arrow:before {content: \"▸\";float: left;margin-right: 0.25em;color: #696969;}#sk-container-id-3 label.sk-toggleable__label-arrow:hover:before {color: black;}#sk-container-id-3 div.sk-estimator:hover label.sk-toggleable__label-arrow:before {color: black;}#sk-container-id-3 div.sk-toggleable__content {max-height: 0;max-width: 0;overflow: hidden;text-align: left;background-color: #f0f8ff;}#sk-container-id-3 div.sk-toggleable__content pre {margin: 0.2em;color: black;border-radius: 0.25em;background-color: #f0f8ff;}#sk-container-id-3 input.sk-toggleable__control:checked~div.sk-toggleable__content {max-height: 200px;max-width: 100%;overflow: auto;}#sk-container-id-3 input.sk-toggleable__control:checked~label.sk-toggleable__label-arrow:before {content: \"▾\";}#sk-container-id-3 div.sk-estimator input.sk-toggleable__control:checked~label.sk-toggleable__label {background-color: #d4ebff;}#sk-container-id-3 div.sk-label input.sk-toggleable__control:checked~label.sk-toggleable__label {background-color: #d4ebff;}#sk-container-id-3 input.sk-hidden--visually {border: 0;clip: rect(1px 1px 1px 1px);clip: rect(1px, 1px, 1px, 1px);height: 1px;margin: -1px;overflow: hidden;padding: 0;position: absolute;width: 1px;}#sk-container-id-3 div.sk-estimator {font-family: monospace;background-color: #f0f8ff;border: 1px dotted black;border-radius: 0.25em;box-sizing: border-box;margin-bottom: 0.5em;}#sk-container-id-3 div.sk-estimator:hover {background-color: #d4ebff;}#sk-container-id-3 div.sk-parallel-item::after {content: \"\";width: 100%;border-bottom: 1px solid gray;flex-grow: 1;}#sk-container-id-3 div.sk-label:hover label.sk-toggleable__label {background-color: #d4ebff;}#sk-container-id-3 div.sk-serial::before {content: \"\";position: absolute;border-left: 1px solid gray;box-sizing: border-box;top: 0;bottom: 0;left: 50%;z-index: 0;}#sk-container-id-3 div.sk-serial {display: flex;flex-direction: column;align-items: center;background-color: white;padding-right: 0.2em;padding-left: 0.2em;position: relative;}#sk-container-id-3 div.sk-item {position: relative;z-index: 1;}#sk-container-id-3 div.sk-parallel {display: flex;align-items: stretch;justify-content: center;background-color: white;position: relative;}#sk-container-id-3 div.sk-item::before, #sk-container-id-3 div.sk-parallel-item::before {content: \"\";position: absolute;border-left: 1px solid gray;box-sizing: border-box;top: 0;bottom: 0;left: 50%;z-index: -1;}#sk-container-id-3 div.sk-parallel-item {display: flex;flex-direction: column;z-index: 1;position: relative;background-color: white;}#sk-container-id-3 div.sk-parallel-item:first-child::after {align-self: flex-end;width: 50%;}#sk-container-id-3 div.sk-parallel-item:last-child::after {align-self: flex-start;width: 50%;}#sk-container-id-3 div.sk-parallel-item:only-child::after {width: 0;}#sk-container-id-3 div.sk-dashed-wrapped {border: 1px dashed gray;margin: 0 0.4em 0.5em 0.4em;box-sizing: border-box;padding-bottom: 0.4em;background-color: white;}#sk-container-id-3 div.sk-label label {font-family: monospace;font-weight: bold;display: inline-block;line-height: 1.2em;}#sk-container-id-3 div.sk-label-container {text-align: center;}#sk-container-id-3 div.sk-container {/* jupyter's `normalize.less` sets `[hidden] { display: none; }` but bootstrap.min.css set `[hidden] { display: none !important; }` so we also need the `!important` here to be able to override the default hidden behavior on the sphinx rendered scikit-learn.org. See: https://github.com/scikit-learn/scikit-learn/issues/21755 */display: inline-block !important;position: relative;}#sk-container-id-3 div.sk-text-repr-fallback {display: none;}</style><div id=\"sk-container-id-3\" class=\"sk-top-container\"><div class=\"sk-text-repr-fallback\"><pre>KNeighborsClassifier(n_neighbors=3)</pre><b>In a Jupyter environment, please rerun this cell to show the HTML representation or trust the notebook. <br />On GitHub, the HTML representation is unable to render, please try loading this page with nbviewer.org.</b></div><div class=\"sk-container\" hidden><div class=\"sk-item\"><div class=\"sk-estimator sk-toggleable\"><input class=\"sk-toggleable__control sk-hidden--visually\" id=\"sk-estimator-id-8\" type=\"checkbox\" checked><label for=\"sk-estimator-id-8\" class=\"sk-toggleable__label sk-toggleable__label-arrow\">KNeighborsClassifier</label><div class=\"sk-toggleable__content\"><pre>KNeighborsClassifier(n_neighbors=3)</pre></div></div></div></div></div>"
      ],
      "text/plain": [
       "KNeighborsClassifier(n_neighbors=3)"
      ]
     },
     "execution_count": 72,
     "metadata": {},
     "output_type": "execute_result"
    }
   ],
   "source": [
    "model = KNeighborsClassifier(n_neighbors=3)\n",
    "model.fit(train_x_encoded, train_label)"
   ]
  },
  {
   "cell_type": "code",
   "execution_count": 73,
   "id": "4f559794",
   "metadata": {},
   "outputs": [
    {
     "name": "stdout",
     "output_type": "stream",
     "text": [
      "Accuracy Training set:  0.8476190476190476\n",
      "Accuracy Test set:  0.5333333333333333\n"
     ]
    }
   ],
   "source": [
    "y_pred_knn_train = model.predict(train_x_encoded)\n",
    "accuracy_knn_train = accuracy_score(train_label, y_pred_knn_train)\n",
    "print(\"Accuracy Training set: \", accuracy_knn_train)\n",
    "\n",
    "y_pred_knn_test = model.predict(test_x_encoded)\n",
    "accuracy_knn_test = accuracy_score(test_label, y_pred_knn_test)\n",
    "print(\"Accuracy Test set: \", accuracy_knn_test)"
   ]
  },
  {
   "cell_type": "code",
   "execution_count": 74,
   "id": "eb3cfc98",
   "metadata": {},
   "outputs": [
    {
     "name": "stdout",
     "output_type": "stream",
     "text": [
      "Recall Training set:  0.8476190476190476\n",
      "Recall Test set:  0.5333333333333333\n"
     ]
    }
   ],
   "source": [
    "recall_knn_train = recall_score(train_label, y_pred_knn_train, average='weighted')\n",
    "print(\"Recall Training set: \", recall_knn_train)\n",
    "\n",
    "recall_knn_test = recall_score(test_label, y_pred_knn_test, average='weighted')\n",
    "print(\"Recall Test set: \", recall_knn_test)"
   ]
  },
  {
   "cell_type": "code",
   "execution_count": 75,
   "id": "049e3320",
   "metadata": {},
   "outputs": [
    {
     "name": "stdout",
     "output_type": "stream",
     "text": [
      "Precision Training set:  0.8475511695906431\n",
      "Precision Test set:  0.5333333333333333\n"
     ]
    }
   ],
   "source": [
    "precision_knn_train = precision_score(train_label, y_pred_knn_train, average='weighted')\n",
    "print(\"Precision Training set: \", precision_knn_train)\n",
    "\n",
    "precision_knn_test = precision_score(test_label, y_pred_knn_test, average='weighted')\n",
    "print(\"Precision Test set: \", precision_knn_test)"
   ]
  },
  {
   "cell_type": "code",
   "execution_count": 76,
   "id": "36dc48ea",
   "metadata": {},
   "outputs": [
    {
     "name": "stdout",
     "output_type": "stream",
     "text": [
      "F1 Training set:  0.8475078307940274\n",
      "F1 Test set:  0.5333333333333333\n"
     ]
    }
   ],
   "source": [
    "f1_knn_train = f1_score(train_label, y_pred_knn_train, average='weighted')\n",
    "print(\"F1 Training set: \", f1_knn_train)\n",
    "\n",
    "f1_knn_test = f1_score(test_label, y_pred_knn_test, average='weighted')\n",
    "print(\"F1 Test set: \", f1_knn_test)"
   ]
  },
  {
   "cell_type": "code",
   "execution_count": 77,
   "id": "ea50d3a4",
   "metadata": {},
   "outputs": [
    {
     "data": {
      "image/png": "[encoded data removed]",
      "text/plain": [
       "<Figure size 640x480 with 2 Axes>"
      ]
     },
     "metadata": {},
     "output_type": "display_data"
    }
   ],
   "source": [
    "from sklearn.metrics import confusion_matrix\n",
    "sns.heatmap(confusion_matrix(test_label, y_pred_knn_test), annot=True, cmap = 'viridis', fmt='.0f')\n",
    "plt.xlabel(\"Predicted values\", fontdict = {'size':14}, labelpad = 10)\n",
    "plt.ylabel(\"Actual values\"   , fontdict = {'size':14}, labelpad = 10)\n",
    "plt.title (\"Confusion Matrix\", fontdict = {'size':18}, pad = 20)\n",
    "plt.show()"
   ]
  },
  {
   "cell_type": "markdown",
   "id": "ce0bc969",
   "metadata": {},
   "source": [
    "## Visualisasi"
   ]
  },
  {
   "cell_type": "code",
   "execution_count": 78,
   "id": "b45ee888",
   "metadata": {},
   "outputs": [],
   "source": [
    "models = [        \n",
    "          ('Naive Bayes Multinomial', accuracy_nb_train, accuracy_nb_test),\n",
    "          ('KNN', accuracy_knn_train, accuracy_knn_test),\n",
    "         ]"
   ]
  },
  {
   "cell_type": "code",
   "execution_count": 79,
   "id": "81bfdc5e",
   "metadata": {},
   "outputs": [
    {
     "data": {
      "text/html": [
       "<div>\n",
       "<style scoped>\n",
       "    .dataframe tbody tr th:only-of-type {\n",
       "        vertical-align: middle;\n",
       "    }\n",
       "\n",
       "    .dataframe tbody tr th {\n",
       "        vertical-align: top;\n",
       "    }\n",
       "\n",
       "    .dataframe thead th {\n",
       "        text-align: right;\n",
       "    }\n",
       "</style>\n",
       "<table border=\"1\" class=\"dataframe\">\n",
       "  <thead>\n",
       "    <tr style=\"text-align: right;\">\n",
       "      <th></th>\n",
       "      <th>Model</th>\n",
       "      <th>Training Accuracy</th>\n",
       "      <th>Test Accuracy</th>\n",
       "    </tr>\n",
       "  </thead>\n",
       "  <tbody>\n",
       "    <tr>\n",
       "      <th>0</th>\n",
       "      <td>Naive Bayes Multinomial</td>\n",
       "      <td>0.976190</td>\n",
       "      <td>0.844444</td>\n",
       "    </tr>\n",
       "    <tr>\n",
       "      <th>1</th>\n",
       "      <td>KNN</td>\n",
       "      <td>0.847619</td>\n",
       "      <td>0.533333</td>\n",
       "    </tr>\n",
       "  </tbody>\n",
       "</table>\n",
       "</div>"
      ],
      "text/plain": [
       "                     Model  Training Accuracy  Test Accuracy\n",
       "0  Naive Bayes Multinomial           0.976190       0.844444\n",
       "1                      KNN           0.847619       0.533333"
      ]
     },
     "execution_count": 79,
     "metadata": {},
     "output_type": "execute_result"
    }
   ],
   "source": [
    "predict = pd.DataFrame(data = models, columns=['Model', 'Training Accuracy', 'Test Accuracy'])\n",
    "predict"
   ]
  },
  {
   "cell_type": "code",
   "execution_count": 80,
   "id": "7cb655d7",
   "metadata": {},
   "outputs": [],
   "source": [
    "models_comparison = [                        \n",
    "                        ('Naive Bayes Multinomial', accuracy_nb_test, recall_nb_test, precision_nb_test, f1_nb_test),\n",
    "                        ('KNN', accuracy_knn_test, recall_knn_test, precision_knn_test, f1_knn_test),                   \n",
    "                    ]"
   ]
  },
  {
   "cell_type": "code",
   "execution_count": 81,
   "id": "9d7e7221",
   "metadata": {},
   "outputs": [
    {
     "data": {
      "text/html": [
       "<div>\n",
       "<style scoped>\n",
       "    .dataframe tbody tr th:only-of-type {\n",
       "        vertical-align: middle;\n",
       "    }\n",
       "\n",
       "    .dataframe tbody tr th {\n",
       "        vertical-align: top;\n",
       "    }\n",
       "\n",
       "    .dataframe thead th {\n",
       "        text-align: right;\n",
       "    }\n",
       "</style>\n",
       "<table border=\"1\" class=\"dataframe\">\n",
       "  <thead>\n",
       "    <tr style=\"text-align: right;\">\n",
       "      <th></th>\n",
       "      <th>Model</th>\n",
       "      <th>Accuracy</th>\n",
       "      <th>Recall</th>\n",
       "      <th>Precision</th>\n",
       "      <th>F1 Weighted</th>\n",
       "    </tr>\n",
       "  </thead>\n",
       "  <tbody>\n",
       "    <tr>\n",
       "      <th>0</th>\n",
       "      <td>Naive Bayes Multinomial</td>\n",
       "      <td>0.844444</td>\n",
       "      <td>0.844444</td>\n",
       "      <td>0.845986</td>\n",
       "      <td>0.843506</td>\n",
       "    </tr>\n",
       "    <tr>\n",
       "      <th>1</th>\n",
       "      <td>KNN</td>\n",
       "      <td>0.533333</td>\n",
       "      <td>0.533333</td>\n",
       "      <td>0.533333</td>\n",
       "      <td>0.533333</td>\n",
       "    </tr>\n",
       "  </tbody>\n",
       "</table>\n",
       "</div>"
      ],
      "text/plain": [
       "                     Model  Accuracy    Recall  Precision  F1 Weighted\n",
       "0  Naive Bayes Multinomial  0.844444  0.844444   0.845986     0.843506\n",
       "1                      KNN  0.533333  0.533333   0.533333     0.533333"
      ]
     },
     "execution_count": 81,
     "metadata": {},
     "output_type": "execute_result"
    }
   ],
   "source": [
    "comparison = pd.DataFrame(data = models_comparison, columns=['Model', 'Accuracy', 'Recall', 'Precision', 'F1 Weighted'])\n",
    "comparison"
   ]
  },
  {
   "cell_type": "code",
   "execution_count": 82,
   "id": "5a1bc24b",
   "metadata": {},
   "outputs": [
    {
     "data": {
      "image/png": "[encoded data removed]",
      "text/plain": [
       "<Figure size 1400x1000 with 2 Axes>"
      ]
     },
     "metadata": {},
     "output_type": "display_data"
    }
   ],
   "source": [
    "import numpy as np\n",
    "\n",
    "f, axes = plt.subplots(2,1, figsize=(14,10))\n",
    "\n",
    "predict.sort_values(by=['Training Accuracy'], ascending=False, inplace=True)\n",
    "\n",
    "sns.barplot(x='Training Accuracy', y='Model', data = predict, palette='Blues_d', ax = axes[0])\n",
    "#axes[0].set(xlabel='Region', ylabel='Charges')\n",
    "axes[0].set_xlabel('Training Accuracy', size=16)\n",
    "axes[0].set_ylabel('Model')\n",
    "axes[0].set_xlim(0,1.0)\n",
    "axes[0].set_xticks(np.arange(0, 1.1, 0.1))\n",
    "\n",
    "predict.sort_values(by=['Test Accuracy'], ascending=False, inplace=True)\n",
    "\n",
    "sns.barplot(x='Test Accuracy', y='Model', data = predict, palette='Greens_d', ax = axes[1])\n",
    "#axes[0].set(xlabel='Region', ylabel='Charges')\n",
    "axes[1].set_xlabel('Test Accuracy', size=16)\n",
    "axes[1].set_ylabel('Model')\n",
    "axes[1].set_xlim(0,1.0)\n",
    "axes[1].set_xticks(np.arange(0, 1.1, 0.1))\n",
    "\n",
    "plt.show()"
   ]
  },
  {
   "cell_type": "markdown",
   "id": "a6054c9c",
   "metadata": {},
   "source": [
    "## simpan kedalam joblib"
   ]
  },
  {
   "cell_type": "code",
   "execution_count": 83,
   "id": "768af89e",
   "metadata": {},
   "outputs": [],
   "source": [
    "import joblib"
   ]
  },
  {
   "cell_type": "code",
   "execution_count": 86,
   "id": "278c440a",
   "metadata": {},
   "outputs": [
    {
     "data": {
      "text/plain": [
       "['classifier_nb.best_estimator_.sav']"
      ]
     },
     "execution_count": 86,
     "metadata": {},
     "output_type": "execute_result"
    }
   ],
   "source": [
    "# save the model to disk\n",
    "joblib.dump(classifier_nb.best_estimator_, 'classifier_nb.best_estimator_.sav', compress=1)"
   ]
  },
  {
   "cell_type": "code",
   "execution_count": null,
   "id": "6d40ba16",
   "metadata": {},
   "outputs": [],
   "source": []
  }
 ],
 "metadata": {
  "kernelspec": {
   "display_name": "Python 3 (ipykernel)",
   "language": "python",
   "name": "python3"
  },
  "language_info": {
   "codemirror_mode": {
    "name": "ipython",
    "version": 3
   },
   "file_extension": ".py",
   "mimetype": "text/x-python",
   "name": "python",
   "nbconvert_exporter": "python",
   "pygments_lexer": "ipython3",
   "version": "3.10.9"
  }
 },
 "nbformat": 4,
 "nbformat_minor": 5
}
